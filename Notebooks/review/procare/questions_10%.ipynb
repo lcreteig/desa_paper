{
 "cells": [
  {
   "cell_type": "code",
   "execution_count": 4,
   "metadata": {},
   "outputs": [],
   "source": [
    "import pandas as pd\n",
    "import warnings\n",
    "import matplotlib.pyplot as plt\n",
    "from src.helper_methods import *\n",
    "from src.pipe_store import *\n",
    "warnings.filterwarnings('ignore')\n",
    "\n",
    "\n",
    "# %matplotlib widget \n",
    "%matplotlib inline \n",
    "%config InlineBackend.figure_format = 'retina'\n",
    "%load_ext autoreload\n",
    "%autoreload 2"
   ]
  },
  {
   "cell_type": "markdown",
   "metadata": {},
   "source": [
    "# Constants"
   ]
  },
  {
   "cell_type": "code",
   "execution_count": 5,
   "metadata": {},
   "outputs": [],
   "source": [
    "class_I = { '44RMA', '45KE', '56R', '62EE', '62GRN', '62QE', '65QIA', '66NH', '71TD', '73ID', '74Y', '76ED', '76VDT', '80TLR', '94I', '97V', \n",
    "           '105S', '144QL', '150AAH', '150AH', '158T', '193AV', '207S', '245AS' }\n",
    "class_II_dr = {'4Q', '6C', '30D', '30G[DR]', '31FY', '31FH', '32H', '37S', '67F', '70DA', '70DRA', '71A', '74A', '74L', '96EV', '96HK', '108T', '140TV', '142M', '149H'}\n",
    "class_II_dq = {'45GV','45EV', '46VY'}\n",
    "\n",
    "RELEVANT_DESA_BAD_OLD = class_I | class_II_dr | class_II_dq \n",
    "\n",
    "RELEVANT_DESA_GOOD_OLD = {\n",
    "    '30C', '37F', '37YV[DQ]', '55PPA', '62LQ', '71ATD', '71QS', '73AN', '73TVS', '80I', '97S', \n",
    "    '130Q', '147L', '152A', '152RA', '152RR', '163RW', '173K', '177DT', '180E', '193PL', '267QE',\n",
    "    '44RT', '245V',\n",
    "}\n",
    "\n",
    "RELEVANT_DESA_BAD = {    \n",
    "    '71TD', '144QL', '70DRA', '80TLR', '70DA', '67F', '76ED', '76ET', '158T', '45EV'\n",
    "}\n",
    "\n",
    "RELEVANT_DESA_GOOD = {'163RW', '37FL', '173K', '152RA', '80I'}"
   ]
  },
  {
   "cell_type": "code",
   "execution_count": 6,
   "metadata": {},
   "outputs": [
    {
     "name": "stdout",
     "output_type": "stream",
     "text": [
      "Number of relevant bad DESA that are common in both findings is 9 out of 10\n",
      "Number of relevant bad DESA that are common in both findings is 4 out of 5\n"
     ]
    }
   ],
   "source": [
    "l = len(RELEVANT_DESA_BAD_OLD & RELEVANT_DESA_BAD)\n",
    "print(f'Number of relevant bad DESA that are common in both findings is {l} out of {len(RELEVANT_DESA_BAD)}')\n",
    "\n",
    "l = len(RELEVANT_DESA_GOOD_OLD & RELEVANT_DESA_GOOD)\n",
    "print(f'Number of relevant bad DESA that are common in both findings is {l} out of {len(RELEVANT_DESA_GOOD)}')"
   ]
  },
  {
   "cell_type": "markdown",
   "metadata": {},
   "source": [
    "# Loading Data"
   ]
  },
  {
   "cell_type": "code",
   "execution_count": 7,
   "metadata": {},
   "outputs": [
    {
     "data": {
      "text/plain": [
       "Index(['TransplantID', 'DESA_Status', 'EpvsHLA_Donor', '#DESA', 'DESA',\n",
       "       'RecipientAge_NOTR', 'DonorAge_NOTR', 'TypeOfDonor_NOTR',\n",
       "       'FailureCode10Y_R', 'GraftSurvival10Y_R', 'IL2rMoAb', 'CIPHour_DBD',\n",
       "       'CIPHour_DCD', 'LivingDonorNum'],\n",
       "      dtype='object')"
      ]
     },
     "execution_count": 7,
     "metadata": {},
     "output_type": "execute_result"
    }
   ],
   "source": [
    "path_cohort = '~/UMCUtrecht/KaplanMeier/DESAsurvival.pickle'\n",
    "path_antibody = '~/UMCUtrecht/20211104_mismatch_ep_db.pickle'\n",
    "df_abs = pd.read_pickle(path_antibody)\n",
    "df_cohort = pd.read_pickle(path_cohort)\n",
    "df = df_abs.merge(df_cohort, on='TransplantID')\n",
    "cols = [\n",
    "    'TransplantID', 'DESA_Status', 'EpvsHLA_Donor', '#DESA', 'DESA', 'RecipientAge_NOTR', \n",
    "    'DonorAge_NOTR', 'TypeOfDonor_NOTR', 'FailureCode10Y_R', 'GraftSurvival10Y_R', 'IL2rMoAb',\n",
    "    'CIPHour_DBD', 'CIPHour_DCD' , 'LivingDonorNum', # 'FailureCode10y'\n",
    "]\n",
    "df = df[cols]\n",
    "# df_deceased = df[df.TypeOfDonor_NOTR == 'Deceased'][cols]\n",
    "# df_living = df[df.TypeOfDonor_NOTR == 'Living'][cols]\n",
    "df.columns"
   ]
  },
  {
   "cell_type": "markdown",
   "metadata": {},
   "source": [
    "### 1. Method to calculate / define DESA has to be described in more detail > maybe good to add this information in Supplemental Material?\n",
    "    \n",
    "    Definition of DESA is already provided. We can provide some more explenation on the method we have used to choose clinical relevant DESA. \n",
    "    \n"
   ]
  },
  {
   "cell_type": "markdown",
   "metadata": {},
   "source": [
    "### 2. How did you define clinical relevance of DESA > add to Material&Method\n",
    "    \n",
    "    We have already did so."
   ]
  },
  {
   "cell_type": "markdown",
   "metadata": {},
   "source": [
    "### 3. Why chosen for the HLA epitope registry?\n",
    "\n",
    "    Maybe domain expert can adress this question better.\n",
    "    The question is asked by Sebastiaan and the context is as follow\n",
    "\n",
    "    “To define donor specific HLA epitopes, several algorithms are available (e.g., HLA Matchmaker, OLI Fusion Matchmaker, HLA Epitope Registry), but there are differences in eplet definitions between those algorithms (12). Finally, epitope definitions have been subject to change, especially for HLA-DQ (13), showing that there is no definitive and accepted list of eplets.”"
   ]
  },
  {
   "cell_type": "markdown",
   "metadata": {},
   "source": [
    "### 4. Which Follow Up time frame did you use to define clinically relevant DESA?\n",
    "    \n",
    "    10-year time window."
   ]
  },
  {
   "cell_type": "markdown",
   "metadata": {},
   "source": [
    "### 5. Which definition for GS did you use (overall-GS or death-censored GS)?\n",
    "    \n",
    "    death-censored GS [Make sure to mention this in the material and method]"
   ]
  },
  {
   "attachments": {},
   "cell_type": "markdown",
   "metadata": {},
   "source": [
    "### 6. Could you calculate GS with 71 clinically relevant DESA (both ‘bad’ and ‘good’ ones) with a confidence interval?\n",
    "    \n",
    "    We have to do a follow up to clarify the question.\n",
    "    \n",
    "    Technically we can not make 1 Kaplan meier plots for both bad & good DESA since there are 5 transplant that do have both. However, we can make separate ones which we already have."
   ]
  },
  {
   "cell_type": "markdown",
   "metadata": {},
   "source": [
    "### 7. In how many patients are both ‘bad’ and ‘good’ DESA present?"
   ]
  },
  {
   "cell_type": "code",
   "execution_count": 8,
   "metadata": {},
   "outputs": [],
   "source": [
    "ind_bad = df[df.TypeOfDonor_NOTR == 'Deceased'].DESA.apply(lambda x: bool(x & RELEVANT_DESA_BAD))\n",
    "ind_good = df[df.TypeOfDonor_NOTR == 'Deceased'].DESA.apply(lambda x: bool(x & RELEVANT_DESA_GOOD))"
   ]
  },
  {
   "cell_type": "code",
   "execution_count": 9,
   "metadata": {},
   "outputs": [
    {
     "name": "stdout",
     "output_type": "stream",
     "text": [
      "Number of patients with Bad DESA: 55\n",
      "Number of patients with Good DESA: 47\n",
      "Number of patients with both Baad & Good DESA: 2\n"
     ]
    }
   ],
   "source": [
    "print(f'Number of patients with Bad DESA: {ind_bad.sum()}')\n",
    "print(f'Number of patients with Good DESA: {ind_good.sum()}')\n",
    "print(f'Number of patients with both Baad & Good DESA: {(ind_bad & ind_good).sum()}')"
   ]
  },
  {
   "attachments": {},
   "cell_type": "markdown",
   "metadata": {},
   "source": [
    "### 8. How to deal with relevant and non relevant DESA? Is it possible that they level each other out?\n",
    "\n",
    "        Porbably yes!\n",
    "\n",
    "        - How many patients have relevant & irrelevant desa? \n",
    "              -> According to above analysis 5 Tx\n",
    "        - Among the 106 tx with relevant DESA what percentage has good or irrelevant DESA? \n",
    "              ->  Among the 106 Tx for deceased donors. 5 Tx has also good DESA and the rest irrelevant DESA.\n",
    "        - Could patients with irrelevant DESA have some clinically relevant DESA? \n",
    "              -> yes"
   ]
  },
  {
   "cell_type": "markdown",
   "metadata": {},
   "source": [
    "### 9. DESA: which loci, # per patient (median – range), MFI (median – range), etc.\n",
    "        - At which HLA Locus (A, B, C, DR, DQ) the Relevant DESA are pointing? \n",
    "        - How many relevant DESA exist in each patient?"
   ]
  },
  {
   "cell_type": "code",
   "execution_count": 10,
   "metadata": {},
   "outputs": [
    {
     "data": {
      "text/plain": [
       "{}              260\n",
       "{B}              27\n",
       "{DQB1}           18\n",
       "{DRB1}            5\n",
       "{DRB5}            3\n",
       "{DRB1, DRB5}      1\n",
       "{A}               1\n",
       "Name: EpvsHLA_Donor, dtype: int64"
      ]
     },
     "execution_count": 10,
     "metadata": {},
     "output_type": "execute_result"
    }
   ],
   "source": [
    "get_rel_hla = lambda x: {hla.split('*')[0] for ep, hla in x.items() if ep in RELEVANT_DESA_BAD}\n",
    "r = df[(df.TypeOfDonor_NOTR == 'Deceased') & (df.DESA_Status == 'DESA')]['EpvsHLA_Donor'].apply(get_rel_hla).value_counts()\n",
    "r\n",
    "# Column left: The set of HLA Locus at which relevant DESA are pointing\n",
    "# Column right: number of Tx\n",
    "# i.e.: 167 Tx do not have any relevant DESA"
   ]
  },
  {
   "attachments": {},
   "cell_type": "markdown",
   "metadata": {},
   "source": [
    "Henny Comment: Break down the numbers per HLA group!"
   ]
  },
  {
   "cell_type": "code",
   "execution_count": 11,
   "metadata": {},
   "outputs": [],
   "source": [
    "from collections import defaultdict  \n",
    "\n",
    "agg = defaultdict(lambda: 0, {})\n",
    "for item in r.iteritems():\n",
    "    hlas, num_tx = item[0], item[1]\n",
    "    for hla in hlas:\n",
    "        agg[hla] += num_tx"
   ]
  },
  {
   "cell_type": "code",
   "execution_count": 12,
   "metadata": {},
   "outputs": [
    {
     "data": {
      "text/plain": [
       "defaultdict(<function __main__.<lambda>()>,\n",
       "            {'B': 27, 'DQB1': 18, 'DRB1': 6, 'DRB5': 4, 'A': 1})"
      ]
     },
     "execution_count": 12,
     "metadata": {},
     "output_type": "execute_result"
    }
   ],
   "source": [
    "agg"
   ]
  },
  {
   "cell_type": "code",
   "execution_count": 13,
   "metadata": {},
   "outputs": [
    {
     "data": {
      "image/png": "[encoded data removed]",
      "text/plain": [
       "<Figure size 432x288 with 1 Axes>"
      ]
     },
     "metadata": {
      "image/png": {
       "height": 248,
       "width": 388
      },
      "needs_background": "light"
     },
     "output_type": "display_data"
    }
   ],
   "source": [
    "# X-axis: Number of HLA at which each relevant DESA is pointing\n",
    "# Y-axis: Number of Tx \n",
    "(\n",
    "    df[(df.TypeOfDonor_NOTR == 'Deceased') & (df.DESA_Status == 'DESA')]['EpvsHLA_Donor']\n",
    "    .apply(lambda x: len(get_rel_hla(x))).plot.hist() \n",
    ");"
   ]
  },
  {
   "cell_type": "code",
   "execution_count": 14,
   "metadata": {},
   "outputs": [
    {
     "data": {
      "text/plain": [
       "0    260\n",
       "1     37\n",
       "2      8\n",
       "3      7\n",
       "4      3\n",
       "Name: DESA, dtype: int64"
      ]
     },
     "execution_count": 14,
     "metadata": {},
     "output_type": "execute_result"
    }
   ],
   "source": [
    "df[(df.TypeOfDonor_NOTR == 'Deceased') & (df.DESA_Status == 'DESA')]['DESA'].apply(lambda x: len(x & RELEVANT_DESA_BAD)).value_counts()\n",
    "\n",
    "# Column left: Number of relevant DESA in each transplant\n",
    "# Column right: Number of Tx\n",
    "# i.e.: 209 Tx do not have any relevant DESA and 68 Tx have 1 DESA"
   ]
  },
  {
   "attachments": {},
   "cell_type": "markdown",
   "metadata": {},
   "source": [
    " Henny's comments: Put this table/data as a dist/hist plot figure in the suplement"
   ]
  },
  {
   "attachments": {},
   "cell_type": "markdown",
   "metadata": {},
   "source": [
    "### 10. Regarding the 47 epitopes found to be related to graft loss: Class I or II, MFI compared to non relevant DESA, interlocus DESA?\n",
    "        - the relevant DESA are both Claas I (24) and Class II (6). \n",
    "        - Question on MFI: Is this relevant, given that we already know that MFI is nor clinically relevant? provide the mean MFI?"
   ]
  },
  {
   "cell_type": "markdown",
   "metadata": {},
   "source": [
    "### 11. Idem for the 24 epitopes found to be related to graft survival?\n",
    "\n",
    "        - Is this the relevant good DESA?  "
   ]
  },
  {
   "cell_type": "markdown",
   "metadata": {},
   "source": [
    "### 12. Number of clinically relevant DESA per patient? In deceased donors 148 patients do have relevant DESA (meaning 3x per DESA on average). What is the presence of these relevant DESA in patients in the other DESA group?\n",
    "\n",
    "        - There is no record of relevant DESA in the blue group.\n",
    "        - How many times the good desa are present in the red group? 41 times"
   ]
  },
  {
   "cell_type": "markdown",
   "metadata": {},
   "source": [
    "### 13. Figure 2: are the different colors of DESA the same?\n",
    "\n",
    "Yes!! Question is vague"
   ]
  },
  {
   "attachments": {},
   "cell_type": "markdown",
   "metadata": {},
   "source": [
    "### 14. Figure 3: p-value Figure 3D and Figure 3F\n",
    "- With the new analysis all the figures are now statistically significant."
   ]
  },
  {
   "cell_type": "markdown",
   "metadata": {},
   "source": [
    "### 15. Description what is a virtual HLA molecule?\n",
    "\n",
    "Question is vague"
   ]
  },
  {
   "attachments": {},
   "cell_type": "markdown",
   "metadata": {},
   "source": [
    "### 16. Tineke Follow-up question: I also need detailed information about all DESAs (loci, number per patient)."
   ]
  },
  {
   "cell_type": "code",
   "execution_count": 40,
   "metadata": {},
   "outputs": [
    {
     "data": {
      "text/plain": [
       "304"
      ]
     },
     "execution_count": 40,
     "metadata": {},
     "output_type": "execute_result"
    }
   ],
   "source": [
    "df_dead = df[df['TypeOfDonor_NOTR'] == 'Deceased']\n",
    "list_set_desa = df_dead[df_dead.DESA_Status == 'DESA'].DESA.values\n",
    "desas = {ep for desa_set in list_set_desa for ep in desa_set}\n",
    "len(desas)"
   ]
  },
  {
   "cell_type": "code",
   "execution_count": 42,
   "metadata": {},
   "outputs": [
    {
     "data": {
      "text/plain": [
       "{A}                         69\n",
       "{B}                         54\n",
       "{DQB1}                      37\n",
       "{DRB1}                      24\n",
       "{B, A}                      17\n",
       "{C}                         13\n",
       "{DRB3}                      12\n",
       "{DRB4}                       7\n",
       "{DRB3, DRB1}                 6\n",
       "{B, C}                       6\n",
       "{DQB1, DRB1}                 5\n",
       "{DRB1, DRB5}                 5\n",
       "{DRB1, B}                    4\n",
       "{DRB4, DRB1}                 4\n",
       "{A, C}                       4\n",
       "{DQB1, A}                    4\n",
       "{DRB1, A}                    3\n",
       "{DRB5}                       2\n",
       "{DQA1, DQB1}                 2\n",
       "{DRB3, DRB1, A}              2\n",
       "{B, A, C}                    2\n",
       "{DQB1, C}                    2\n",
       "{DQA1, DRB1, DQB1}           2\n",
       "{DQB1, DRB4}                 2\n",
       "{DQB1, DRB1, A}              2\n",
       "{DQB1, DRB4, B}              1\n",
       "{DRB3, C}                    1\n",
       "{DQB1, DRB1, DRB5}           1\n",
       "{DQB1, DRB1, C}              1\n",
       "{DRB4, DRB1, A, C}           1\n",
       "{DRB3, DQB1, DRB1}           1\n",
       "{DQB1, DRB4, DRB1}           1\n",
       "{DRB3, B, DRB1, DQB1}        1\n",
       "{DQB1, A, C}                 1\n",
       "{DRB3, A, DRB5}              1\n",
       "{DQB1, B, C}                 1\n",
       "{B, DRB1, A, DRB5}           1\n",
       "{DQB1, DRB1, A, DRB5}        1\n",
       "{DRB3, B}                    1\n",
       "{DRB4, DRB1, A}              1\n",
       "{DRB3, DQB1, DRB1, DRB5}     1\n",
       "{B, DRB5}                    1\n",
       "{DQA1}                       1\n",
       "{DQA1, DRB1, A}              1\n",
       "{DRB3, A}                    1\n",
       "{B, DRB1, A}                 1\n",
       "{DRB3, B, DRB1, DQA1}        1\n",
       "{DQA1, DQB1, A}              1\n",
       "{DQB1, B, DQA1, C}           1\n",
       "{DRB3, DQB1}                 1\n",
       "Name: EpvsHLA_Donor, dtype: int64"
      ]
     },
     "execution_count": 42,
     "metadata": {},
     "output_type": "execute_result"
    }
   ],
   "source": [
    "get_hla = lambda x: {hla.split('*')[0] for ep, hla in x.items()}\n",
    "hla_vs_desa = df_dead[df_dead.DESA_Status == 'DESA']['EpvsHLA_Donor'].apply(get_hla).value_counts()\n",
    "hla_vs_desa"
   ]
  },
  {
   "cell_type": "code",
   "execution_count": null,
   "metadata": {},
   "outputs": [],
   "source": []
  }
 ],
 "metadata": {
  "kernelspec": {
   "display_name": "Python 3.8.6 ('desa_paper-IhoHddMh')",
   "language": "python",
   "name": "python3"
  },
  "language_info": {
   "codemirror_mode": {
    "name": "ipython",
    "version": 3
   },
   "file_extension": ".py",
   "mimetype": "text/x-python",
   "name": "python",
   "nbconvert_exporter": "python",
   "pygments_lexer": "ipython3",
   "version": "3.8.6"
  },
  "orig_nbformat": 4,
  "vscode": {
   "interpreter": {
    "hash": "708b3676616ca1f6951c8b5aa02ebb124c704b4e02ce2c0aaabd24e4641a0ea4"
   }
  }
 },
 "nbformat": 4,
 "nbformat_minor": 2
}
