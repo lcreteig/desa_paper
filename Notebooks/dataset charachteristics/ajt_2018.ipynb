{
 "cells": [
  {
   "cell_type": "code",
   "execution_count": 32,
   "metadata": {},
   "outputs": [
    {
     "name": "stdout",
     "output_type": "stream",
     "text": [
      "The autoreload extension is already loaded. To reload it, use:\n",
      "  %reload_ext autoreload\n"
     ]
    }
   ],
   "source": [
    "import pandas as pd\n",
    "import numpy as np\n",
    "import scipy\n",
    "from tableone import TableOne\n",
    "%load_ext autoreload\n",
    "%autoreload 2"
   ]
  },
  {
   "cell_type": "markdown",
   "metadata": {},
   "source": [
    "# Load Epitope Database"
   ]
  },
  {
   "cell_type": "code",
   "execution_count": 33,
   "metadata": {},
   "outputs": [],
   "source": [
    "path_cohort = '/Users/Danial/UMCUtrecht/ProcessedData/procare_1_cohort/procare_1_cohort.xlsx'\n",
    "df_cohort = pd.read_excel(path_cohort, skiprows=1)\n",
    "# path_cohort = '~/UMCUtrecht/KaplanMeier/DESAsurvival_original.csv'\n",
    "# df_cohort = pd.read_csv(path_cohort, sep=';', decimal=',')\n",
    "path_ajt = '/Users/Danial/UMCUtrecht/KaplanMeier/Kambruva_KM_Suplimentary_Data.xlsx'\n",
    "df_ajt = pd.read_excel(path_ajt)[['TransplantID', 'DSA']]"
   ]
  },
  {
   "cell_type": "code",
   "execution_count": 34,
   "metadata": {},
   "outputs": [
    {
     "data": {
      "text/plain": [
       "(4724, 132)"
      ]
     },
     "execution_count": 34,
     "metadata": {},
     "output_type": "execute_result"
    }
   ],
   "source": [
    "df = df_ajt.merge(df_cohort, on='TransplantID')\n",
    "df.shape"
   ]
  },
  {
   "cell_type": "markdown",
   "metadata": {},
   "source": [
    "# Missing CIPs\n",
    " The data set procare_1_cohort does not consider the imputed CIP hours. While the dataset DESAsurvival_original does consider the missing values"
   ]
  },
  {
   "cell_type": "code",
   "execution_count": 122,
   "metadata": {},
   "outputs": [
    {
     "data": {
      "text/plain": [
       "Index(['cPRA_ETgrps', 'HighPRA_NOTR', 'hPRA_ETgrps', 'Dialysis days (renine)',\n",
       "       'Last dialysis technique (renine)', 'DialysisYears',\n",
       "       'Initial Primary Disease', 'Initial Primary Disease (ET)',\n",
       "       'Initial Primary Disease (renine)', 'DialysisYN', 'PrimaryDisease',\n",
       "       'MembranousNephropathy', 'CysticAndCongenitalDiseases',\n",
       "       'DiabetesType_I', 'DiabetesType_II', 'Glomerulonephritis',\n",
       "       'Pyelo_Interstitial_Nephritis', 'OtherRenalDisease',\n",
       "       'VascularRenalDisease', 'UnknownRenalDisease'],\n",
       "      dtype='object')"
      ]
     },
     "execution_count": 122,
     "metadata": {},
     "output_type": "execute_result"
    }
   ],
   "source": [
    "df.columns[30:50]\n",
    "# df['InitialImmunosupp_NOTR'].values"
   ]
  },
  {
   "cell_type": "code",
   "execution_count": 125,
   "metadata": {},
   "outputs": [
    {
     "data": {
      "text/plain": [
       "Yes_haemo    2441\n",
       "Yes_peri     1712\n",
       "No            542\n",
       "Unknown        29\n",
       "Name: DialysisYN, dtype: int64"
      ]
     },
     "execution_count": 125,
     "metadata": {},
     "output_type": "execute_result"
    }
   ],
   "source": [
    "df['DialysisYN'].value_counts()"
   ]
  },
  {
   "cell_type": "code",
   "execution_count": 64,
   "metadata": {},
   "outputs": [
    {
     "data": {
      "text/plain": [
       "CIPHour    227\n",
       "dtype: int64"
      ]
     },
     "execution_count": 64,
     "metadata": {},
     "output_type": "execute_result"
    }
   ],
   "source": [
    "df[['CIPHour']].isna().sum()"
   ]
  },
  {
   "cell_type": "code",
   "execution_count": 36,
   "metadata": {},
   "outputs": [
    {
     "data": {
      "text/plain": [
       "Yes    3605\n",
       "No     1119\n",
       "dtype: int64"
      ]
     },
     "execution_count": 36,
     "metadata": {},
     "output_type": "execute_result"
    }
   ],
   "source": [
    "# 'Steroids_T0', 'MMF_T0', 'Aza_T0', 'Sirolimus_T0', 'Cyclosporin_T0', 'Tacrolimus_T0', 'Unknown_T0', 'Others_T0', CalcineurinInhibitor_T0, AntiProliferativeAgents_T0, ATG_T0, OKT3_T0, ATG_OKT3\n",
    "# df['Steroids_T0'].eq('Yes').sum()\n",
    "# df['Cyclosporin_T0'].eq('Yes').sum() + df['Tacrolimus_T0'].eq('Yes').sum()\n",
    "df['MMF_T0'].eq('Yes').sum()\n",
    "# df['ALG_ATG_OKT3_AntiPanTMoAb'].eq('Yes').sum()\n",
    "# print(df['MMF_T0'].eq('Yes').sum() + df['Aza_T0'].eq('Yes').sum())\n",
    "a = df[['MMF_T0', 'Aza_T0']].apply(lambda x: 'Yes'  if ((x[0] == 'Yes') | (x[1] == 'Yes')) else 'No', axis=1)\n",
    "a.value_counts()"
   ]
  },
  {
   "cell_type": "markdown",
   "metadata": {},
   "source": [
    "###  Table 1"
   ]
  },
  {
   "cell_type": "code",
   "execution_count": 73,
   "metadata": {},
   "outputs": [
    {
     "name": "stderr",
     "output_type": "stream",
     "text": [
      "/var/folders/dz/h73npvns6dscvynm6d4050wc0000gn/T/ipykernel_2147/904228272.py:20: SettingWithCopyWarning: \n",
      "A value is trying to be set on a copy of a slice from a DataFrame\n",
      "\n",
      "See the caveats in the documentation: https://pandas.pydata.org/pandas-docs/stable/user_guide/indexing.html#returning-a-view-versus-a-copy\n",
      "  df_t1['TypeCadaveric_NOTR'].fillna('Living', inplace=True)\n",
      "/var/folders/dz/h73npvns6dscvynm6d4050wc0000gn/T/ipykernel_2147/904228272.py:22: SettingWithCopyWarning: \n",
      "A value is trying to be set on a copy of a slice from a DataFrame.\n",
      "Try using .loc[row_indexer,col_indexer] = value instead\n",
      "\n",
      "See the caveats in the documentation: https://pandas.pydata.org/pandas-docs/stable/user_guide/indexing.html#returning-a-view-versus-a-copy\n",
      "  df_t1['CIPDeceadDonor'] = (df_t1['CIPHour_DBD'] + df_t1['CIPHour_DCD']).replace(0, np.nan)\n",
      "/var/folders/dz/h73npvns6dscvynm6d4050wc0000gn/T/ipykernel_2147/904228272.py:25: SettingWithCopyWarning: \n",
      "A value is trying to be set on a copy of a slice from a DataFrame.\n",
      "Try using .loc[row_indexer,col_indexer] = value instead\n",
      "\n",
      "See the caveats in the documentation: https://pandas.pydata.org/pandas-docs/stable/user_guide/indexing.html#returning-a-view-versus-a-copy\n",
      "  df_t1['CIPLivingDonor'] = v\n",
      "/var/folders/dz/h73npvns6dscvynm6d4050wc0000gn/T/ipykernel_2147/904228272.py:26: SettingWithCopyWarning: \n",
      "A value is trying to be set on a copy of a slice from a DataFrame\n",
      "\n",
      "See the caveats in the documentation: https://pandas.pydata.org/pandas-docs/stable/user_guide/indexing.html#returning-a-view-versus-a-copy\n",
      "  df_t1.drop(['CIPHour_DBD', 'CIPHour_DCD', 'CIPHour'], axis =1, inplace=True)\n",
      "/var/folders/dz/h73npvns6dscvynm6d4050wc0000gn/T/ipykernel_2147/904228272.py:27: SettingWithCopyWarning: \n",
      "A value is trying to be set on a copy of a slice from a DataFrame.\n",
      "Try using .loc[row_indexer,col_indexer] = value instead\n",
      "\n",
      "See the caveats in the documentation: https://pandas.pydata.org/pandas-docs/stable/user_guide/indexing.html#returning-a-view-versus-a-copy\n",
      "  df_t1['MMF/azathioprine'] = df[['MMF_T0', 'Aza_T0']].apply(lambda x: 'Yes'  if ((x[0] == 'Yes') | (x[1] == 'Yes')) else 'No', axis=1)\n",
      "/var/folders/dz/h73npvns6dscvynm6d4050wc0000gn/T/ipykernel_2147/904228272.py:28: SettingWithCopyWarning: \n",
      "A value is trying to be set on a copy of a slice from a DataFrame.\n",
      "Try using .loc[row_indexer,col_indexer] = value instead\n",
      "\n",
      "See the caveats in the documentation: https://pandas.pydata.org/pandas-docs/stable/user_guide/indexing.html#returning-a-view-versus-a-copy\n",
      "  df_t1['Cyclosporin/Tacrolimus'] = df[['Cyclosporin_T0', 'Tacrolimus_T0']].apply(lambda x: 'Yes'  if ((x[0] == 'Yes') | (x[1] == 'Yes')) else 'No', axis=1)\n",
      "/var/folders/dz/h73npvns6dscvynm6d4050wc0000gn/T/ipykernel_2147/904228272.py:29: SettingWithCopyWarning: \n",
      "A value is trying to be set on a copy of a slice from a DataFrame\n",
      "\n",
      "See the caveats in the documentation: https://pandas.pydata.org/pandas-docs/stable/user_guide/indexing.html#returning-a-view-versus-a-copy\n",
      "  df_t1.drop(['Cyclosporin_T0', 'Tacrolimus_T0', 'MMF_T0', 'Aza_T0'], axis =1, inplace=True)\n"
     ]
    }
   ],
   "source": [
    "# selected variables\n",
    "cols = [\n",
    "    'DSA', \n",
    "    'RecipientAge_NOTR', 'RecipientSex_NOTR', 'DialysisYears',\n",
    "    'DonorAge_NOTR', 'DonorSex_NOTR', \n",
    "    'TypeCadaveric_NOTR', \n",
    "    'CIPHour_DBD', 'CIPHour_DCD',\n",
    "    'CIPHour',\n",
    "    'Retransplant', \n",
    "    'CurrentPRA_NOTR',\n",
    "    'HighPRA_NOTR',\n",
    "    'ALG_ATG_OKT3_AntiPanTMoAb',\n",
    "    'IL2rMoAb_T0',\n",
    "    'NumMismatch_ABDR_broad',\n",
    "    'Steroids_T0', 'MMF_T0', 'Aza_T0', 'Sirolimus_T0', 'Cyclosporin_T0', 'Tacrolimus_T0', 'Unknown_T0', 'Others_T0',\n",
    "    'DialysisYN',\n",
    "    'TypeOfDonor_NOTR'\n",
    "]\n",
    "df_t1 = df[cols]\n",
    "df_t1['TypeCadaveric_NOTR'].fillna('Living', inplace=True)\n",
    "\n",
    "df_t1['CIPDeceadDonor'] = (df_t1['CIPHour_DBD'] + df_t1['CIPHour_DCD']).replace(0, np.nan)\n",
    "for g, v in df.groupby('TypeOfDonor_NOTR')['CIPHour']:\n",
    "    if g == 'Living':\n",
    "        df_t1['CIPLivingDonor'] = v\n",
    "df_t1.drop(['CIPHour_DBD', 'CIPHour_DCD', 'CIPHour'], axis =1, inplace=True)\n",
    "df_t1['MMF/azathioprine'] = df[['MMF_T0', 'Aza_T0']].apply(lambda x: 'Yes'  if ((x[0] == 'Yes') | (x[1] == 'Yes')) else 'No', axis=1)\n",
    "df_t1['Cyclosporin/Tacrolimus'] = df[['Cyclosporin_T0', 'Tacrolimus_T0']].apply(lambda x: 'Yes'  if ((x[0] == 'Yes') | (x[1] == 'Yes')) else 'No', axis=1)\n",
    "df_t1.drop(['Cyclosporin_T0', 'Tacrolimus_T0', 'MMF_T0', 'Aza_T0'], axis =1, inplace=True)"
   ]
  },
  {
   "cell_type": "code",
   "execution_count": 38,
   "metadata": {},
   "outputs": [],
   "source": [
    "df_t1.to_csv('/Users/Danial/UMCUtrecht/ProcessedData/tableone.csv')"
   ]
  },
  {
   "cell_type": "code",
   "execution_count": 39,
   "metadata": {},
   "outputs": [
    {
     "data": {
      "text/plain": [
       "True"
      ]
     },
     "execution_count": 39,
     "metadata": {},
     "output_type": "execute_result"
    }
   ],
   "source": [
    "'MMF/azathioprine' in df_t1.columns\n",
    "'Cyclosporin/Tacrolimus' in df_t1.columns"
   ]
  },
  {
   "cell_type": "code",
   "execution_count": 40,
   "metadata": {},
   "outputs": [
    {
     "data": {
      "text/html": [
       "<div>\n",
       "<style scoped>\n",
       "    .dataframe tbody tr th:only-of-type {\n",
       "        vertical-align: middle;\n",
       "    }\n",
       "\n",
       "    .dataframe tbody tr th {\n",
       "        vertical-align: top;\n",
       "    }\n",
       "\n",
       "    .dataframe thead tr th {\n",
       "        text-align: left;\n",
       "    }\n",
       "</style>\n",
       "<table border=\"1\" class=\"dataframe\">\n",
       "  <thead>\n",
       "    <tr>\n",
       "      <th></th>\n",
       "      <th></th>\n",
       "      <th colspan=\"6\" halign=\"left\">Grouped by DSA</th>\n",
       "    </tr>\n",
       "    <tr>\n",
       "      <th></th>\n",
       "      <th></th>\n",
       "      <th>Missing</th>\n",
       "      <th>Overall</th>\n",
       "      <th>0</th>\n",
       "      <th>1</th>\n",
       "      <th>P-Value</th>\n",
       "      <th>Test</th>\n",
       "    </tr>\n",
       "  </thead>\n",
       "  <tbody>\n",
       "    <tr>\n",
       "      <th>n</th>\n",
       "      <th></th>\n",
       "      <td></td>\n",
       "      <td>4724</td>\n",
       "      <td>4157</td>\n",
       "      <td>567</td>\n",
       "      <td></td>\n",
       "      <td></td>\n",
       "    </tr>\n",
       "    <tr>\n",
       "      <th>Recipiet Age, mean (SD)</th>\n",
       "      <th></th>\n",
       "      <td>0</td>\n",
       "      <td>45.5 (14.4)</td>\n",
       "      <td>45.6 (14.4)</td>\n",
       "      <td>44.2 (13.9)</td>\n",
       "      <td>0.022</td>\n",
       "      <td>Two Sample T-test</td>\n",
       "    </tr>\n",
       "    <tr>\n",
       "      <th rowspan=\"2\" valign=\"top\">Recipiet Sex, n (%)</th>\n",
       "      <th>Female</th>\n",
       "      <td>0</td>\n",
       "      <td>1894 (40.1)</td>\n",
       "      <td>1561 (37.6)</td>\n",
       "      <td>333 (58.7)</td>\n",
       "      <td>&lt;0.001</td>\n",
       "      <td>Chi-squared</td>\n",
       "    </tr>\n",
       "    <tr>\n",
       "      <th>Male</th>\n",
       "      <td></td>\n",
       "      <td>2830 (59.9)</td>\n",
       "      <td>2596 (62.4)</td>\n",
       "      <td>234 (41.3)</td>\n",
       "      <td></td>\n",
       "      <td></td>\n",
       "    </tr>\n",
       "    <tr>\n",
       "      <th>DialysisYears, mean (SD)</th>\n",
       "      <th></th>\n",
       "      <td>28</td>\n",
       "      <td>2.7 (2.5)</td>\n",
       "      <td>2.7 (2.4)</td>\n",
       "      <td>3.4 (3.0)</td>\n",
       "      <td>&lt;0.001</td>\n",
       "      <td>Two Sample T-test</td>\n",
       "    </tr>\n",
       "    <tr>\n",
       "      <th>Donor Age, mean (SD)</th>\n",
       "      <th></th>\n",
       "      <td>0</td>\n",
       "      <td>44.4 (15.0)</td>\n",
       "      <td>44.4 (14.9)</td>\n",
       "      <td>44.0 (15.8)</td>\n",
       "      <td>0.539</td>\n",
       "      <td>Two Sample T-test</td>\n",
       "    </tr>\n",
       "    <tr>\n",
       "      <th rowspan=\"2\" valign=\"top\">Donor Sex, n (%)</th>\n",
       "      <th>Female</th>\n",
       "      <td>0</td>\n",
       "      <td>2386 (50.5)</td>\n",
       "      <td>2128 (51.2)</td>\n",
       "      <td>258 (45.5)</td>\n",
       "      <td>0.011</td>\n",
       "      <td>Chi-squared</td>\n",
       "    </tr>\n",
       "    <tr>\n",
       "      <th>Male</th>\n",
       "      <td></td>\n",
       "      <td>2338 (49.5)</td>\n",
       "      <td>2029 (48.8)</td>\n",
       "      <td>309 (54.5)</td>\n",
       "      <td></td>\n",
       "      <td></td>\n",
       "    </tr>\n",
       "    <tr>\n",
       "      <th rowspan=\"3\" valign=\"top\">TypeCadaveric_NOTR, n (%)</th>\n",
       "      <th>Heartbeating</th>\n",
       "      <td>0</td>\n",
       "      <td>2427 (51.4)</td>\n",
       "      <td>2076 (49.9)</td>\n",
       "      <td>351 (61.9)</td>\n",
       "      <td>&lt;0.001</td>\n",
       "      <td>Chi-squared</td>\n",
       "    </tr>\n",
       "    <tr>\n",
       "      <th>Living</th>\n",
       "      <td></td>\n",
       "      <td>1487 (31.5)</td>\n",
       "      <td>1350 (32.5)</td>\n",
       "      <td>137 (24.2)</td>\n",
       "      <td></td>\n",
       "      <td></td>\n",
       "    </tr>\n",
       "    <tr>\n",
       "      <th>Non-heartbeating</th>\n",
       "      <td></td>\n",
       "      <td>810 (17.1)</td>\n",
       "      <td>731 (17.6)</td>\n",
       "      <td>79 (13.9)</td>\n",
       "      <td></td>\n",
       "      <td></td>\n",
       "    </tr>\n",
       "    <tr>\n",
       "      <th rowspan=\"2\" valign=\"top\">Retransplant, n (%)</th>\n",
       "      <th>No</th>\n",
       "      <td>0</td>\n",
       "      <td>4001 (84.7)</td>\n",
       "      <td>3704 (89.1)</td>\n",
       "      <td>297 (52.4)</td>\n",
       "      <td>&lt;0.001</td>\n",
       "      <td>Chi-squared</td>\n",
       "    </tr>\n",
       "    <tr>\n",
       "      <th>Yes</th>\n",
       "      <td></td>\n",
       "      <td>723 (15.3)</td>\n",
       "      <td>453 (10.9)</td>\n",
       "      <td>270 (47.6)</td>\n",
       "      <td></td>\n",
       "      <td></td>\n",
       "    </tr>\n",
       "    <tr>\n",
       "      <th>CurrentPRA_NOTR, mean (SD)</th>\n",
       "      <th></th>\n",
       "      <td>42</td>\n",
       "      <td>6.0 (17.5)</td>\n",
       "      <td>3.5 (12.9)</td>\n",
       "      <td>24.4 (30.7)</td>\n",
       "      <td>&lt;0.001</td>\n",
       "      <td>Two Sample T-test</td>\n",
       "    </tr>\n",
       "    <tr>\n",
       "      <th>HighPRA_NOTR, mean (SD)</th>\n",
       "      <th></th>\n",
       "      <td>42</td>\n",
       "      <td>13.8 (25.8)</td>\n",
       "      <td>9.8 (21.0)</td>\n",
       "      <td>43.6 (36.4)</td>\n",
       "      <td>&lt;0.001</td>\n",
       "      <td>Two Sample T-test</td>\n",
       "    </tr>\n",
       "    <tr>\n",
       "      <th rowspan=\"2\" valign=\"top\">ALG_ATG_OKT3_AntiPanTMoAb, n (%)</th>\n",
       "      <th>No</th>\n",
       "      <td>0</td>\n",
       "      <td>4540 (96.1)</td>\n",
       "      <td>4012 (96.5)</td>\n",
       "      <td>528 (93.1)</td>\n",
       "      <td>&lt;0.001</td>\n",
       "      <td>Chi-squared</td>\n",
       "    </tr>\n",
       "    <tr>\n",
       "      <th>Yes</th>\n",
       "      <td></td>\n",
       "      <td>184 (3.9)</td>\n",
       "      <td>145 (3.5)</td>\n",
       "      <td>39 (6.9)</td>\n",
       "      <td></td>\n",
       "      <td></td>\n",
       "    </tr>\n",
       "    <tr>\n",
       "      <th rowspan=\"2\" valign=\"top\">IL2rMoAb_T0, n (%)</th>\n",
       "      <th>No</th>\n",
       "      <td>0</td>\n",
       "      <td>3702 (78.4)</td>\n",
       "      <td>3244 (78.0)</td>\n",
       "      <td>458 (80.8)</td>\n",
       "      <td>0.137</td>\n",
       "      <td>Chi-squared</td>\n",
       "    </tr>\n",
       "    <tr>\n",
       "      <th>Yes</th>\n",
       "      <td></td>\n",
       "      <td>1022 (21.6)</td>\n",
       "      <td>913 (22.0)</td>\n",
       "      <td>109 (19.2)</td>\n",
       "      <td></td>\n",
       "      <td></td>\n",
       "    </tr>\n",
       "    <tr>\n",
       "      <th>NumMismatch_ABDR_broad, mean (SD)</th>\n",
       "      <th></th>\n",
       "      <td>39</td>\n",
       "      <td>2.4 (1.5)</td>\n",
       "      <td>2.3 (1.5)</td>\n",
       "      <td>2.4 (1.3)</td>\n",
       "      <td>0.092</td>\n",
       "      <td>Two Sample T-test</td>\n",
       "    </tr>\n",
       "    <tr>\n",
       "      <th rowspan=\"2\" valign=\"top\">Steroids_T0, n (%)</th>\n",
       "      <th>No</th>\n",
       "      <td>0</td>\n",
       "      <td>108 (2.3)</td>\n",
       "      <td>88 (2.1)</td>\n",
       "      <td>20 (3.5)</td>\n",
       "      <td>0.035</td>\n",
       "      <td>Chi-squared</td>\n",
       "    </tr>\n",
       "    <tr>\n",
       "      <th>Yes</th>\n",
       "      <td></td>\n",
       "      <td>4616 (97.7)</td>\n",
       "      <td>4069 (97.9)</td>\n",
       "      <td>547 (96.5)</td>\n",
       "      <td></td>\n",
       "      <td></td>\n",
       "    </tr>\n",
       "    <tr>\n",
       "      <th rowspan=\"2\" valign=\"top\">Sirolimus_T0, n (%)</th>\n",
       "      <th>No</th>\n",
       "      <td>0</td>\n",
       "      <td>4438 (93.9)</td>\n",
       "      <td>3897 (93.7)</td>\n",
       "      <td>541 (95.4)</td>\n",
       "      <td>0.118</td>\n",
       "      <td>Chi-squared</td>\n",
       "    </tr>\n",
       "    <tr>\n",
       "      <th>Yes</th>\n",
       "      <td></td>\n",
       "      <td>286 (6.1)</td>\n",
       "      <td>260 (6.3)</td>\n",
       "      <td>26 (4.6)</td>\n",
       "      <td></td>\n",
       "      <td></td>\n",
       "    </tr>\n",
       "    <tr>\n",
       "      <th rowspan=\"2\" valign=\"top\">Unknown_T0, n (%)</th>\n",
       "      <th>No</th>\n",
       "      <td>0</td>\n",
       "      <td>4707 (99.6)</td>\n",
       "      <td>4143 (99.7)</td>\n",
       "      <td>564 (99.5)</td>\n",
       "      <td>0.448</td>\n",
       "      <td>Fisher's exact</td>\n",
       "    </tr>\n",
       "    <tr>\n",
       "      <th>Yes</th>\n",
       "      <td></td>\n",
       "      <td>17 (0.4)</td>\n",
       "      <td>14 (0.3)</td>\n",
       "      <td>3 (0.5)</td>\n",
       "      <td></td>\n",
       "      <td></td>\n",
       "    </tr>\n",
       "    <tr>\n",
       "      <th rowspan=\"2\" valign=\"top\">Others_T0, n (%)</th>\n",
       "      <th>No</th>\n",
       "      <td>0</td>\n",
       "      <td>4124 (87.3)</td>\n",
       "      <td>3607 (86.8)</td>\n",
       "      <td>517 (91.2)</td>\n",
       "      <td>0.003</td>\n",
       "      <td>Chi-squared</td>\n",
       "    </tr>\n",
       "    <tr>\n",
       "      <th>Yes</th>\n",
       "      <td></td>\n",
       "      <td>600 (12.7)</td>\n",
       "      <td>550 (13.2)</td>\n",
       "      <td>50 (8.8)</td>\n",
       "      <td></td>\n",
       "      <td></td>\n",
       "    </tr>\n",
       "    <tr>\n",
       "      <th rowspan=\"4\" valign=\"top\">DialysisYN, n (%)</th>\n",
       "      <th>No</th>\n",
       "      <td>0</td>\n",
       "      <td>542 (11.5)</td>\n",
       "      <td>495 (11.9)</td>\n",
       "      <td>47 (8.3)</td>\n",
       "      <td>0.001</td>\n",
       "      <td>Chi-squared (warning: expected count &lt; 5)</td>\n",
       "    </tr>\n",
       "    <tr>\n",
       "      <th>Unknown</th>\n",
       "      <td></td>\n",
       "      <td>29 (0.6)</td>\n",
       "      <td>22 (0.5)</td>\n",
       "      <td>7 (1.2)</td>\n",
       "      <td></td>\n",
       "      <td></td>\n",
       "    </tr>\n",
       "    <tr>\n",
       "      <th>Yes_haemo</th>\n",
       "      <td></td>\n",
       "      <td>2441 (51.7)</td>\n",
       "      <td>2114 (50.9)</td>\n",
       "      <td>327 (57.7)</td>\n",
       "      <td></td>\n",
       "      <td></td>\n",
       "    </tr>\n",
       "    <tr>\n",
       "      <th>Yes_peri</th>\n",
       "      <td></td>\n",
       "      <td>1712 (36.2)</td>\n",
       "      <td>1526 (36.7)</td>\n",
       "      <td>186 (32.8)</td>\n",
       "      <td></td>\n",
       "      <td></td>\n",
       "    </tr>\n",
       "    <tr>\n",
       "      <th>CIPDeceadDonor, mean (SD)</th>\n",
       "      <th></th>\n",
       "      <td>1564</td>\n",
       "      <td>21.8 (7.2)</td>\n",
       "      <td>21.7 (7.3)</td>\n",
       "      <td>22.8 (6.8)</td>\n",
       "      <td>0.002</td>\n",
       "      <td>Two Sample T-test</td>\n",
       "    </tr>\n",
       "    <tr>\n",
       "      <th>CIPLivingDonor, mean (SD)</th>\n",
       "      <th></th>\n",
       "      <td>3389</td>\n",
       "      <td>2.5 (1.6)</td>\n",
       "      <td>2.5 (1.6)</td>\n",
       "      <td>2.5 (1.0)</td>\n",
       "      <td>0.868</td>\n",
       "      <td>Two Sample T-test</td>\n",
       "    </tr>\n",
       "    <tr>\n",
       "      <th rowspan=\"2\" valign=\"top\">MMF/azathioprine, n (%)</th>\n",
       "      <th>No</th>\n",
       "      <td>0</td>\n",
       "      <td>1119 (23.7)</td>\n",
       "      <td>994 (23.9)</td>\n",
       "      <td>125 (22.0)</td>\n",
       "      <td>0.327</td>\n",
       "      <td>Chi-squared</td>\n",
       "    </tr>\n",
       "    <tr>\n",
       "      <th>Yes</th>\n",
       "      <td></td>\n",
       "      <td>3605 (76.3)</td>\n",
       "      <td>3163 (76.1)</td>\n",
       "      <td>442 (78.0)</td>\n",
       "      <td></td>\n",
       "      <td></td>\n",
       "    </tr>\n",
       "    <tr>\n",
       "      <th rowspan=\"2\" valign=\"top\">Cyclosporin/Tacrolimus, n (%)</th>\n",
       "      <th>No</th>\n",
       "      <td>0</td>\n",
       "      <td>290 (6.1)</td>\n",
       "      <td>265 (6.4)</td>\n",
       "      <td>25 (4.4)</td>\n",
       "      <td>0.067</td>\n",
       "      <td>Chi-squared</td>\n",
       "    </tr>\n",
       "    <tr>\n",
       "      <th>Yes</th>\n",
       "      <td></td>\n",
       "      <td>4434 (93.9)</td>\n",
       "      <td>3892 (93.6)</td>\n",
       "      <td>542 (95.6)</td>\n",
       "      <td></td>\n",
       "      <td></td>\n",
       "    </tr>\n",
       "  </tbody>\n",
       "</table>\n",
       "</div><br />[1] Chi-squared tests for the following variables may be invalid due to the low number of observations: DialysisYN.<br />"
      ],
      "text/plain": [
       "                                                   Grouped by DSA                                                                                          \n",
       "                                                          Missing      Overall            0            1 P-Value                                       Test\n",
       "n                                                                         4724         4157          567                                                   \n",
       "Recipiet Age, mean (SD)                                         0  45.5 (14.4)  45.6 (14.4)  44.2 (13.9)   0.022                          Two Sample T-test\n",
       "Recipiet Sex, n (%)               Female                        0  1894 (40.1)  1561 (37.6)   333 (58.7)  <0.001                                Chi-squared\n",
       "                                  Male                             2830 (59.9)  2596 (62.4)   234 (41.3)                                                   \n",
       "DialysisYears, mean (SD)                                       28    2.7 (2.5)    2.7 (2.4)    3.4 (3.0)  <0.001                          Two Sample T-test\n",
       "Donor Age, mean (SD)                                            0  44.4 (15.0)  44.4 (14.9)  44.0 (15.8)   0.539                          Two Sample T-test\n",
       "Donor Sex, n (%)                  Female                        0  2386 (50.5)  2128 (51.2)   258 (45.5)   0.011                                Chi-squared\n",
       "                                  Male                             2338 (49.5)  2029 (48.8)   309 (54.5)                                                   \n",
       "TypeCadaveric_NOTR, n (%)         Heartbeating                  0  2427 (51.4)  2076 (49.9)   351 (61.9)  <0.001                                Chi-squared\n",
       "                                  Living                           1487 (31.5)  1350 (32.5)   137 (24.2)                                                   \n",
       "                                  Non-heartbeating                  810 (17.1)   731 (17.6)    79 (13.9)                                                   \n",
       "Retransplant, n (%)               No                            0  4001 (84.7)  3704 (89.1)   297 (52.4)  <0.001                                Chi-squared\n",
       "                                  Yes                               723 (15.3)   453 (10.9)   270 (47.6)                                                   \n",
       "CurrentPRA_NOTR, mean (SD)                                     42   6.0 (17.5)   3.5 (12.9)  24.4 (30.7)  <0.001                          Two Sample T-test\n",
       "HighPRA_NOTR, mean (SD)                                        42  13.8 (25.8)   9.8 (21.0)  43.6 (36.4)  <0.001                          Two Sample T-test\n",
       "ALG_ATG_OKT3_AntiPanTMoAb, n (%)  No                            0  4540 (96.1)  4012 (96.5)   528 (93.1)  <0.001                                Chi-squared\n",
       "                                  Yes                                184 (3.9)    145 (3.5)     39 (6.9)                                                   \n",
       "IL2rMoAb_T0, n (%)                No                            0  3702 (78.4)  3244 (78.0)   458 (80.8)   0.137                                Chi-squared\n",
       "                                  Yes                              1022 (21.6)   913 (22.0)   109 (19.2)                                                   \n",
       "NumMismatch_ABDR_broad, mean (SD)                              39    2.4 (1.5)    2.3 (1.5)    2.4 (1.3)   0.092                          Two Sample T-test\n",
       "Steroids_T0, n (%)                No                            0    108 (2.3)     88 (2.1)     20 (3.5)   0.035                                Chi-squared\n",
       "                                  Yes                              4616 (97.7)  4069 (97.9)   547 (96.5)                                                   \n",
       "Sirolimus_T0, n (%)               No                            0  4438 (93.9)  3897 (93.7)   541 (95.4)   0.118                                Chi-squared\n",
       "                                  Yes                                286 (6.1)    260 (6.3)     26 (4.6)                                                   \n",
       "Unknown_T0, n (%)                 No                            0  4707 (99.6)  4143 (99.7)   564 (99.5)   0.448                             Fisher's exact\n",
       "                                  Yes                                 17 (0.4)     14 (0.3)      3 (0.5)                                                   \n",
       "Others_T0, n (%)                  No                            0  4124 (87.3)  3607 (86.8)   517 (91.2)   0.003                                Chi-squared\n",
       "                                  Yes                               600 (12.7)   550 (13.2)     50 (8.8)                                                   \n",
       "DialysisYN, n (%)                 No                            0   542 (11.5)   495 (11.9)     47 (8.3)   0.001  Chi-squared (warning: expected count < 5)\n",
       "                                  Unknown                             29 (0.6)     22 (0.5)      7 (1.2)                                                   \n",
       "                                  Yes_haemo                        2441 (51.7)  2114 (50.9)   327 (57.7)                                                   \n",
       "                                  Yes_peri                         1712 (36.2)  1526 (36.7)   186 (32.8)                                                   \n",
       "CIPDeceadDonor, mean (SD)                                    1564   21.8 (7.2)   21.7 (7.3)   22.8 (6.8)   0.002                          Two Sample T-test\n",
       "CIPLivingDonor, mean (SD)                                    3389    2.5 (1.6)    2.5 (1.6)    2.5 (1.0)   0.868                          Two Sample T-test\n",
       "MMF/azathioprine, n (%)           No                            0  1119 (23.7)   994 (23.9)   125 (22.0)   0.327                                Chi-squared\n",
       "                                  Yes                              3605 (76.3)  3163 (76.1)   442 (78.0)                                                   \n",
       "Cyclosporin/Tacrolimus, n (%)     No                            0    290 (6.1)    265 (6.4)     25 (4.4)   0.067                                Chi-squared\n",
       "                                  Yes                              4434 (93.9)  3892 (93.6)   542 (95.6)                                                   \n",
       "[1] Chi-squared tests for the following variables may be invalid due to the low number of observations: DialysisYN."
      ]
     },
     "execution_count": 40,
     "metadata": {},
     "output_type": "execute_result"
    }
   ],
   "source": [
    "# columns containing categorical variables\n",
    "categorical = ['RecipientSex_NOTR', 'DonorSex_NOTR', \n",
    "'IL2rMoAb_T0', 'ALG_ATG_OKT3_AntiPanTMoAb',\n",
    "'Retransplant', 'TypeCadaveric_NOTR', 'DialysisYN',\n",
    "'Steroids_T0', 'Sirolimus_T0', 'MMF/azathioprine', 'Cyclosporin/Tacrolimus', 'Unknown_T0', 'Others_T0',\n",
    "]\n",
    "\n",
    "# optionally, a categorical variable for stratification\n",
    "groupby = ['DSA']\n",
    "\n",
    "# rename the death column\n",
    "labels={\n",
    "    'DonorAge_NOTR': 'Donor Age',\n",
    "    'DonorSex_NOTR': 'Donor Sex',\n",
    "    'RecipientAge_NOTR': 'Recipiet Age',\n",
    "    'RecipientSex_NOTR': 'Recipiet Sex',\n",
    "    # 'DialysisYears': 'Time on dialysis, y',\n",
    "    # 'TypeCadaveric_NOTR': 'Type of Donor',\n",
    "    # 'CIPDeceadDonor': ' Cold Ischemia Time Deceased Donors', \n",
    "    # 'CIPLivingDonor': ' Cold Ischemia Time Living Donors', \n",
    "    # 'CurrentPRA_NOTR': 'PRA at time of transplant, %',\n",
    "    # 'HighPRA_NOTR': 'Highest PRA, %',\n",
    "    # 'NumMismatch_ABDR_broad': 'HLA-A/B/DR broad mismatches, mean ± SD', \n",
    "    # 'Dialysis': 'DialysisYN',\n",
    "}\n",
    "\n",
    "continuous = {\n",
    "    'DonorAge_NOTR', 'RecipientAge_NOTR', 'CIPDeceadDonor', 'DialysisYears',\n",
    "    'CIPLivingDonor', 'CurrentPRA_NOTR', 'HighPRA_NOTR', 'NumMismatch_ABDR_broad',\n",
    "    }\n",
    "# htest = {var:scipy.stats.mannwhitneyu for var in continuous}\n",
    "\n",
    "htest = {'RecipientAge_NOTR': scipy.stats.mannwhitneyu}\n",
    "\n",
    "# link to documentation https://github.com/tompollard/tableone/blob/master/tableone/tableone.py\n",
    "\n",
    "table1 = TableOne(\n",
    "    df_t1, \n",
    "    groupby=groupby,\n",
    "    missing=True,\n",
    "    categorical=categorical,\n",
    "    pval=True,\n",
    "    rename=labels,\n",
    "    htest_name=True,\n",
    "    # htest=htest,\n",
    ")\n",
    "table1"
   ]
  },
  {
   "cell_type": "code",
   "execution_count": 97,
   "metadata": {},
   "outputs": [
    {
     "data": {
      "text/plain": [
       "Yes_haemo    2441\n",
       "Yes_peri     1712\n",
       "No            542\n",
       "Unknown        29\n",
       "Name: DialysisYN, dtype: int64"
      ]
     },
     "execution_count": 97,
     "metadata": {},
     "output_type": "execute_result"
    }
   ],
   "source": [
    "df_t1['DialysisYN'].value_counts()"
   ]
  },
  {
   "cell_type": "code",
   "execution_count": 110,
   "metadata": {},
   "outputs": [],
   "source": [
    "from scipy.stats import mannwhitneyu, chi2_contingency, fisher_exact\n",
    "def mannwhitneyu_test(data, column, **kwargs):\n",
    "    dsa_group = data[data.DSA == 1][column]\n",
    "    print(round(dsa_group.mean(), 2), round(dsa_group.std(), 2))\n",
    "    no_dsa_group = data[data.DSA == 0][column]\n",
    "    print(round(no_dsa_group.mean(), 2), round(no_dsa_group.std(), 2))\n",
    "    print(mannwhitneyu(dsa_group, no_dsa_group, **kwargs))\n",
    "\n",
    "def chi2_test(data, column, fisher_test=False, **kwargs):\n",
    "    # https://pythonfordatascienceorg.wordpress.com/chi-square-python/\n",
    "    group_by = data['DSA']\n",
    "    cat_var = data[column]\n",
    "    crosstab = pd.crosstab(group_by, cat_var)\n",
    "    if fisher_test:\n",
    "        print(fisher_exact(crosstab))\n",
    "    else:\n",
    "        print(chi2_contingency(crosstab, **kwargs))\n",
    "    return crosstab"
   ]
  },
  {
   "cell_type": "markdown",
   "metadata": {},
   "source": [
    "# Redoing the tests & p_values\n",
    "Instead of two-sided t-test we are using Mann-Whitny test for continuous variables. "
   ]
  },
  {
   "cell_type": "code",
   "execution_count": 53,
   "metadata": {},
   "outputs": [
    {
     "name": "stdout",
     "output_type": "stream",
     "text": [
      "43.98 15.8\n",
      "44.41 14.9\n",
      "MannwhitneyuResult(statistic=1178106.0, pvalue=0.9894430286898469)\n"
     ]
    }
   ],
   "source": [
    "mannwhitneyu_test(df, 'DonorAge_NOTR')"
   ]
  },
  {
   "cell_type": "code",
   "execution_count": 51,
   "metadata": {},
   "outputs": [
    {
     "name": "stdout",
     "output_type": "stream",
     "text": [
      "44.19 13.92\n",
      "45.62 14.42\n",
      "MannwhitneyuResult(statistic=1103821.5, pvalue=0.014200179801494727)\n"
     ]
    }
   ],
   "source": [
    "mannwhitneyu_test(df, 'RecipientAge_NOTR')"
   ]
  },
  {
   "cell_type": "code",
   "execution_count": 61,
   "metadata": {},
   "outputs": [
    {
     "name": "stdout",
     "output_type": "stream",
     "text": [
      "3.36 2.95\n",
      "2.65 2.39\n",
      "MannwhitneyuResult(statistic=1315863.5, pvalue=1.568274749095552e-07)\n"
     ]
    }
   ],
   "source": [
    "mannwhitneyu_test(df, 'DialysisYears', nan_policy='omit')"
   ]
  },
  {
   "cell_type": "code",
   "execution_count": 54,
   "metadata": {},
   "outputs": [
    {
     "name": "stdout",
     "output_type": "stream",
     "text": [
      "2.44 1.3\n",
      "2.34 1.51\n",
      "MannwhitneyuResult(statistic=1208047.0, pvalue=0.14995837320558258)\n"
     ]
    }
   ],
   "source": [
    "mannwhitneyu_test(df_t1, 'NumMismatch_ABDR_broad', nan_policy='omit')"
   ]
  },
  {
   "cell_type": "code",
   "execution_count": 52,
   "metadata": {},
   "outputs": [
    {
     "name": "stdout",
     "output_type": "stream",
     "text": [
      "22.82 6.8\n",
      "21.69 7.26\n",
      "MannwhitneyuResult(statistic=633865.0, pvalue=0.0010082359182155983)\n"
     ]
    }
   ],
   "source": [
    "mannwhitneyu_test(df_t1, 'CIPDeceadDonor', nan_policy='omit')"
   ]
  },
  {
   "cell_type": "code",
   "execution_count": 66,
   "metadata": {},
   "outputs": [
    {
     "name": "stdout",
     "output_type": "stream",
     "text": [
      "2.48 0.97\n",
      "2.5 1.6\n",
      "MannwhitneyuResult(statistic=76324.0, pvalue=0.7607679966908673)\n"
     ]
    }
   ],
   "source": [
    "mannwhitneyu_test(df_t1, 'CIPLivingDonor', nan_policy='omit')"
   ]
  },
  {
   "cell_type": "code",
   "execution_count": 76,
   "metadata": {},
   "outputs": [
    {
     "data": {
      "text/plain": [
       "152"
      ]
     },
     "execution_count": 76,
     "metadata": {},
     "output_type": "execute_result"
    }
   ],
   "source": [
    "df_t1[df_t1.TypeOfDonor_NOTR == 'Living']['CIPLivingDonor'].isna().sum()"
   ]
  },
  {
   "cell_type": "code",
   "execution_count": 70,
   "metadata": {},
   "outputs": [
    {
     "data": {
      "text/plain": [
       "Index(['DSA', 'RecipientAge_NOTR', 'RecipientSex_NOTR', 'DialysisYears',\n",
       "       'DonorAge_NOTR', 'DonorSex_NOTR', 'TypeCadaveric_NOTR', 'Retransplant',\n",
       "       'CurrentPRA_NOTR', 'HighPRA_NOTR', 'ALG_ATG_OKT3_AntiPanTMoAb',\n",
       "       'IL2rMoAb_T0', 'NumMismatch_ABDR_broad', 'Steroids_T0', 'Sirolimus_T0',\n",
       "       'Unknown_T0', 'Others_T0', 'DialysisYN', 'CIPDeceadDonor',\n",
       "       'CIPLivingDonor', 'MMF/azathioprine', 'Cyclosporin/Tacrolimus'],\n",
       "      dtype='object')"
      ]
     },
     "execution_count": 70,
     "metadata": {},
     "output_type": "execute_result"
    }
   ],
   "source": [
    "df_t1.columns#['CIPLivingDonor']"
   ]
  },
  {
   "cell_type": "code",
   "execution_count": 114,
   "metadata": {},
   "outputs": [
    {
     "name": "stdout",
     "output_type": "stream",
     "text": [
      "(4.443076564287405, 0.03504304391481233, 1, array([[  95.03725656, 4061.96274344],\n",
      "       [  12.96274344,  554.03725656]]))\n"
     ]
    },
    {
     "data": {
      "text/html": [
       "<div>\n",
       "<style scoped>\n",
       "    .dataframe tbody tr th:only-of-type {\n",
       "        vertical-align: middle;\n",
       "    }\n",
       "\n",
       "    .dataframe tbody tr th {\n",
       "        vertical-align: top;\n",
       "    }\n",
       "\n",
       "    .dataframe thead th {\n",
       "        text-align: right;\n",
       "    }\n",
       "</style>\n",
       "<table border=\"1\" class=\"dataframe\">\n",
       "  <thead>\n",
       "    <tr style=\"text-align: right;\">\n",
       "      <th>Steroids_T0</th>\n",
       "      <th>No</th>\n",
       "      <th>Yes</th>\n",
       "    </tr>\n",
       "    <tr>\n",
       "      <th>DSA</th>\n",
       "      <th></th>\n",
       "      <th></th>\n",
       "    </tr>\n",
       "  </thead>\n",
       "  <tbody>\n",
       "    <tr>\n",
       "      <th>0</th>\n",
       "      <td>88</td>\n",
       "      <td>4069</td>\n",
       "    </tr>\n",
       "    <tr>\n",
       "      <th>1</th>\n",
       "      <td>20</td>\n",
       "      <td>547</td>\n",
       "    </tr>\n",
       "  </tbody>\n",
       "</table>\n",
       "</div>"
      ],
      "text/plain": [
       "Steroids_T0  No   Yes\n",
       "DSA                  \n",
       "0            88  4069\n",
       "1            20   547"
      ]
     },
     "execution_count": 114,
     "metadata": {},
     "output_type": "execute_result"
    }
   ],
   "source": [
    "chi2_test(df_t1, 'Steroids_T0', correction=False)"
   ]
  },
  {
   "cell_type": "code",
   "execution_count": 113,
   "metadata": {},
   "outputs": [
    {
     "name": "stdout",
     "output_type": "stream",
     "text": [
      "(2.4435319756451443, 0.11801024314883177, 1, array([[3905.32726503,  251.67273497],\n",
      "       [ 532.67273497,   34.32726503]]))\n"
     ]
    },
    {
     "data": {
      "text/html": [
       "<div>\n",
       "<style scoped>\n",
       "    .dataframe tbody tr th:only-of-type {\n",
       "        vertical-align: middle;\n",
       "    }\n",
       "\n",
       "    .dataframe tbody tr th {\n",
       "        vertical-align: top;\n",
       "    }\n",
       "\n",
       "    .dataframe thead th {\n",
       "        text-align: right;\n",
       "    }\n",
       "</style>\n",
       "<table border=\"1\" class=\"dataframe\">\n",
       "  <thead>\n",
       "    <tr style=\"text-align: right;\">\n",
       "      <th>Sirolimus_T0</th>\n",
       "      <th>No</th>\n",
       "      <th>Yes</th>\n",
       "    </tr>\n",
       "    <tr>\n",
       "      <th>DSA</th>\n",
       "      <th></th>\n",
       "      <th></th>\n",
       "    </tr>\n",
       "  </thead>\n",
       "  <tbody>\n",
       "    <tr>\n",
       "      <th>0</th>\n",
       "      <td>3897</td>\n",
       "      <td>260</td>\n",
       "    </tr>\n",
       "    <tr>\n",
       "      <th>1</th>\n",
       "      <td>541</td>\n",
       "      <td>26</td>\n",
       "    </tr>\n",
       "  </tbody>\n",
       "</table>\n",
       "</div>"
      ],
      "text/plain": [
       "Sirolimus_T0    No  Yes\n",
       "DSA                    \n",
       "0             3897  260\n",
       "1              541   26"
      ]
     },
     "execution_count": 113,
     "metadata": {},
     "output_type": "execute_result"
    }
   ],
   "source": [
    "chi2_test(df_t1, 'Sirolimus_T0', correction=False)"
   ]
  },
  {
   "cell_type": "code",
   "execution_count": 119,
   "metadata": {},
   "outputs": [
    {
     "name": "stdout",
     "output_type": "stream",
     "text": [
      "(0.9606908217486836, 0.327012887107603, 1, array([[ 984.69157494, 3172.30842506],\n",
      "       [ 134.30842506,  432.69157494]]))\n"
     ]
    },
    {
     "data": {
      "text/html": [
       "<div>\n",
       "<style scoped>\n",
       "    .dataframe tbody tr th:only-of-type {\n",
       "        vertical-align: middle;\n",
       "    }\n",
       "\n",
       "    .dataframe tbody tr th {\n",
       "        vertical-align: top;\n",
       "    }\n",
       "\n",
       "    .dataframe thead th {\n",
       "        text-align: right;\n",
       "    }\n",
       "</style>\n",
       "<table border=\"1\" class=\"dataframe\">\n",
       "  <thead>\n",
       "    <tr style=\"text-align: right;\">\n",
       "      <th>MMF/azathioprine</th>\n",
       "      <th>No</th>\n",
       "      <th>Yes</th>\n",
       "    </tr>\n",
       "    <tr>\n",
       "      <th>DSA</th>\n",
       "      <th></th>\n",
       "      <th></th>\n",
       "    </tr>\n",
       "  </thead>\n",
       "  <tbody>\n",
       "    <tr>\n",
       "      <th>0</th>\n",
       "      <td>994</td>\n",
       "      <td>3163</td>\n",
       "    </tr>\n",
       "    <tr>\n",
       "      <th>1</th>\n",
       "      <td>125</td>\n",
       "      <td>442</td>\n",
       "    </tr>\n",
       "  </tbody>\n",
       "</table>\n",
       "</div>"
      ],
      "text/plain": [
       "MMF/azathioprine   No   Yes\n",
       "DSA                        \n",
       "0                 994  3163\n",
       "1                 125   442"
      ]
     },
     "execution_count": 119,
     "metadata": {},
     "output_type": "execute_result"
    }
   ],
   "source": [
    "chi2_test(df_t1, 'MMF/azathioprine',  correction=False)"
   ]
  },
  {
   "cell_type": "code",
   "execution_count": 112,
   "metadata": {},
   "outputs": [
    {
     "name": "stdout",
     "output_type": "stream",
     "text": [
      "(3.3456285324330697, 0.06738373959746985, 1, array([[ 255.19263336, 3901.80736664],\n",
      "       [  34.80736664,  532.19263336]]))\n"
     ]
    },
    {
     "data": {
      "text/html": [
       "<div>\n",
       "<style scoped>\n",
       "    .dataframe tbody tr th:only-of-type {\n",
       "        vertical-align: middle;\n",
       "    }\n",
       "\n",
       "    .dataframe tbody tr th {\n",
       "        vertical-align: top;\n",
       "    }\n",
       "\n",
       "    .dataframe thead th {\n",
       "        text-align: right;\n",
       "    }\n",
       "</style>\n",
       "<table border=\"1\" class=\"dataframe\">\n",
       "  <thead>\n",
       "    <tr style=\"text-align: right;\">\n",
       "      <th>Cyclosporin/Tacrolimus</th>\n",
       "      <th>No</th>\n",
       "      <th>Yes</th>\n",
       "    </tr>\n",
       "    <tr>\n",
       "      <th>DSA</th>\n",
       "      <th></th>\n",
       "      <th></th>\n",
       "    </tr>\n",
       "  </thead>\n",
       "  <tbody>\n",
       "    <tr>\n",
       "      <th>0</th>\n",
       "      <td>265</td>\n",
       "      <td>3892</td>\n",
       "    </tr>\n",
       "    <tr>\n",
       "      <th>1</th>\n",
       "      <td>25</td>\n",
       "      <td>542</td>\n",
       "    </tr>\n",
       "  </tbody>\n",
       "</table>\n",
       "</div>"
      ],
      "text/plain": [
       "Cyclosporin/Tacrolimus   No   Yes\n",
       "DSA                              \n",
       "0                       265  3892\n",
       "1                        25   542"
      ]
     },
     "execution_count": 112,
     "metadata": {},
     "output_type": "execute_result"
    }
   ],
   "source": [
    "chi2_test(df_t1, 'Cyclosporin/Tacrolimus', correction=False)"
   ]
  },
  {
   "cell_type": "code",
   "execution_count": 115,
   "metadata": {},
   "outputs": [
    {
     "name": "stdout",
     "output_type": "stream",
     "text": [
      "(1.5740881458966565, 0.4478991161205596)\n"
     ]
    },
    {
     "data": {
      "text/html": [
       "<div>\n",
       "<style scoped>\n",
       "    .dataframe tbody tr th:only-of-type {\n",
       "        vertical-align: middle;\n",
       "    }\n",
       "\n",
       "    .dataframe tbody tr th {\n",
       "        vertical-align: top;\n",
       "    }\n",
       "\n",
       "    .dataframe thead th {\n",
       "        text-align: right;\n",
       "    }\n",
       "</style>\n",
       "<table border=\"1\" class=\"dataframe\">\n",
       "  <thead>\n",
       "    <tr style=\"text-align: right;\">\n",
       "      <th>Unknown_T0</th>\n",
       "      <th>No</th>\n",
       "      <th>Yes</th>\n",
       "    </tr>\n",
       "    <tr>\n",
       "      <th>DSA</th>\n",
       "      <th></th>\n",
       "      <th></th>\n",
       "    </tr>\n",
       "  </thead>\n",
       "  <tbody>\n",
       "    <tr>\n",
       "      <th>0</th>\n",
       "      <td>4143</td>\n",
       "      <td>14</td>\n",
       "    </tr>\n",
       "    <tr>\n",
       "      <th>1</th>\n",
       "      <td>564</td>\n",
       "      <td>3</td>\n",
       "    </tr>\n",
       "  </tbody>\n",
       "</table>\n",
       "</div>"
      ],
      "text/plain": [
       "Unknown_T0    No  Yes\n",
       "DSA                  \n",
       "0           4143   14\n",
       "1            564    3"
      ]
     },
     "execution_count": 115,
     "metadata": {},
     "output_type": "execute_result"
    }
   ],
   "source": [
    "chi2_test(df_t1, 'Unknown_T0',  fisher_test=True)"
   ]
  },
  {
   "cell_type": "code",
   "execution_count": 116,
   "metadata": {},
   "outputs": [
    {
     "name": "stdout",
     "output_type": "stream",
     "text": [
      "(0.5146655796026379, 0.4731261074052232, 1, array([[4.14204043e+03, 1.49595682e+01],\n",
      "       [5.64959568e+02, 2.04043184e+00]]))\n"
     ]
    },
    {
     "data": {
      "text/html": [
       "<div>\n",
       "<style scoped>\n",
       "    .dataframe tbody tr th:only-of-type {\n",
       "        vertical-align: middle;\n",
       "    }\n",
       "\n",
       "    .dataframe tbody tr th {\n",
       "        vertical-align: top;\n",
       "    }\n",
       "\n",
       "    .dataframe thead th {\n",
       "        text-align: right;\n",
       "    }\n",
       "</style>\n",
       "<table border=\"1\" class=\"dataframe\">\n",
       "  <thead>\n",
       "    <tr style=\"text-align: right;\">\n",
       "      <th>Unknown_T0</th>\n",
       "      <th>No</th>\n",
       "      <th>Yes</th>\n",
       "    </tr>\n",
       "    <tr>\n",
       "      <th>DSA</th>\n",
       "      <th></th>\n",
       "      <th></th>\n",
       "    </tr>\n",
       "  </thead>\n",
       "  <tbody>\n",
       "    <tr>\n",
       "      <th>0</th>\n",
       "      <td>4143</td>\n",
       "      <td>14</td>\n",
       "    </tr>\n",
       "    <tr>\n",
       "      <th>1</th>\n",
       "      <td>564</td>\n",
       "      <td>3</td>\n",
       "    </tr>\n",
       "  </tbody>\n",
       "</table>\n",
       "</div>"
      ],
      "text/plain": [
       "Unknown_T0    No  Yes\n",
       "DSA                  \n",
       "0           4143   14\n",
       "1            564    3"
      ]
     },
     "execution_count": 116,
     "metadata": {},
     "output_type": "execute_result"
    }
   ],
   "source": [
    "chi2_test(df_t1, 'Unknown_T0',  fisher_test=False, correction=False)"
   ]
  },
  {
   "cell_type": "code",
   "execution_count": 42,
   "metadata": {},
   "outputs": [
    {
     "name": "stdout",
     "output_type": "stream",
     "text": [
      "8.760796191255936 0.0030777465838544315 1 [[3629.01524132  527.98475868]\n",
      " [ 494.98475868   72.01524132]]\n"
     ]
    },
    {
     "data": {
      "text/html": [
       "<div>\n",
       "<style scoped>\n",
       "    .dataframe tbody tr th:only-of-type {\n",
       "        vertical-align: middle;\n",
       "    }\n",
       "\n",
       "    .dataframe tbody tr th {\n",
       "        vertical-align: top;\n",
       "    }\n",
       "\n",
       "    .dataframe thead th {\n",
       "        text-align: right;\n",
       "    }\n",
       "</style>\n",
       "<table border=\"1\" class=\"dataframe\">\n",
       "  <thead>\n",
       "    <tr style=\"text-align: right;\">\n",
       "      <th>Others_T0</th>\n",
       "      <th>No</th>\n",
       "      <th>Yes</th>\n",
       "    </tr>\n",
       "    <tr>\n",
       "      <th>DSA</th>\n",
       "      <th></th>\n",
       "      <th></th>\n",
       "    </tr>\n",
       "  </thead>\n",
       "  <tbody>\n",
       "    <tr>\n",
       "      <th>0</th>\n",
       "      <td>3607</td>\n",
       "      <td>550</td>\n",
       "    </tr>\n",
       "    <tr>\n",
       "      <th>1</th>\n",
       "      <td>517</td>\n",
       "      <td>50</td>\n",
       "    </tr>\n",
       "  </tbody>\n",
       "</table>\n",
       "</div>"
      ],
      "text/plain": [
       "Others_T0    No  Yes\n",
       "DSA                 \n",
       "0          3607  550\n",
       "1           517   50"
      ]
     },
     "execution_count": 42,
     "metadata": {},
     "output_type": "execute_result"
    }
   ],
   "source": [
    "chi2_test(df_t1, 'Others_T0',  correction=False)"
   ]
  },
  {
   "cell_type": "code",
   "execution_count": 45,
   "metadata": {},
   "outputs": [
    {
     "name": "stdout",
     "output_type": "stream",
     "text": [
      "16.325135118182292 0.0009725524073678226 3 [[ 476.94623201   25.51926334 2148.01799323 1506.51651143]\n",
      " [  65.05376799    3.48073666  292.98200677  205.48348857]]\n"
     ]
    },
    {
     "data": {
      "text/html": [
       "<div>\n",
       "<style scoped>\n",
       "    .dataframe tbody tr th:only-of-type {\n",
       "        vertical-align: middle;\n",
       "    }\n",
       "\n",
       "    .dataframe tbody tr th {\n",
       "        vertical-align: top;\n",
       "    }\n",
       "\n",
       "    .dataframe thead th {\n",
       "        text-align: right;\n",
       "    }\n",
       "</style>\n",
       "<table border=\"1\" class=\"dataframe\">\n",
       "  <thead>\n",
       "    <tr style=\"text-align: right;\">\n",
       "      <th>DialysisYN</th>\n",
       "      <th>No</th>\n",
       "      <th>Unknown</th>\n",
       "      <th>Yes_haemo</th>\n",
       "      <th>Yes_peri</th>\n",
       "    </tr>\n",
       "    <tr>\n",
       "      <th>DSA</th>\n",
       "      <th></th>\n",
       "      <th></th>\n",
       "      <th></th>\n",
       "      <th></th>\n",
       "    </tr>\n",
       "  </thead>\n",
       "  <tbody>\n",
       "    <tr>\n",
       "      <th>0</th>\n",
       "      <td>495</td>\n",
       "      <td>22</td>\n",
       "      <td>2114</td>\n",
       "      <td>1526</td>\n",
       "    </tr>\n",
       "    <tr>\n",
       "      <th>1</th>\n",
       "      <td>47</td>\n",
       "      <td>7</td>\n",
       "      <td>327</td>\n",
       "      <td>186</td>\n",
       "    </tr>\n",
       "  </tbody>\n",
       "</table>\n",
       "</div>"
      ],
      "text/plain": [
       "DialysisYN   No  Unknown  Yes_haemo  Yes_peri\n",
       "DSA                                          \n",
       "0           495       22       2114      1526\n",
       "1            47        7        327       186"
      ]
     },
     "execution_count": 45,
     "metadata": {},
     "output_type": "execute_result"
    }
   ],
   "source": [
    "chi2_test(df_t1, 'DialysisYN',  correction=True)"
   ]
  },
  {
   "cell_type": "code",
   "execution_count": 90,
   "metadata": {},
   "outputs": [],
   "source": []
  },
  {
   "cell_type": "code",
   "execution_count": null,
   "metadata": {},
   "outputs": [],
   "source": []
  }
 ],
 "metadata": {
  "interpreter": {
   "hash": "708b3676616ca1f6951c8b5aa02ebb124c704b4e02ce2c0aaabd24e4641a0ea4"
  },
  "kernelspec": {
   "display_name": "Python 3.8.6 ('desa_paper-IhoHddMh')",
   "language": "python",
   "name": "python3"
  },
  "language_info": {
   "codemirror_mode": {
    "name": "ipython",
    "version": 3
   },
   "file_extension": ".py",
   "mimetype": "text/x-python",
   "name": "python",
   "nbconvert_exporter": "python",
   "pygments_lexer": "ipython3",
   "version": "3.8.6"
  }
 },
 "nbformat": 4,
 "nbformat_minor": 4
}
