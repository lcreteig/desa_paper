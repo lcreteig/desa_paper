{
 "cells": [
  {
   "cell_type": "code",
   "execution_count": 6,
   "metadata": {},
   "outputs": [],
   "source": [
    "import pandas as pd\n",
    "from lifelines import CoxPHFitter\n",
    "from src.helper_methods import *\n",
    "from src.pipe_store import *\n",
    "from src.constants import *\n",
    "from lifelines import CoxPHFitter\n",
    "\n",
    "%matplotlib inline \n",
    "%config InlineBackend.figure_format = 'retina'\n",
    "%load_ext autoreload\n",
    "%autoreload 2"
   ]
  },
  {
   "cell_type": "code",
   "execution_count": 7,
   "metadata": {},
   "outputs": [],
   "source": [
    "RELEVANT_DESA_BAD = {\n",
    "    '71TD', '144QL', '70DRA', '80TLR', '76ED', '70DA', '45EV', '67F', '76ET', '163RG', '67VG', \n",
    "    '150AAH', '158T', '62QE', '45GV', '45KE', '71A', '66NH', '80TA', '114R', '44KM'\n",
    "}"
   ]
  },
  {
   "attachments": {},
   "cell_type": "markdown",
   "metadata": {},
   "source": [
    "# Data Loading"
   ]
  },
  {
   "attachments": {},
   "cell_type": "markdown",
   "metadata": {},
   "source": [
    "### Total Cohort"
   ]
  },
  {
   "cell_type": "code",
   "execution_count": 8,
   "metadata": {},
   "outputs": [
    {
     "data": {
      "text/plain": [
       "Index(['TransplantID', 'DESA_Status', 'EpvsHLA_Donor', '#DESA', 'DESA',\n",
       "       'RecipientAge_NOTR', 'DonorAge_NOTR', 'TypeOfDonor_NOTR',\n",
       "       'FailureCode10Y_R', 'GraftSurvival10Y_R', 'IL2rMoAb', 'CIPHour_DBD',\n",
       "       'CIPHour_DCD', 'LivingDonorNum'],\n",
       "      dtype='object')"
      ]
     },
     "execution_count": 8,
     "metadata": {},
     "output_type": "execute_result"
    }
   ],
   "source": [
    "path_cohort = '~/UMCUtrecht/KaplanMeier/DESAsurvival.pickle'\n",
    "path_antibody = '~/UMCUtrecht/20211104_mismatch_ep_db.pickle'\n",
    "df_abs = pd.read_pickle(path_antibody)\n",
    "df_cohort = pd.read_pickle(path_cohort)\n",
    "df = df_abs.merge(df_cohort, on='TransplantID')\n",
    "cols = [\n",
    "    'TransplantID', 'DESA_Status', 'EpvsHLA_Donor', '#DESA', 'DESA', 'RecipientAge_NOTR', \n",
    "    'DonorAge_NOTR', 'TypeOfDonor_NOTR', 'FailureCode10Y_R', 'GraftSurvival10Y_R', 'IL2rMoAb',\n",
    "    'CIPHour_DBD', 'CIPHour_DCD' , 'LivingDonorNum', # 'FailureCode10y'\n",
    "]\n",
    "df = df[cols]\n",
    "df.columns"
   ]
  },
  {
   "attachments": {},
   "cell_type": "markdown",
   "metadata": {},
   "source": [
    "### All the DESA found"
   ]
  },
  {
   "cell_type": "code",
   "execution_count": 9,
   "metadata": {},
   "outputs": [
    {
     "name": "stdout",
     "output_type": "stream",
     "text": [
      "{'38A', '80TL', '71QS', '32Y', '77N[DR]', '113HD', '96H', '95V', '97N', '62LQ', '253Q', '67LQ', '26L[DQ]', '13FE', '189S', '130Q', '66IC', '152RR', '65QIA', '70DRA', '70Q', '37FL', '158T', '71ATD', '74Y', '160AD', '67VG', '77TY', '73AN', '65RK', '47KHL', '40E', '180VTP', '77N[A]', '109F', '45EV', '180E', '104AK', '76ET', '70DA', '156DA', '70GT', '9H', '30H[DQ]', '37YV[DR]', '24T', '46VY', '57DE', '96HK', '9T', '66NM', '80K', '108T', '130A', '116L', '30G[B]', '70QQ', '62QE', '166DG', '63NI', '70QA', '32H', '138MI', '116I', '199V', '151AHA', '55PPD', '129QS', '44RMA', '56L', '245V', '69AA', '181M', '97W', '75S', '62EE', '55PPA', '57V[DR]', '116F', '30C', '9F[DQ]', '76ED', '98Q', '180VMP', '45GV', '67VT', '133RS', '150AAH', '52PQ', '71E', '147L', '57V[DQ]', '193PL', '55PP', '163E', '66IY', '245AS', '25R', '76VDT', '125G', '65GK', '26F', '70QT', '73TVS', '31FY', '43R', '37N', '30G[DR]', '95I', '28D', '81ALR', '86A', '44RME', '25Q', '125SQ', '52SK', '99S', '73A', '75IL', '74EL', '144K', '152HA', '144KR', '96EV', '163LE', '77SRN', '71TD', '70DR', '66KH', '40ERV', '57S', '26Y', '26L[DR]', '151AHV', '138K', '40GR', '211T', '71A', '37S', '270C', '77NGT', '66EV', '98KN', '66IT', '96QN', '70D', '70QK', '71KA', '114H', '75I', '80TLR', '173K', '144TKH', '163LG', '97T', '76EN', '37YA', '70R', '152RA', '91R', '31FH', '87Y', '116D', '170RH', '16S', '163RG', '62GK', '4Q', '76ANT', '120N', '55RPD', '207S', '74A', '85A', '97M', '162GLS', '44RT', '80I', '140TV', '25FT', '45EE', '37Y', '248M', '6C', '66NV', '79GT', '52LL', '96Y', '98KS', '69TNT', '84QL', '184A', '166ES', '66ER', '28H', '98ES', '185I', '97I', '114Q', '62GRN', '150AH', '48Q', '73GQ', '31F', '74E', '82LR', '66KA', '144QL', '113HN', '30RV', '37F', '76ESI', '66IF', '32L', '74L', '76ESN', '56PD', '73AS', '151H', '77R', '37YV[DQ]', '114R', '14W', '142M', '71SA', '30D', '112Y', '156QA', '56PA', '177DK', '182N', '57A', '9F[A]', '41T', '267QE', '181T', '71TTS', '70RE', '80TA', '17S', '11STS', '175E', '177KT', '163L', '74S', '30H[DR]', '73G', '74R', '37L', '62RR', '127K', '13GM', '163EW', '70IAQ', '32YN', '105S', '66IS', '77T[DQ]', '65RNA', '167H', '71K', '151AHE', '116Y', '1C', '177DT', '87F', '62GE', '56R', '96Q', '13SE', '47F', '76VRN', '163R', '149H', '145RT', '152W', '145KHA', '67I', '71HS', '90D', '152A', '4R', '70RT', '51R', '163LW', '45KE', '149AH', '97S', '143S', '16Y', '37FV', '97V', '76V', '163RW', '71TN', '80N', '44KM', '31I', '76VS', '55R', '131S', '73ID', '193AV', '98E', '70QRA', '161D', '107W', '66NH', '77D', '182S', '38L', '67F', '94I'}\n"
     ]
    }
   ],
   "source": [
    "list_set_desa = df[(df.DESA_Status.eq('DESA'))].DESA.values\n",
    "desas = {ep for desa_set in list_set_desa for ep in desa_set}\n",
    "print(desas)"
   ]
  },
  {
   "attachments": {},
   "cell_type": "markdown",
   "metadata": {},
   "source": [
    "### Total DESA"
   ]
  },
  {
   "cell_type": "code",
   "execution_count": 10,
   "metadata": {},
   "outputs": [
    {
     "data": {
      "text/plain": [
       "313"
      ]
     },
     "execution_count": 10,
     "metadata": {},
     "output_type": "execute_result"
    }
   ],
   "source": [
    "len(desas)"
   ]
  },
  {
   "attachments": {},
   "cell_type": "markdown",
   "metadata": {},
   "source": [
    "### NUmber of Tx with DESA"
   ]
  },
  {
   "cell_type": "code",
   "execution_count": 11,
   "metadata": {},
   "outputs": [
    {
     "data": {
      "text/plain": [
       "439"
      ]
     },
     "execution_count": 11,
     "metadata": {},
     "output_type": "execute_result"
    }
   ],
   "source": [
    "len(df[(df.DESA_Status.eq('DESA'))])"
   ]
  },
  {
   "attachments": {},
   "cell_type": "markdown",
   "metadata": {},
   "source": [
    "### NUmber of Tx with clinically relevant DESA"
   ]
  },
  {
   "cell_type": "code",
   "execution_count": 12,
   "metadata": {},
   "outputs": [
    {
     "name": "stdout",
     "output_type": "stream",
     "text": [
      "Total: 144\n",
      "Deceased 106\n",
      "Living 38\n"
     ]
    }
   ],
   "source": [
    "print('Total:', df['DESA'].apply(lambda x: bool(x & RELEVANT_DESA_BAD)).sum())\n",
    "print('Deceased', df[df.TypeOfDonor_NOTR == 'Deceased']['DESA'].apply(lambda x: bool(x & RELEVANT_DESA_BAD)).sum())\n",
    "print('Living', df[df.TypeOfDonor_NOTR == 'Living']['DESA'].apply(lambda x: bool(x & RELEVANT_DESA_BAD)).sum())"
   ]
  },
  {
   "attachments": {},
   "cell_type": "markdown",
   "metadata": {},
   "source": [
    "### Number of DESA per group [total 313]"
   ]
  },
  {
   "cell_type": "code",
   "execution_count": 13,
   "metadata": {},
   "outputs": [
    {
     "data": {
      "text/plain": [
       "{'DR': 89, 'ABC': 158, 'DQ': 57}"
      ]
     },
     "execution_count": 13,
     "metadata": {},
     "output_type": "execute_result"
    }
   ],
   "source": [
    "from collections import defaultdict\n",
    "from src.constants import Epitope_DB\n",
    "\n",
    "cls_vs_desa = defaultdict(set)\n",
    "for ep in desas: \n",
    "    for group, epitopes in Epitope_DB.items():\n",
    "        if ep in epitopes: \n",
    "            cls_vs_desa[group].add(ep)\n",
    "{cls: len(_set) for cls, _set in cls_vs_desa.items()}"
   ]
  },
  {
   "attachments": {},
   "cell_type": "markdown",
   "metadata": {},
   "source": [
    "### Relevant DESA per group"
   ]
  },
  {
   "cell_type": "code",
   "execution_count": 14,
   "metadata": {},
   "outputs": [],
   "source": [
    "cls_vs_desa = defaultdict(set)\n",
    "for ep in RELEVANT_DESA_BAD: \n",
    "    for group, epitopes in Epitope_DB.items():\n",
    "        if ep in epitopes: \n",
    "            cls_vs_desa[group].add(ep)"
   ]
  },
  {
   "cell_type": "code",
   "execution_count": 24,
   "metadata": {},
   "outputs": [
    {
     "name": "stdout",
     "output_type": "stream",
     "text": [
      "{'DQ': {'45EV', '45GV', '67VG'}, 'ABC': {'80TA', '45KE', '62QE', '80TLR', '66NH', '158T', '71TD', '144QL', '163RG', '76ET', '150AAH', '76ED', '44KM', '114R'}, 'DR': {'71A', '70DRA', '67F', '70DA'}}\n"
     ]
    }
   ],
   "source": [
    "print(dict(cls_vs_desa))"
   ]
  },
  {
   "cell_type": "code",
   "execution_count": 16,
   "metadata": {},
   "outputs": [
    {
     "data": {
      "text/plain": [
       "{'ABC': {'144QL', '158T', '71TD', '76ED', '76ET', '80TLR'},\n",
       " 'DR': {'67F', '70DA', '70DRA'},\n",
       " 'DQ': {'45EV'}}"
      ]
     },
     "execution_count": 16,
     "metadata": {},
     "output_type": "execute_result"
    }
   ],
   "source": [
    "{\n",
    "    'ABC': {'80TA', '45KE', '62QE', '80TLR', '66NH', '158T', '71TD', '144QL', '163RG', '76ET', '150AAH', '76ED', '44KM', '114R'}, \n",
    "    'DQ': {'45EV', '45GV', '67VG'}, \n",
    "    'DR': {'71A', '70DRA', '67F', '70DA'},\n",
    "}"
   ]
  },
  {
   "attachments": {},
   "cell_type": "markdown",
   "metadata": {},
   "source": [
    "### number of transplants with clinically relevant DESA:"
   ]
  },
  {
   "cell_type": "code",
   "execution_count": 17,
   "metadata": {},
   "outputs": [
    {
     "data": {
      "text/plain": [
       "0    295\n",
       "1     95\n",
       "2     18\n",
       "3     13\n",
       "4     11\n",
       "5      4\n",
       "6      3\n",
       "Name: DESA, dtype: int64"
      ]
     },
     "execution_count": 17,
     "metadata": {},
     "output_type": "execute_result"
    }
   ],
   "source": [
    "df[df.DESA_Status.eq('DESA')]['DESA'].apply(lambda x: len(x & RELEVANT_DESA_BAD)).value_counts()"
   ]
  },
  {
   "attachments": {},
   "cell_type": "markdown",
   "metadata": {},
   "source": [
    "### number of transplants directed to HLA"
   ]
  },
  {
   "cell_type": "code",
   "execution_count": 23,
   "metadata": {},
   "outputs": [
    {
     "data": {
      "text/plain": [
       "{}                    295\n",
       "{DQB1}                 50\n",
       "{B}                    42\n",
       "{A}                    28\n",
       "{DRB1}                  6\n",
       "{A, B}                  6\n",
       "{DRB5, DRB1}            4\n",
       "{DQB1, DRB1}            2\n",
       "{A, DQB1}               2\n",
       "{DRB5}                  1\n",
       "{DRB1, B}               1\n",
       "{DQB1, DRB1, DRB5}      1\n",
       "{DQB1, B}               1\n",
       "Name: EpvsHLA_Donor, dtype: int64"
      ]
     },
     "execution_count": 23,
     "metadata": {},
     "output_type": "execute_result"
    }
   ],
   "source": [
    "get_rel_hla = lambda x: {hla.split('*')[0] for ep, hla in x.items() if ep in RELEVANT_DESA_BAD}\n",
    "df[(df.DESA_Status == 'DESA')]['EpvsHLA_Donor'].apply(get_rel_hla).value_counts()"
   ]
  },
  {
   "attachments": {},
   "cell_type": "markdown",
   "metadata": {},
   "source": [
    "### Tineke Follow-up question: I also need detailed information about all DESAs (loci, number per patient)."
   ]
  },
  {
   "cell_type": "code",
   "execution_count": 22,
   "metadata": {},
   "outputs": [
    {
     "data": {
      "text/plain": [
       "{A}                         83\n",
       "{B}                         80\n",
       "{DQB1}                      57\n",
       "{DRB1}                      36\n",
       "{A, B}                      20\n",
       "{C}                         17\n",
       "{DRB3}                      15\n",
       "{DRB1, DRB3}                11\n",
       "{DRB4}                       9\n",
       "{B, C}                       8\n",
       "{DQB1, DRB1}                 7\n",
       "{A, DRB1}                    6\n",
       "{A, C}                       6\n",
       "{DRB1, B}                    6\n",
       "{DRB5}                       5\n",
       "{DRB4, DRB1}                 5\n",
       "{DRB5, DRB1}                 5\n",
       "{DQB1, DQA1}                 5\n",
       "{A, DQB1}                    4\n",
       "{A, DRB1, B}                 4\n",
       "{DQB1, C}                    3\n",
       "{DQB1, DRB4}                 3\n",
       "{DQB1, DRB3}                 2\n",
       "{DQB1, DRB1, DQA1}           2\n",
       "{A, B, C}                    2\n",
       "{A, DQB1, DQA1}              2\n",
       "{A, DRB1, DRB3}              2\n",
       "{A, DRB1, DQB1}              2\n",
       "{DQB1, DRB1, DRB3}           2\n",
       "{A, DRB4, DRB1}              1\n",
       "{DRB5, DRB1, B, C}           1\n",
       "{DQB1, DRB1, DRB5, DRB3}     1\n",
       "{DRB5, B}                    1\n",
       "{DRB5, A, DRB1, B}           1\n",
       "{DQA1}                       1\n",
       "{A, DRB3}                    1\n",
       "{DQB1, DQA1, B, C}           1\n",
       "{DRB1, B, DQA1, DRB3}        1\n",
       "{A, DRB1, DQB1, DRB3}        1\n",
       "{DRB5, DQA1}                 1\n",
       "{DQB1, DRB1, B, DQA1}        1\n",
       "{DQB1, DRB5}                 1\n",
       "{DQB1, B}                    1\n",
       "{DQB1, DRB1, DRB5}           1\n",
       "{B, DRB3}                    1\n",
       "{A, DRB1, DQA1}              1\n",
       "{DQB1, DRB1, C}              1\n",
       "{A, B, DQB1}                 1\n",
       "{DQB1, DRB1, B}              1\n",
       "{DQB1, B, C}                 1\n",
       "{A, DQB1, C}                 1\n",
       "{DQB1, DRB4, DRB1}           1\n",
       "{A, DRB4, C, DRB1}           1\n",
       "{A, DRB5, DRB3}              1\n",
       "{C, DRB3}                    1\n",
       "{DRB5, A, DRB1, DQB1}        1\n",
       "{DQB1, DRB4, B}              1\n",
       "{A, DRB4}                    1\n",
       "{DQB1, DRB1, B, DRB3}        1\n",
       "Name: EpvsHLA_Donor, dtype: int64"
      ]
     },
     "execution_count": 22,
     "metadata": {},
     "output_type": "execute_result"
    }
   ],
   "source": [
    "get_hla = lambda x: {hla.split('*')[0] for ep, hla in x.items()}\n",
    "hla_vs_desa = df[df.DESA_Status == 'DESA']['EpvsHLA_Donor'].apply(get_hla).value_counts().sort_values(ascending=False)\n",
    "hla_vs_desa"
   ]
  },
  {
   "cell_type": "markdown",
   "metadata": {},
   "source": []
  },
  {
   "cell_type": "markdown",
   "metadata": {},
   "source": []
  }
 ],
 "metadata": {
  "interpreter": {
   "hash": "708b3676616ca1f6951c8b5aa02ebb124c704b4e02ce2c0aaabd24e4641a0ea4"
  },
  "kernelspec": {
   "display_name": "Python 3.8.6 64-bit ('desa_paper-IhoHddMh': pipenv)",
   "language": "python",
   "name": "python3"
  },
  "language_info": {
   "codemirror_mode": {
    "name": "ipython",
    "version": 3
   },
   "file_extension": ".py",
   "mimetype": "text/x-python",
   "name": "python",
   "nbconvert_exporter": "python",
   "pygments_lexer": "ipython3",
   "version": "3.8.6"
  },
  "orig_nbformat": 4
 },
 "nbformat": 4,
 "nbformat_minor": 2
}
