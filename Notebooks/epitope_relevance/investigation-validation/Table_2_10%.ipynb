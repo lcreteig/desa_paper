{
 "cells": [
  {
   "cell_type": "code",
   "execution_count": 1,
   "metadata": {},
   "outputs": [],
   "source": [
    "import pandas as pd\n",
    "from lifelines import CoxPHFitter\n",
    "from src.helper_methods import *\n",
    "from src.pipe_store import *\n",
    "from src.constants import *\n",
    "from lifelines import CoxPHFitter\n",
    "\n",
    "%matplotlib inline \n",
    "%config InlineBackend.figure_format = 'retina'\n",
    "%load_ext autoreload\n",
    "%autoreload 2"
   ]
  },
  {
   "cell_type": "code",
   "execution_count": 2,
   "metadata": {},
   "outputs": [],
   "source": [
    "RELEVANT_DESA_BAD = {\n",
    "    '71TD', '144QL', '70DRA', '80TLR', '70DA', '67F', '76ED', '76ET', '158T', '45EV'\n",
    "}"
   ]
  },
  {
   "attachments": {},
   "cell_type": "markdown",
   "metadata": {},
   "source": [
    "# Data Loading"
   ]
  },
  {
   "attachments": {},
   "cell_type": "markdown",
   "metadata": {},
   "source": [
    "### Total Cohort"
   ]
  },
  {
   "cell_type": "code",
   "execution_count": 3,
   "metadata": {},
   "outputs": [
    {
     "data": {
      "text/plain": [
       "Index(['TransplantID', 'DESA_Status', 'EpvsHLA_Donor', '#DESA', 'DESA',\n",
       "       'RecipientAge_NOTR', 'DonorAge_NOTR', 'TypeOfDonor_NOTR',\n",
       "       'FailureCode10Y_R', 'GraftSurvival10Y_R', 'IL2rMoAb', 'CIPHour_DBD',\n",
       "       'CIPHour_DCD', 'LivingDonorNum'],\n",
       "      dtype='object')"
      ]
     },
     "execution_count": 3,
     "metadata": {},
     "output_type": "execute_result"
    }
   ],
   "source": [
    "path_cohort = '~/UMCUtrecht/KaplanMeier/DESAsurvival.pickle'\n",
    "path_antibody = '~/UMCUtrecht/20211104_mismatch_ep_db.pickle'\n",
    "df_abs = pd.read_pickle(path_antibody)\n",
    "df_cohort = pd.read_pickle(path_cohort)\n",
    "df = df_abs.merge(df_cohort, on='TransplantID')\n",
    "cols = [\n",
    "    'TransplantID', 'DESA_Status', 'EpvsHLA_Donor', '#DESA', 'DESA', 'RecipientAge_NOTR', \n",
    "    'DonorAge_NOTR', 'TypeOfDonor_NOTR', 'FailureCode10Y_R', 'GraftSurvival10Y_R', 'IL2rMoAb',\n",
    "    'CIPHour_DBD', 'CIPHour_DCD' , 'LivingDonorNum', # 'FailureCode10y'\n",
    "]\n",
    "df = df[cols]\n",
    "df.columns"
   ]
  },
  {
   "attachments": {},
   "cell_type": "markdown",
   "metadata": {},
   "source": [
    "### All the DESA found"
   ]
  },
  {
   "cell_type": "code",
   "execution_count": 23,
   "metadata": {},
   "outputs": [
    {
     "name": "stdout",
     "output_type": "stream",
     "text": [
      "{'161D', '9F[A]', '70DR', '97T', '65RNA', '76V', '57V[DQ]', '163LW', '73A', '70QA', '116Y', '74E', '75S', '62GRN', '144K', '11STS', '66IT', '116F', '70DRA', '267QE', '97W', '37YV[DQ]', '55PPD', '116D', '66IS', '56PA', '44RME', '77N[DR]', '143S', '163E', '75IL', '140TV', '67VG', '73AS', '71HS', '71SA', '28H', '31I', '86A', '77T[DQ]', '149AH', '32Y', '167H', '32YN', '166ES', '30H[DR]', '207S', '182N', '98ES', '163LE', '120N', '181T', '130Q', '46VY', '73G', '79GT', '76ANT', '56PD', '62EE', '105S', '138MI', '45GV', '13FE', '16Y', '9T', '71KA', '9F[DQ]', '74EL', '25Q', '55RPD', '96H', '170RH', '98KN', '76VS', '70DA', '77SRN', '17S', '62GE', '40ERV', '76EN', '57V[DR]', '52PQ', '76VDT', '51R', '66KA', '177KT', '71TN', '26F', '66EV', '40E', '253Q', '98Q', '151H', '96HK', '130A', '67I', '55PP', '270C', '149H', '30G[DR]', '90D', '152W', '77R', '193PL', '71E', '71TD', '66NM', '66ER', '4R', '71TTS', '70R', '80I', '71A', '97I', '76ESI', '26L[DR]', '4Q', '181M', '70RT', '189S', '70QK', '248M', '151AHE', '142M', '28D', '14W', '77N[A]', '70GT', '67F', '80TA', '80TLR', '185I', '31F', '96Q', '32L', '13SE', '65GK', '151AHA', '76VRN', '44RMA', '70IAQ', '37F', '67VT', '125G', '71K', '44KM', '98KS', '66IF', '77D', '57A', '177DK', '40GR', '69TNT', '158T', '37YA', '95I', '26Y', '37S', '43R', '144QL', '199V', '151AHV', '108T', '152RA', '113HD', '150AAH', '97M', '166DG', '82LR', '52LL', '9H', '95V', '87F', '31FY', '71ATD', '55R', '75I', '245V', '116L', '71QS', '144TKH', '56R', '31FH', '177DT', '109F', '30H[DQ]', '99S', '6C', '152RR', '131S', '87Y', '94I', '74L', '104AK', '74A', '80TL', '163RG', '47KHL', '25R', '152A', '25FT', '70D', '37YV[DR]', '26L[DQ]', '57DE', '147L', '114H', '77NGT', '37FL', '97V', '76ET', '184A', '16S', '145KHA', '156DA', '113HN', '70Q', '180E', '76ED', '163RW', '66NV', '180VTP', '245AS', '74R', '145RT', '70QRA', '74S', '156QA', '96Y', '144KR', '162GLS', '65RK', '69AA', '116I', '30C', '48Q', '129QS', '138K', '180VMP', '73GQ', '63NI', '77TY', '73AN', '62GK', '125SQ', '66KH', '76ESN', '96EV', '163R', '62LQ', '73TVS', '41T', '107W', '73ID', '65QIA', '44RT', '163EW', '66NH', '173K', '30G[B]', '163L', '85A', '182S', '45EE', '37FV', '30D', '80K', '150AH', '45KE', '114R', '112Y', '84QL', '175E', '70QQ', '211T', '55PPA', '97S', '163LG', '81ALR', '114Q', '37N', '56L', '98E', '57S', '13GM', '193AV', '67LQ', '74Y', '1C', '152HA', '32H', '70RE', '70QT', '127K', '30RV', '96QN', '45EV', '37L', '62RR', '97N', '66IY', '62QE', '38L', '66IC', '37Y', '91R', '47F', '38A', '52SK', '80N', '24T', '133RS', '160AD'}\n"
     ]
    }
   ],
   "source": [
    "list_set_desa = df[(df.DESA_Status.eq('DESA'))].DESA.values\n",
    "desas = {ep for desa_set in list_set_desa for ep in desa_set}\n",
    "print(desas)"
   ]
  },
  {
   "attachments": {},
   "cell_type": "markdown",
   "metadata": {},
   "source": [
    "### Total DESA"
   ]
  },
  {
   "cell_type": "code",
   "execution_count": 24,
   "metadata": {},
   "outputs": [
    {
     "data": {
      "text/plain": [
       "313"
      ]
     },
     "execution_count": 24,
     "metadata": {},
     "output_type": "execute_result"
    }
   ],
   "source": [
    "len(desas)"
   ]
  },
  {
   "attachments": {},
   "cell_type": "markdown",
   "metadata": {},
   "source": [
    "### NUmber of Tx with DESA"
   ]
  },
  {
   "cell_type": "code",
   "execution_count": 29,
   "metadata": {},
   "outputs": [
    {
     "data": {
      "text/plain": [
       "439"
      ]
     },
     "execution_count": 29,
     "metadata": {},
     "output_type": "execute_result"
    }
   ],
   "source": [
    "len(df[(df.DESA_Status.eq('DESA'))])"
   ]
  },
  {
   "attachments": {},
   "cell_type": "markdown",
   "metadata": {},
   "source": [
    "### NUmber of Tx with clinically relevant DESA"
   ]
  },
  {
   "cell_type": "code",
   "execution_count": 31,
   "metadata": {},
   "outputs": [
    {
     "name": "stdout",
     "output_type": "stream",
     "text": [
      "Total: 76\n",
      "Deceased 55\n",
      "Living 21\n"
     ]
    }
   ],
   "source": [
    "print('Total:', df['DESA'].apply(lambda x: bool(x & RELEVANT_DESA_BAD)).sum())\n",
    "print('Deceased', df[df.TypeOfDonor_NOTR == 'Deceased']['DESA'].apply(lambda x: bool(x & RELEVANT_DESA_BAD)).sum())\n",
    "print('Living', df[df.TypeOfDonor_NOTR == 'Living']['DESA'].apply(lambda x: bool(x & RELEVANT_DESA_BAD)).sum())"
   ]
  },
  {
   "attachments": {},
   "cell_type": "markdown",
   "metadata": {},
   "source": [
    "### Number of DESA per group [total 313]"
   ]
  },
  {
   "cell_type": "code",
   "execution_count": 21,
   "metadata": {},
   "outputs": [
    {
     "data": {
      "text/plain": [
       "{'ABC': 158, 'DR': 89, 'DQ': 57}"
      ]
     },
     "execution_count": 21,
     "metadata": {},
     "output_type": "execute_result"
    }
   ],
   "source": [
    "from collections import defaultdict\n",
    "from src.constants import Epitope_DB\n",
    "\n",
    "cls_vs_desa = defaultdict(set)\n",
    "for ep in desas: \n",
    "    for group, epitopes in Epitope_DB.items():\n",
    "        if ep in epitopes: \n",
    "            cls_vs_desa[group].add(ep)\n",
    "{cls: len(_set) for cls, _set in cls_vs_desa.items()}"
   ]
  },
  {
   "attachments": {},
   "cell_type": "markdown",
   "metadata": {},
   "source": [
    "### Relevant DESA per group"
   ]
  },
  {
   "cell_type": "code",
   "execution_count": 25,
   "metadata": {},
   "outputs": [],
   "source": [
    "cls_vs_desa = defaultdict(set)\n",
    "for ep in RELEVANT_DESA_BAD: \n",
    "    for group, epitopes in Epitope_DB.items():\n",
    "        if ep in epitopes: \n",
    "            cls_vs_desa[group].add(ep)"
   ]
  },
  {
   "cell_type": "code",
   "execution_count": 28,
   "metadata": {},
   "outputs": [
    {
     "data": {
      "text/plain": [
       "{'ABC': {'144QL', '158T', '71TD', '76ED', '76ET', '80TLR'},\n",
       " 'DR': {'67F', '70DA', '70DRA'},\n",
       " 'DQ': {'45EV'}}"
      ]
     },
     "execution_count": 28,
     "metadata": {},
     "output_type": "execute_result"
    }
   ],
   "source": [
    "dict(cls_vs_desa)"
   ]
  },
  {
   "cell_type": "code",
   "execution_count": null,
   "metadata": {},
   "outputs": [],
   "source": [
    "{\n",
    "    'ABC': {'144QL', '158T', '71TD', '76ED', '76ET', '80TLR'},\n",
    "    'DR': {'67F', '70DA', '70DRA'},\n",
    "    'DQ': {'45EV'}\n",
    "}"
   ]
  },
  {
   "attachments": {},
   "cell_type": "markdown",
   "metadata": {},
   "source": [
    "### number of transplants with clinically relevant DESA:"
   ]
  },
  {
   "cell_type": "code",
   "execution_count": 36,
   "metadata": {},
   "outputs": [
    {
     "data": {
      "text/plain": [
       "0    363\n",
       "1     53\n",
       "2      9\n",
       "3      9\n",
       "4      4\n",
       "5      1\n",
       "Name: DESA, dtype: int64"
      ]
     },
     "execution_count": 36,
     "metadata": {},
     "output_type": "execute_result"
    }
   ],
   "source": [
    "df[df.DESA_Status.eq('DESA')]['DESA'].apply(lambda x: len(x & RELEVANT_DESA_BAD)).value_counts()"
   ]
  },
  {
   "attachments": {},
   "cell_type": "markdown",
   "metadata": {},
   "source": [
    "### number of transplants directed to HLA"
   ]
  },
  {
   "cell_type": "code",
   "execution_count": 40,
   "metadata": {},
   "outputs": [
    {
     "data": {
      "text/plain": [
       "{}              363\n",
       "{B}              36\n",
       "{DQB1}           28\n",
       "{DRB1}            6\n",
       "{DRB5}            3\n",
       "{DRB1, DRB5}      1\n",
       "{A}               1\n",
       "{DQB1, B}         1\n",
       "Name: EpvsHLA_Donor, dtype: int64"
      ]
     },
     "execution_count": 40,
     "metadata": {},
     "output_type": "execute_result"
    }
   ],
   "source": [
    "get_rel_hla = lambda x: {hla.split('*')[0] for ep, hla in x.items() if ep in RELEVANT_DESA_BAD}\n",
    "df[(df.DESA_Status == 'DESA')]['EpvsHLA_Donor'].apply(get_rel_hla).value_counts()"
   ]
  },
  {
   "attachments": {},
   "cell_type": "markdown",
   "metadata": {},
   "source": [
    "### Tineke Follow-up question: I also need detailed information about all DESAs (loci, number per patient)."
   ]
  },
  {
   "cell_type": "code",
   "execution_count": 41,
   "metadata": {},
   "outputs": [
    {
     "data": {
      "text/plain": [
       "{A}                         83\n",
       "{B}                         80\n",
       "{DQB1}                      57\n",
       "{DRB1}                      36\n",
       "{A, B}                      20\n",
       "{C}                         17\n",
       "{DRB3}                      15\n",
       "{DRB3, DRB1}                11\n",
       "{DRB4}                       9\n",
       "{C, B}                       8\n",
       "{DQB1, DRB1}                 7\n",
       "{A, DRB1}                    6\n",
       "{C, A}                       6\n",
       "{DRB1, B}                    6\n",
       "{DRB5}                       5\n",
       "{DRB4, DRB1}                 5\n",
       "{DRB1, DRB5}                 5\n",
       "{DQA1, DQB1}                 5\n",
       "{A, DQB1}                    4\n",
       "{A, DRB1, B}                 4\n",
       "{DRB4, DQB1}                 3\n",
       "{C, DQB1}                    3\n",
       "{DQB1, DRB3, DRB1}           2\n",
       "{DQB1, DRB3}                 2\n",
       "{DQA1, DQB1, DRB1}           2\n",
       "{A, C, B}                    2\n",
       "{A, DQB1, DQA1}              2\n",
       "{A, DRB3, DRB1}              2\n",
       "{A, DQB1, DRB1}              2\n",
       "{DQB1, DRB1, DRB5}           1\n",
       "{A, DRB4}                    1\n",
       "{DRB4, DQB1, B}              1\n",
       "{A, DQB1, DRB1, DRB5}        1\n",
       "{C, DRB3}                    1\n",
       "{A, DRB3, DRB5}              1\n",
       "{A, DRB4, DRB1, C}           1\n",
       "{DRB4, DQB1, DRB1}           1\n",
       "{A, DQB1, C}                 1\n",
       "{C, DQB1, B}                 1\n",
       "{DQB1, DRB1, B}              1\n",
       "{A, DQB1, B}                 1\n",
       "{C, DQB1, DRB1}              1\n",
       "{DQA1, A, DRB1}              1\n",
       "{DRB3, B}                    1\n",
       "{A, DRB4, DRB1}              1\n",
       "{DQB1, B}                    1\n",
       "{DRB3, DQB1, DRB1, DRB5}     1\n",
       "{DRB5, B}                    1\n",
       "{B, A, DRB1, DRB5}           1\n",
       "{DQA1}                       1\n",
       "{A, DRB3}                    1\n",
       "{C, DRB1, DRB5, B}           1\n",
       "{DQA1, DRB3, DRB1, B}        1\n",
       "{A, DQB1, DRB3, DRB1}        1\n",
       "{DQA1, DRB5}                 1\n",
       "{C, DQB1, DQA1, B}           1\n",
       "{DQA1, DQB1, DRB1, B}        1\n",
       "{DQB1, DRB5}                 1\n",
       "{DQB1, DRB3, DRB1, B}        1\n",
       "Name: EpvsHLA_Donor, dtype: int64"
      ]
     },
     "execution_count": 41,
     "metadata": {},
     "output_type": "execute_result"
    }
   ],
   "source": [
    "get_hla = lambda x: {hla.split('*')[0] for ep, hla in x.items()}\n",
    "hla_vs_desa = df[df.DESA_Status == 'DESA']['EpvsHLA_Donor'].apply(get_hla).value_counts()\n",
    "hla_vs_desa"
   ]
  },
  {
   "cell_type": "markdown",
   "metadata": {},
   "source": []
  }
 ],
 "metadata": {
  "interpreter": {
   "hash": "708b3676616ca1f6951c8b5aa02ebb124c704b4e02ce2c0aaabd24e4641a0ea4"
  },
  "kernelspec": {
   "display_name": "Python 3.8.6 64-bit ('desa_paper-IhoHddMh': pipenv)",
   "language": "python",
   "name": "python3"
  },
  "language_info": {
   "codemirror_mode": {
    "name": "ipython",
    "version": 3
   },
   "file_extension": ".py",
   "mimetype": "text/x-python",
   "name": "python",
   "nbconvert_exporter": "python",
   "pygments_lexer": "ipython3",
   "version": "3.8.6 (v3.8.6:db455296be, Sep 23 2020, 13:31:39) \n[Clang 6.0 (clang-600.0.57)]"
  },
  "orig_nbformat": 4
 },
 "nbformat": 4,
 "nbformat_minor": 2
}
