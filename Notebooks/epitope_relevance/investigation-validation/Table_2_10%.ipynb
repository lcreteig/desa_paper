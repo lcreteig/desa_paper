{
 "cells": [
  {
   "cell_type": "code",
   "execution_count": 43,
   "metadata": {},
   "outputs": [
    {
     "name": "stdout",
     "output_type": "stream",
     "text": [
      "The autoreload extension is already loaded. To reload it, use:\n",
      "  %reload_ext autoreload\n"
     ]
    }
   ],
   "source": [
    "import pandas as pd\n",
    "from lifelines import CoxPHFitter\n",
    "from src.helper_methods import *\n",
    "from src.pipe_store import *\n",
    "from src.constants import *\n",
    "from lifelines import CoxPHFitter\n",
    "\n",
    "%matplotlib inline \n",
    "%config InlineBackend.figure_format = 'retina'\n",
    "%load_ext autoreload\n",
    "%autoreload 2"
   ]
  },
  {
   "cell_type": "code",
   "execution_count": 44,
   "metadata": {},
   "outputs": [],
   "source": [
    "RELEVANT_DESA_BAD = {\n",
    "    '71TD', '144QL', '70DRA', '80TLR', '70DA', '67F', '76ED', '76ET', '158T', '45EV'\n",
    "}"
   ]
  },
  {
   "attachments": {},
   "cell_type": "markdown",
   "metadata": {},
   "source": [
    "# Data Loading"
   ]
  },
  {
   "attachments": {},
   "cell_type": "markdown",
   "metadata": {},
   "source": [
    "### Total Cohort"
   ]
  },
  {
   "cell_type": "code",
   "execution_count": 45,
   "metadata": {},
   "outputs": [
    {
     "data": {
      "text/plain": [
       "Index(['TransplantID', 'DESA_Status', 'EpvsHLA_Donor', '#DESA', 'DESA',\n",
       "       'RecipientAge_NOTR', 'DonorAge_NOTR', 'TypeOfDonor_NOTR',\n",
       "       'FailureCode10Y_R', 'GraftSurvival10Y_R', 'IL2rMoAb', 'CIPHour_DBD',\n",
       "       'CIPHour_DCD', 'LivingDonorNum'],\n",
       "      dtype='object')"
      ]
     },
     "execution_count": 45,
     "metadata": {},
     "output_type": "execute_result"
    }
   ],
   "source": [
    "path_cohort = '~/UMCUtrecht/KaplanMeier/DESAsurvival.pickle'\n",
    "path_antibody = '~/UMCUtrecht/20211104_mismatch_ep_db.pickle'\n",
    "df_abs = pd.read_pickle(path_antibody)\n",
    "df_cohort = pd.read_pickle(path_cohort)\n",
    "df = df_abs.merge(df_cohort, on='TransplantID')\n",
    "cols = [\n",
    "    'TransplantID', 'DESA_Status', 'EpvsHLA_Donor', '#DESA', 'DESA', 'RecipientAge_NOTR', \n",
    "    'DonorAge_NOTR', 'TypeOfDonor_NOTR', 'FailureCode10Y_R', 'GraftSurvival10Y_R', 'IL2rMoAb',\n",
    "    'CIPHour_DBD', 'CIPHour_DCD' , 'LivingDonorNum', # 'FailureCode10y'\n",
    "]\n",
    "df = df[cols]\n",
    "df.columns"
   ]
  },
  {
   "attachments": {},
   "cell_type": "markdown",
   "metadata": {},
   "source": [
    "### All the DESA found"
   ]
  },
  {
   "cell_type": "code",
   "execution_count": 46,
   "metadata": {},
   "outputs": [
    {
     "name": "stdout",
     "output_type": "stream",
     "text": [
      "{'152RA', '96H', '143S', '245AS', '52PQ', '116L', '97T', '13FE', '96EV', '70DRA', '84QL', '48Q', '95V', '163LW', '116D', '70QQ', '77T[DQ]', '25Q', '9F[DQ]', '30G[B]', '170RH', '74EL', '67F', '211T', '80I', '73ID', '74R', '80TLR', '70DR', '66NM', '96QN', '144TKH', '70GT', '62LQ', '71TD', '32L', '52LL', '37YV[DR]', '31FY', '166DG', '76V', '73TVS', '77D', '149H', '97I', '114H', '129QS', '80TL', '163RW', '87F', '4R', '145RT', '66IF', '26Y', '73GQ', '142M', '140TV', '97M', '70RE', '40GR', '152HA', '62EE', '193PL', '75I', '75S', '144KR', '131S', '30C', '14W', '31F', '16Y', '57A', '71KA', '70QT', '248M', '80N', '71TTS', '26F', '77SRN', '67VT', '70IAQ', '107W', '76ED', '45EV', '30D', '13SE', '62RR', '62GK', '193AV', '138K', '207S', '70Q', '185I', '44RMA', '150AAH', '163R', '151AHE', '44RT', '74S', '38L', '37N', '98KS', '65RK', '156DA', '138MI', '62GRN', '180E', '47KHL', '70R', '65QIA', '32Y', '26L[DQ]', '45EE', '97W', '80K', '44RME', '40E', '66IS', '57V[DR]', '94I', '151H', '66IY', '70DA', '120N', '173K', '47F', '125SQ', '71QS', '98E', '28D', '167H', '158T', '55PPD', '37S', '85A', '76ESN', '162GLS', '56R', '96Y', '65GK', '113HD', '45GV', '104AK', '52SK', '71K', '80TA', '95I', '116Y', '77R', '67LQ', '161D', '30RV', '91R', '43R', '30G[DR]', '66KH', '163L', '37L', '184A', '69TNT', '46VY', '149AH', '82LR', '4Q', '109F', '77N[DR]', '26L[DR]', '97S', '114R', '127K', '66KA', '57DE', '70QK', '67VG', '32YN', '76VS', '163EW', '156QA', '65RNA', '66NH', '30H[DR]', '152A', '55PPA', '9F[A]', '97N', '181T', '73A', '105S', '9H', '6C', '116F', '56L', '77NGT', '87Y', '67I', '163RG', '130A', '151AHV', '9T', '70QA', '74A', '37YV[DQ]', '69AA', '79GT', '144QL', '177DT', '96Q', '56PD', '1C', '163LG', '41T', '37FL', '112Y', '73G', '17S', '90D', '40ERV', '177KT', '130Q', '97V', '245V', '45KE', '70QRA', '56PA', '133RS', '114Q', '66EV', '76EN', '71HS', '16S', '182N', '31FH', '144K', '163E', '253Q', '81ALR', '116I', '71ATD', '75IL', '71E', '70RT', '166ES', '37F', '70D', '63NI', '37YA', '24T', '37Y', '267QE', '270C', '86A', '25FT', '74Y', '98ES', '98Q', '180VMP', '55R', '189S', '62QE', '73AN', '32H', '31I', '98KN', '66NV', '150AH', '71TN', '28H', '175E', '125G', '51R', '66IC', '199V', '76VDT', '30H[DQ]', '151AHA', '11STS', '38A', '145KHA', '163LE', '113HN', '108T', '77TY', '74E', '182S', '66ER', '37FV', '147L', '76ET', '25R', '76ESI', '66IT', '55RPD', '74L', '77N[A]', '55PP', '76ANT', '71A', '152RR', '71SA', '62GE', '13GM', '152W', '180VTP', '96HK', '57V[DQ]', '181M', '177DK', '76VRN', '99S', '160AD', '73AS', '44KM', '57S'}\n"
     ]
    }
   ],
   "source": [
    "list_set_desa = df[(df.DESA_Status.eq('DESA'))].DESA.values\n",
    "desas = {ep for desa_set in list_set_desa for ep in desa_set}\n",
    "print(desas)"
   ]
  },
  {
   "attachments": {},
   "cell_type": "markdown",
   "metadata": {},
   "source": [
    "### Total DESA"
   ]
  },
  {
   "cell_type": "code",
   "execution_count": 47,
   "metadata": {},
   "outputs": [
    {
     "data": {
      "text/plain": [
       "313"
      ]
     },
     "execution_count": 47,
     "metadata": {},
     "output_type": "execute_result"
    }
   ],
   "source": [
    "len(desas)"
   ]
  },
  {
   "attachments": {},
   "cell_type": "markdown",
   "metadata": {},
   "source": [
    "### NUmber of Tx with DESA"
   ]
  },
  {
   "cell_type": "code",
   "execution_count": 48,
   "metadata": {},
   "outputs": [
    {
     "data": {
      "text/plain": [
       "439"
      ]
     },
     "execution_count": 48,
     "metadata": {},
     "output_type": "execute_result"
    }
   ],
   "source": [
    "len(df[(df.DESA_Status.eq('DESA'))])"
   ]
  },
  {
   "attachments": {},
   "cell_type": "markdown",
   "metadata": {},
   "source": [
    "### NUmber of Tx with clinically relevant DESA"
   ]
  },
  {
   "cell_type": "code",
   "execution_count": 49,
   "metadata": {},
   "outputs": [
    {
     "name": "stdout",
     "output_type": "stream",
     "text": [
      "Total: 76\n",
      "Deceased 55\n",
      "Living 21\n"
     ]
    }
   ],
   "source": [
    "print('Total:', df['DESA'].apply(lambda x: bool(x & RELEVANT_DESA_BAD)).sum())\n",
    "print('Deceased', df[df.TypeOfDonor_NOTR == 'Deceased']['DESA'].apply(lambda x: bool(x & RELEVANT_DESA_BAD)).sum())\n",
    "print('Living', df[df.TypeOfDonor_NOTR == 'Living']['DESA'].apply(lambda x: bool(x & RELEVANT_DESA_BAD)).sum())"
   ]
  },
  {
   "attachments": {},
   "cell_type": "markdown",
   "metadata": {},
   "source": [
    "### Number of DESA per group [total 313]"
   ]
  },
  {
   "cell_type": "code",
   "execution_count": 50,
   "metadata": {},
   "outputs": [
    {
     "data": {
      "text/plain": [
       "{'ABC': 161, 'DR': 95, 'DQ': 57}"
      ]
     },
     "execution_count": 50,
     "metadata": {},
     "output_type": "execute_result"
    }
   ],
   "source": [
    "from collections import defaultdict\n",
    "from src.constants import Epitope_DB\n",
    "\n",
    "cls_vs_desa = defaultdict(set)\n",
    "for ep in desas: \n",
    "    for group, epitopes in Epitope_DB.items():\n",
    "        if ep in epitopes: \n",
    "            cls_vs_desa[group].add(ep)\n",
    "\n",
    "{cls: len(_set) for cls, _set in cls_vs_desa.items()}"
   ]
  },
  {
   "attachments": {},
   "cell_type": "markdown",
   "metadata": {},
   "source": [
    "### Relevant DESA per group"
   ]
  },
  {
   "cell_type": "code",
   "execution_count": 25,
   "metadata": {},
   "outputs": [],
   "source": [
    "cls_vs_desa = defaultdict(set)\n",
    "for ep in RELEVANT_DESA_BAD: \n",
    "    for group, epitopes in Epitope_DB.items():\n",
    "        if ep in epitopes: \n",
    "            cls_vs_desa[group].add(ep)"
   ]
  },
  {
   "cell_type": "code",
   "execution_count": 28,
   "metadata": {},
   "outputs": [
    {
     "data": {
      "text/plain": [
       "{'ABC': {'144QL', '158T', '71TD', '76ED', '76ET', '80TLR'},\n",
       " 'DR': {'67F', '70DA', '70DRA'},\n",
       " 'DQ': {'45EV'}}"
      ]
     },
     "execution_count": 28,
     "metadata": {},
     "output_type": "execute_result"
    }
   ],
   "source": [
    "dict(cls_vs_desa)"
   ]
  },
  {
   "cell_type": "code",
   "execution_count": null,
   "metadata": {},
   "outputs": [],
   "source": [
    "{\n",
    "    'ABC': {'144QL', '158T', '71TD', '76ED', '76ET', '80TLR'},\n",
    "    'DR': {'67F', '70DA', '70DRA'},\n",
    "    'DQ': {'45EV'}\n",
    "}"
   ]
  },
  {
   "attachments": {},
   "cell_type": "markdown",
   "metadata": {},
   "source": [
    "### number of transplants with clinically relevant DESA:"
   ]
  },
  {
   "cell_type": "code",
   "execution_count": 36,
   "metadata": {},
   "outputs": [
    {
     "data": {
      "text/plain": [
       "0    363\n",
       "1     53\n",
       "2      9\n",
       "3      9\n",
       "4      4\n",
       "5      1\n",
       "Name: DESA, dtype: int64"
      ]
     },
     "execution_count": 36,
     "metadata": {},
     "output_type": "execute_result"
    }
   ],
   "source": [
    "df[df.DESA_Status.eq('DESA')]['DESA'].apply(lambda x: len(x & RELEVANT_DESA_BAD)).value_counts()"
   ]
  },
  {
   "attachments": {},
   "cell_type": "markdown",
   "metadata": {},
   "source": [
    "### number of transplants directed to HLA"
   ]
  },
  {
   "cell_type": "code",
   "execution_count": 40,
   "metadata": {},
   "outputs": [
    {
     "data": {
      "text/plain": [
       "{}              363\n",
       "{B}              36\n",
       "{DQB1}           28\n",
       "{DRB1}            6\n",
       "{DRB5}            3\n",
       "{DRB1, DRB5}      1\n",
       "{A}               1\n",
       "{DQB1, B}         1\n",
       "Name: EpvsHLA_Donor, dtype: int64"
      ]
     },
     "execution_count": 40,
     "metadata": {},
     "output_type": "execute_result"
    }
   ],
   "source": [
    "get_rel_hla = lambda x: {hla.split('*')[0] for ep, hla in x.items() if ep in RELEVANT_DESA_BAD}\n",
    "df[(df.DESA_Status == 'DESA')]['EpvsHLA_Donor'].apply(get_rel_hla).value_counts()"
   ]
  },
  {
   "attachments": {},
   "cell_type": "markdown",
   "metadata": {},
   "source": [
    "### Tineke Follow-up question: I also need detailed information about all DESAs (loci, number per patient)."
   ]
  },
  {
   "cell_type": "code",
   "execution_count": 41,
   "metadata": {},
   "outputs": [
    {
     "data": {
      "text/plain": [
       "{A}                         83\n",
       "{B}                         80\n",
       "{DQB1}                      57\n",
       "{DRB1}                      36\n",
       "{A, B}                      20\n",
       "{C}                         17\n",
       "{DRB3}                      15\n",
       "{DRB3, DRB1}                11\n",
       "{DRB4}                       9\n",
       "{C, B}                       8\n",
       "{DQB1, DRB1}                 7\n",
       "{A, DRB1}                    6\n",
       "{C, A}                       6\n",
       "{DRB1, B}                    6\n",
       "{DRB5}                       5\n",
       "{DRB4, DRB1}                 5\n",
       "{DRB1, DRB5}                 5\n",
       "{DQA1, DQB1}                 5\n",
       "{A, DQB1}                    4\n",
       "{A, DRB1, B}                 4\n",
       "{DRB4, DQB1}                 3\n",
       "{C, DQB1}                    3\n",
       "{DQB1, DRB3, DRB1}           2\n",
       "{DQB1, DRB3}                 2\n",
       "{DQA1, DQB1, DRB1}           2\n",
       "{A, C, B}                    2\n",
       "{A, DQB1, DQA1}              2\n",
       "{A, DRB3, DRB1}              2\n",
       "{A, DQB1, DRB1}              2\n",
       "{DQB1, DRB1, DRB5}           1\n",
       "{A, DRB4}                    1\n",
       "{DRB4, DQB1, B}              1\n",
       "{A, DQB1, DRB1, DRB5}        1\n",
       "{C, DRB3}                    1\n",
       "{A, DRB3, DRB5}              1\n",
       "{A, DRB4, DRB1, C}           1\n",
       "{DRB4, DQB1, DRB1}           1\n",
       "{A, DQB1, C}                 1\n",
       "{C, DQB1, B}                 1\n",
       "{DQB1, DRB1, B}              1\n",
       "{A, DQB1, B}                 1\n",
       "{C, DQB1, DRB1}              1\n",
       "{DQA1, A, DRB1}              1\n",
       "{DRB3, B}                    1\n",
       "{A, DRB4, DRB1}              1\n",
       "{DQB1, B}                    1\n",
       "{DRB3, DQB1, DRB1, DRB5}     1\n",
       "{DRB5, B}                    1\n",
       "{B, A, DRB1, DRB5}           1\n",
       "{DQA1}                       1\n",
       "{A, DRB3}                    1\n",
       "{C, DRB1, DRB5, B}           1\n",
       "{DQA1, DRB3, DRB1, B}        1\n",
       "{A, DQB1, DRB3, DRB1}        1\n",
       "{DQA1, DRB5}                 1\n",
       "{C, DQB1, DQA1, B}           1\n",
       "{DQA1, DQB1, DRB1, B}        1\n",
       "{DQB1, DRB5}                 1\n",
       "{DQB1, DRB3, DRB1, B}        1\n",
       "Name: EpvsHLA_Donor, dtype: int64"
      ]
     },
     "execution_count": 41,
     "metadata": {},
     "output_type": "execute_result"
    }
   ],
   "source": [
    "get_hla = lambda x: {hla.split('*')[0] for ep, hla in x.items()}\n",
    "hla_vs_desa = df[df.DESA_Status == 'DESA']['EpvsHLA_Donor'].apply(get_hla).value_counts()\n",
    "hla_vs_desa"
   ]
  },
  {
   "attachments": {},
   "cell_type": "markdown",
   "metadata": {},
   "source": [
    "### Number of DESA per transplant"
   ]
  },
  {
   "cell_type": "code",
   "execution_count": 64,
   "metadata": {},
   "outputs": [
    {
     "data": {
      "text/plain": [
       "1     82\n",
       "2     63\n",
       "3     51\n",
       "4     44\n",
       "5     40\n",
       "6     27\n",
       "7     27\n",
       "8     17\n",
       "9      9\n",
       "10    10\n",
       "11    13\n",
       "12     6\n",
       "13     7\n",
       "14     8\n",
       "15     6\n",
       "16     6\n",
       "17     2\n",
       "18     2\n",
       "19     1\n",
       "20     2\n",
       "21     3\n",
       "22     2\n",
       "23     2\n",
       "24     2\n",
       "25     3\n",
       "32     3\n",
       "34     1\n",
       "Name: #DESA, dtype: int64"
      ]
     },
     "execution_count": 64,
     "metadata": {},
     "output_type": "execute_result"
    }
   ],
   "source": [
    "df[df['#DESA']!=0]['#DESA'].value_counts().sort_index(ascending=True)"
   ]
  },
  {
   "attachments": {},
   "cell_type": "markdown",
   "metadata": {},
   "source": [
    "### Number of Relevant DESA per transplant"
   ]
  },
  {
   "cell_type": "code",
   "execution_count": 61,
   "metadata": {},
   "outputs": [
    {
     "data": {
      "text/plain": [
       "0    363\n",
       "1     53\n",
       "2      9\n",
       "3      9\n",
       "4      4\n",
       "5      1\n",
       "Name: DESA, dtype: int64"
      ]
     },
     "execution_count": 61,
     "metadata": {},
     "output_type": "execute_result"
    }
   ],
   "source": [
    "df[df['#DESA']!=0]['DESA'].apply(lambda x: len(x & RELEVANT_DESA_BAD)).value_counts().sort_index(ascending=True)"
   ]
  },
  {
   "cell_type": "code",
   "execution_count": null,
   "metadata": {},
   "outputs": [],
   "source": []
  }
 ],
 "metadata": {
  "interpreter": {
   "hash": "708b3676616ca1f6951c8b5aa02ebb124c704b4e02ce2c0aaabd24e4641a0ea4"
  },
  "kernelspec": {
   "display_name": "Python 3.8.6 64-bit ('desa_paper-IhoHddMh': pipenv)",
   "language": "python",
   "name": "python3"
  },
  "language_info": {
   "codemirror_mode": {
    "name": "ipython",
    "version": 3
   },
   "file_extension": ".py",
   "mimetype": "text/x-python",
   "name": "python",
   "nbconvert_exporter": "python",
   "pygments_lexer": "ipython3",
   "version": "3.8.6 (v3.8.6:db455296be, Sep 23 2020, 13:31:39) \n[Clang 6.0 (clang-600.0.57)]"
  },
  "orig_nbformat": 4
 },
 "nbformat": 4,
 "nbformat_minor": 2
}
