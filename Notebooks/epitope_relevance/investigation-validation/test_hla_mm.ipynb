{
 "cells": [
  {
   "cell_type": "code",
   "execution_count": 8,
   "metadata": {},
   "outputs": [],
   "source": [
    "import pandas as pd"
   ]
  },
  {
   "cell_type": "code",
   "execution_count": 9,
   "metadata": {},
   "outputs": [],
   "source": [
    "Split = set({\"A23\", \"A24\", \"A25\", \"A26\", \"A34\", \"A66\", \"A29\", \"A30\", \"A31\", \"A32\", \n",
    "\"A33\", \"A74\", \"A68\", \"A69\", \"Cw9\", \"Cw10\", \"B51\", \"B52\", \"B44\", \"B45\", \n",
    "\"B64\", \"B65\", \"B62\", \"B63\", \"B75\", \"B76\", \"B77\", \"B38\", \"B39\", \"B57\", \n",
    "\"B58\", \"B49\", \"B50\", \"B54\", \"B55\", \"B56\", \"B60\", \"B61\", \"B71\", \"B72\", \n",
    "\"DQ5\", \"DQ6\", \"DQ7\", \"DQ8\", \"DQ9\", \"DR11\", \"DR12\", \"DR13\", \"DR14\", \"DR15\", \n",
    "\"DR16\", \"DR17\", \"DR18\"})\n",
    "\n",
    "Broad_vs_Split = {\"A9\":[\"A23\",\"A24\",\"A2403\"], \"A10\":[\"A25\",\"A26\",\"A34\",\"A66\"], \"A19\":[\"A29\",\"A30\",\"A31\",\"A32\",\"A33\",\"A74\"],\n",
    "               \"A28\":[\"A68\",\"A69\"], \n",
    "               \"Cw3\":[\"Cw9\",\"Cw10\",\"C9\",\"C10\"],\n",
    "               \"B5\" :[\"B51\",\"B52\"], \"B12\":[\"B44\",\"B45\"], \"B14\":[\"B64\",\"B65\"], \"B15\":[\"B62\",\"B63\",\"B75\",\"B76\",\"B77\"],\n",
    "               \"B16\":[\"B38\",\"B39\"], \"B17\":[\"B57\",\"B58\"], \"B21\":[\"B49\",\"B50\"], \"B22\":[\"B54\",\"B55\",\"B56\"], \n",
    "               \"B40\":[\"B60\",\"B61\"], \"B70\":[\"B71\",\"B72\"], \n",
    "               \"DR2\":[\"DR15\",\"DR16\"], \"DR3\":[\"DR17\",\"DR18\"], \"DR5\":[\"DR11\",\"DR12\"], \"DR6\":[\"DR13\",\"DR14\"],\n",
    "               \"DQ1\":[\"DQ5\",\"DQ6\"], \"DQ3\":[\"DQ7\",\"DQ8\",\"DQ9\"]}\n",
    "\n",
    "Public = { \"BW4\", \"BW6\", \"DR51\", \"DR52\", \"DR53\", \"DRB3\", \"DRB4\", \"DRB5\" }\n",
    "\n",
    "def get_braod_from_split(hla:str):\n",
    "    for key, values in Broad_vs_Split.items():\n",
    "        if hla in values:\n",
    "            return key\n",
    "    raise ValueError('Broad level could not be found')\n",
    "\n",
    "from typing import  Set\n",
    "from dataclasses import  dataclass, field\n",
    "@dataclass\n",
    "class HLALowRes:\n",
    "    \"\"\" Class for all Low Resolution HLA's \"\"\"\n",
    "    string: str = field(repr=False)\n",
    "    A: Set[str] = field(default_factory=set)\n",
    "    B: Set[str] = field(default_factory=set)\n",
    "    C: Set[str] = field(default_factory=set, repr=False)\n",
    "    DR: Set[str] = field(default_factory=set)\n",
    "    DQ: Set[str] = field(default_factory=set, repr=False)\n",
    "\n",
    "    def __post_init__(self):\n",
    "        # self.gene, self.allel = re.findall(r'(\\w+?)(\\d+)', self.string)[0]\n",
    "        for hla in set(self.string.upper().split(' ')) - Public:\n",
    "            \n",
    "            if hla in Public:\n",
    "                continue \n",
    "            if hla in Split:\n",
    "                # print(f'HLA {hla} had a broad level')\n",
    "                hla = get_braod_from_split(hla)\n",
    "                # print(hla)\n",
    "            if ('A' in hla) and ('*' not in hla):\n",
    "                self.A.add(hla)\n",
    "            if ('B' in hla) and ('DQB' not in hla) and ('DRB' not in hla) and ('*' not in hla):\n",
    "                self.B.add(hla)\n",
    "            if 'C' in hla:\n",
    "                self.C.add(hla)\n",
    "            if ('DR' in hla) and ('*' not in hla):\n",
    "                self.DR.add(hla)\n",
    "            if 'DQ' in hla:\n",
    "                self.DQ.add(hla)"
   ]
  },
  {
   "cell_type": "code",
   "execution_count": 10,
   "metadata": {},
   "outputs": [],
   "source": [
    "\n",
    "Broad = set({\"A1\", \"A2\", \"A203\", \"A210\", \"A3\", \"A9\", \"A10\", \"A11\", \"A19\", \"A2403\", \n",
    "\"A28\", \"A36\", \"A43\", \"A80\", \"B5\", \"B7\", \"B703\", \"B8\", \"B12\", \"B13\", \n",
    "\"B14\", \"B15\", \"B16\", \"B17\", \"B18\", \"B21\", \"B22\", \"B27\", \"B2708\", \"B35\", \n",
    "\"B37\", \"B3901\", \"B3902\", \"B40\", \"B4005\", \"B41\", \"B42\", \"B46\", \"B47\", \"B48\", \n",
    "\"B5102\", \"B5103\", \"B53\", \"B59\", \"B67\", \"B70\", \"B73\", \"B78\", \"B81\", \"B82\", \n",
    "\"Cw1\", \"Cw2\", \"Cw3\", \"Cw4\", \"Cw5\", \"Cw6\", \"Cw7\", \"Cw8\", \"Cw12\", \"Cw14\", \n",
    "\"Cw15\", \"Cw16\", \"Cw17\", \"Cw18\", \"DPw1\", \"DPw1\", \"DPw2\", \"DPw3\", \"DPw4\", \"DPw5\", \n",
    "\"DPW6\", \"DQ1\", \"DQ2\", \"DQ3\", \"DQ4\", \"DR1\", \"DR103\", \"DR2\", \"DR3\", \"DR4\", \n",
    "\"DR5\", \"DR6\", \"DR7\", \"DR8\", \"DR9\", \"DR10\", \"DR1403\", \"DR1404\"})\n",
    "\n",
    "Broad_with_Splits = {\"A9\", \"A10\", \"A19\", \"A28\", \"B5\", \"B12\", \"B14\", \"B15\", \"B16\", \"B17\", \n",
    "\"B21\", \"B22\", \"B40\", \"B70\", \"CW3\", \"DQ1\", \"DQ3\", \"DR2\", \"DR3\", \"DR5\", \n",
    "\"DR6\" }\n",
    "\n",
    "Split = set({\"A23\", \"A24\", \"A25\", \"A26\", \"A34\", \"A66\", \"A29\", \"A30\", \"A31\", \"A32\", \n",
    "\"A33\", \"A74\", \"A68\", \"A69\", \"Cw9\", \"Cw10\", \"B51\", \"B52\", \"B44\", \"B45\", \n",
    "\"B64\", \"B65\", \"B62\", \"B63\", \"B75\", \"B76\", \"B77\", \"B38\", \"B39\", \"B57\", \n",
    "\"B58\", \"B49\", \"B50\", \"B54\", \"B55\", \"B56\", \"B60\", \"B61\", \"B71\", \"B72\", \n",
    "\"DQ5\", \"DQ6\", \"DQ7\", \"DQ8\", \"DQ9\", \"DR11\", \"DR12\", \"DR13\", \"DR14\", \"DR15\", \n",
    "\"DR16\", \"DR17\", \"DR18\"})\n",
    "\n",
    "Broad_vs_Split = {\"A9\":[\"A23\",\"A24\",\"A2403\"], \"A10\":[\"A25\",\"A26\",\"A34\",\"A66\"], \"A19\":[\"A29\",\"A30\",\"A31\",\"A32\",\"A33\",\"A74\"],\n",
    "               \"A28\":[\"A68\",\"A69\"], \n",
    "               \"Cw3\":[\"Cw9\",\"Cw10\",\"C9\",\"C10\"],\n",
    "               \"B5\" :[\"B51\",\"B52\"], \"B12\":[\"B44\",\"B45\"], \"B14\":[\"B64\",\"B65\"], \"B15\":[\"B62\",\"B63\",\"B75\",\"B76\",\"B77\"],\n",
    "               \"B16\":[\"B38\",\"B39\"], \"B17\":[\"B57\",\"B58\"], \"B21\":[\"B49\",\"B50\"], \"B22\":[\"B54\",\"B55\",\"B56\"], \n",
    "               \"B40\":[\"B60\",\"B61\"], \"B70\":[\"B71\",\"B72\"], \n",
    "               \"DR2\":[\"DR15\",\"DR16\"], \"DR3\":[\"DR17\",\"DR18\"], \"DR5\":[\"DR11\",\"DR12\"], \"DR6\":[\"DR13\",\"DR14\"],\n",
    "               \"DQ1\":[\"DQ5\",\"DQ6\"], \"DQ3\":[\"DQ7\",\"DQ8\",\"DQ9\"]}\n",
    "\n",
    "\n",
    "C = {\"Cw1\", \"Cw2\", \"Cw3\", \"Cw4\", \"Cw5\", \"Cw6\", \"Cw7\", \"Cw8\", \"Cw12\", \"Cw14\",  \"Cw15\", \"Cw16\", \"Cw17\", \"Cw18\"}\n",
    "    \n"
   ]
  },
  {
   "cell_type": "code",
   "execution_count": 11,
   "metadata": {},
   "outputs": [
    {
     "name": "stderr",
     "output_type": "stream",
     "text": [
      "/Users/Danial/.local/share/virtualenvs/Kidney-Allocation-Simulation-Z3iUqX5z/lib/python3.8/site-packages/openpyxl/styles/stylesheet.py:226: UserWarning: Workbook contains no default style, apply openpyxl's default\n",
      "  warn(\"Workbook contains no default style, apply openpyxl's default\")\n"
     ]
    }
   ],
   "source": [
    "path = '/Users/Danial/UMCUtrecht/09_20160621_RecipientAndDonorMergedType_mismatches.xlsx'\n",
    "df = pd.read_excel(path)\n",
    "cols = ['TransplantID_Vdm', 'RecipientMergedType', 'DonorMergedType', 'mmA_broadLevel', 'mmB_broadLevel', 'mmDR_broadLevel', 'mmDR_splitLevel']\n",
    "df_new = df[cols].dropna(how='any', axis=0)"
   ]
  },
  {
   "cell_type": "code",
   "execution_count": 12,
   "metadata": {},
   "outputs": [],
   "source": [
    "def hla_mm(donor, patient):\n",
    "    \"\"\" The current implementation does not account for single HLA per locus \"\"\"\n",
    "\n",
    "    return len(donor.A - patient.A), len(donor.B - patient.B),  len(donor.DR - patient.DR)"
   ]
  },
  {
   "cell_type": "code",
   "execution_count": 13,
   "metadata": {},
   "outputs": [
    {
     "name": "stdout",
     "output_type": "stream",
     "text": [
      "<class 'pandas.core.frame.DataFrame'>\n",
      "Int64Index: 4741 entries, 0 to 6094\n",
      "Data columns (total 7 columns):\n",
      " #   Column               Non-Null Count  Dtype  \n",
      "---  ------               --------------  -----  \n",
      " 0   TransplantID_Vdm     4741 non-null   int64  \n",
      " 1   RecipientMergedType  4741 non-null   object \n",
      " 2   DonorMergedType      4741 non-null   object \n",
      " 3   mmA_broadLevel       4741 non-null   float64\n",
      " 4   mmB_broadLevel       4741 non-null   float64\n",
      " 5   mmDR_broadLevel      4741 non-null   float64\n",
      " 6   mmDR_splitLevel      4741 non-null   float64\n",
      "dtypes: float64(4), int64(1), object(2)\n",
      "memory usage: 296.3+ KB\n",
      "None\n"
     ]
    }
   ],
   "source": [
    "print(df_new.info())"
   ]
  },
  {
   "cell_type": "code",
   "execution_count": 22,
   "metadata": {},
   "outputs": [],
   "source": [
    "from collections import defaultdict\n",
    "tx_hla_mm = defaultdict(list)\n",
    "for row in df_new.iterrows():\n",
    "    tx_id, hla_recipient, hla_donor, mm_a_broad, mm_b_broad, mm_dr_broad, mm_dr_split = row[1]\n",
    "    tx_hla_mm['TransplantID'].append(tx_id) \n",
    "    tx_hla_mm['HLA_Mismatch'].append(int(mm_a_broad + mm_b_broad + mm_dr_broad))\n",
    "    try:\n",
    "        hla_recipient = HLALowRes(hla_recipient)\n",
    "        hla_donor = HLALowRes(hla_donor)\n",
    "    except:\n",
    "        print(hla_recipient, hla_donor)\n",
    "    mm_a, mm_b, mm_dr = hla_mm(hla_donor, hla_recipient)\n",
    "    try:\n",
    "        assert int(mm_a_broad) == mm_a \n",
    "    except AssertionError:\n",
    "        print(f'Error A: Donor {hla_donor.A}, Patient {hla_recipient.A}, MM expected {mm_a_broad}, but is {mm_a}')\n",
    "    try:\n",
    "        assert int(mm_b_broad) == mm_b\n",
    "    except AssertionError:\n",
    "        print(f'Error B: Donor {hla_donor.B}, Patient {hla_recipient.B}, MM expected {mm_b_broad}, but is {mm_b}')\n",
    "    try:\n",
    "        assert int(mm_dr_broad) == mm_dr \n",
    "    except AssertionError:\n",
    "        print(f'Error DR: Donor {hla_donor.DR}, Patient {hla_recipient.DR}, MM expected {mm_dr_broad}, but is {mm_dr}')"
   ]
  },
  {
   "attachments": {},
   "cell_type": "markdown",
   "metadata": {},
   "source": [
    "# Caldulating the HLA mismatch for the whole transplants"
   ]
  },
  {
   "cell_type": "code",
   "execution_count": 46,
   "metadata": {},
   "outputs": [],
   "source": [
    "path_tx = '/Users/Danial/UMCUtrecht/RawData/NOTR/PRO_NOTR_TRANSPLANT.csv'\n",
    "path_donor = '/Users/Danial/UMCUtrecht/RawData/NOTR/PRO_NOTR_DONOR.csv'\n",
    "path_patient = '/Users/Danial/UMCUtrecht/RawData/NOTR/PRO_NOTR_RECIPIENT.csv'\n",
    "\n",
    "df_tx = pd.read_csv(path_tx, sep=';')[['TransplantID', 'DeelnemerID', 'DonorID']]\n",
    "df_donor = pd.read_csv(path_donor, sep=';')[['DonorID', 'DonorHLAMergedType_NOTR']]\n",
    "df_patient = pd.read_csv(path_patient, sep=';')[['DeelnemerID', 'RecipientHLAMergedType_NOTR']]\n"
   ]
  },
  {
   "cell_type": "code",
   "execution_count": 59,
   "metadata": {},
   "outputs": [
    {
     "name": "stdout",
     "output_type": "stream",
     "text": [
      "[nan nan nan ... nan nan nan]\n",
      "[nan nan nan ... nan nan nan]\n",
      "'numpy.ndarray' object has no attribute 'upper'\n",
      "Donor: HLALowRes(A={'A3', 'A10'}, B={'B7', 'B18'}, DR={'DR2', 'DR8'}), Patient HLALowRes(A={'A2', 'A3'}, B={'B40', 'B35'}, DR={'DR4', 'DR2'})\n",
      "defaultdict(<class 'list'>, {'TransplantID': [1384], 'HLA_Mismatch': [4]})\n"
     ]
    }
   ],
   "source": [
    "tx_hla_mm = defaultdict(list)\n",
    "for tx_id in df_tx.TransplantID.values[0:1]:\n",
    "    patient_id = df_tx[df_tx.eq(tx_id)]['DeelnemerID'].values[0]\n",
    "    donor_id = df_tx[df_tx.eq(tx_id)]['DonorID'].values[0]\n",
    "    # donor_hla = df_donor[df_donor.eq(donor_id)]['DonorHLAMergedType_NOTR'].values\n",
    "    # patient_hla = df_patient[df_patient.eq(patient_id)]['RecipientHLAMergedType_NOTR'].values\n",
    "    # print(patient_hla)\n",
    "    # print(donor_hla)\n",
    "    # try:\n",
    "    #     hla_recipient = HLALowRes(patient_hla)\n",
    "    #     hla_donor = HLALowRes(donor_hla)\n",
    "    # except Exception as e:\n",
    "    #     print(e)\n",
    "    #     print(f'Donor: {hla_donor}, Patient {hla_recipient}')\n",
    "    # mm_a, mm_b, mm_dr = hla_mm(hla_donor, hla_recipient)\n",
    "\n",
    "    # tx_hla_mm['TransplantID'].append(tx_id) \n",
    "    # tx_hla_mm['HLA_Mismatch'].append(int(mm_a_broad + mm_b_broad + mm_dr_broad))\n",
    "    # print(tx_hla_mm)"
   ]
  },
  {
   "cell_type": "code",
   "execution_count": 48,
   "metadata": {},
   "outputs": [
    {
     "data": {
      "text/html": [
       "<div>\n",
       "<style scoped>\n",
       "    .dataframe tbody tr th:only-of-type {\n",
       "        vertical-align: middle;\n",
       "    }\n",
       "\n",
       "    .dataframe tbody tr th {\n",
       "        vertical-align: top;\n",
       "    }\n",
       "\n",
       "    .dataframe thead th {\n",
       "        text-align: right;\n",
       "    }\n",
       "</style>\n",
       "<table border=\"1\" class=\"dataframe\">\n",
       "  <thead>\n",
       "    <tr style=\"text-align: right;\">\n",
       "      <th></th>\n",
       "      <th>DeelnemerID</th>\n",
       "      <th>RecipientHLAMergedType_NOTR</th>\n",
       "    </tr>\n",
       "  </thead>\n",
       "  <tbody>\n",
       "    <tr>\n",
       "      <th>0</th>\n",
       "      <td>70850</td>\n",
       "      <td>A2 A2 B7 B17 B58 Bw4 Bw6 Cw7 DR3 DR4 DR52 DR53...</td>\n",
       "    </tr>\n",
       "    <tr>\n",
       "      <th>1</th>\n",
       "      <td>77584</td>\n",
       "      <td>A1 A2 B5 B51 B8 Bw4 Bw6 Cw7 DR3 DR17 DR8 DR52</td>\n",
       "    </tr>\n",
       "    <tr>\n",
       "      <th>2</th>\n",
       "      <td>69857</td>\n",
       "      <td>A2 A9 A24 B12 B44 B15 B62 Bw4 Bw6 Cw2 Cw3 DR4 ...</td>\n",
       "    </tr>\n",
       "    <tr>\n",
       "      <th>3</th>\n",
       "      <td>87745</td>\n",
       "      <td>A2 A10 A26 B7 B15 B62 Bw6 Cw3 Cw10 Cw7 DR2 DR1...</td>\n",
       "    </tr>\n",
       "    <tr>\n",
       "      <th>4</th>\n",
       "      <td>70851</td>\n",
       "      <td>A2 A10 A26 B5 B51 B27 Bw4 Cw1 Cw2 DR5 DR11 DR6...</td>\n",
       "    </tr>\n",
       "    <tr>\n",
       "      <th>...</th>\n",
       "      <td>...</td>\n",
       "      <td>...</td>\n",
       "    </tr>\n",
       "    <tr>\n",
       "      <th>5785</th>\n",
       "      <td>73862</td>\n",
       "      <td>A2 A9 A24 B12 B44 B21 B50 Bw4 Bw6 Cw5 Cw6 DR4 ...</td>\n",
       "    </tr>\n",
       "    <tr>\n",
       "      <th>5786</th>\n",
       "      <td>68815</td>\n",
       "      <td>A2 A9 A24 B5 B51 B15 B62 Bw4 Bw6 Cw3 Cw7 DR4 D...</td>\n",
       "    </tr>\n",
       "    <tr>\n",
       "      <th>5787</th>\n",
       "      <td>88472</td>\n",
       "      <td>A2 A3 B35 B40 B60 Bw6 DR2 DR15 DRB1*15:XX DR4 ...</td>\n",
       "    </tr>\n",
       "    <tr>\n",
       "      <th>5788</th>\n",
       "      <td>72118</td>\n",
       "      <td>A1 A2 B8 B35 Bw6 Cw4 Cw7 DR1 DR3 DR17 DR52 DQ1...</td>\n",
       "    </tr>\n",
       "    <tr>\n",
       "      <th>5789</th>\n",
       "      <td>72996</td>\n",
       "      <td>A1 A11 B5 B52 B37 Bw4 Cw6 Cw7 DR7 DR9 DR53 DQ2...</td>\n",
       "    </tr>\n",
       "  </tbody>\n",
       "</table>\n",
       "<p>5790 rows × 2 columns</p>\n",
       "</div>"
      ],
      "text/plain": [
       "      DeelnemerID                        RecipientHLAMergedType_NOTR\n",
       "0           70850  A2 A2 B7 B17 B58 Bw4 Bw6 Cw7 DR3 DR4 DR52 DR53...\n",
       "1           77584      A1 A2 B5 B51 B8 Bw4 Bw6 Cw7 DR3 DR17 DR8 DR52\n",
       "2           69857  A2 A9 A24 B12 B44 B15 B62 Bw4 Bw6 Cw2 Cw3 DR4 ...\n",
       "3           87745  A2 A10 A26 B7 B15 B62 Bw6 Cw3 Cw10 Cw7 DR2 DR1...\n",
       "4           70851  A2 A10 A26 B5 B51 B27 Bw4 Cw1 Cw2 DR5 DR11 DR6...\n",
       "...           ...                                                ...\n",
       "5785        73862  A2 A9 A24 B12 B44 B21 B50 Bw4 Bw6 Cw5 Cw6 DR4 ...\n",
       "5786        68815  A2 A9 A24 B5 B51 B15 B62 Bw4 Bw6 Cw3 Cw7 DR4 D...\n",
       "5787        88472  A2 A3 B35 B40 B60 Bw6 DR2 DR15 DRB1*15:XX DR4 ...\n",
       "5788        72118  A1 A2 B8 B35 Bw6 Cw4 Cw7 DR1 DR3 DR17 DR52 DQ1...\n",
       "5789        72996  A1 A11 B5 B52 B37 Bw4 Cw6 Cw7 DR7 DR9 DR53 DQ2...\n",
       "\n",
       "[5790 rows x 2 columns]"
      ]
     },
     "execution_count": 48,
     "metadata": {},
     "output_type": "execute_result"
    }
   ],
   "source": [
    "df_patient"
   ]
  },
  {
   "cell_type": "code",
   "execution_count": 28,
   "metadata": {},
   "outputs": [],
   "source": [
    "pd.DataFrame(tx_hla_mm).to_pickle('~/Repos/STRIDE/desa_paper/data/hla_mm.pickle')"
   ]
  },
  {
   "cell_type": "code",
   "execution_count": null,
   "metadata": {},
   "outputs": [],
   "source": []
  }
 ],
 "metadata": {
  "interpreter": {
   "hash": "77e286f405d6b1790e123ad69400c5443ff81f052c96e830664f41fd9543470a"
  },
  "kernelspec": {
   "display_name": "Python 3.8.6 ('Kidney-Allocation-Simulation-Z3iUqX5z')",
   "language": "python",
   "name": "python3"
  },
  "language_info": {
   "codemirror_mode": {
    "name": "ipython",
    "version": 3
   },
   "file_extension": ".py",
   "mimetype": "text/x-python",
   "name": "python",
   "nbconvert_exporter": "python",
   "pygments_lexer": "ipython3",
   "version": "3.8.6"
  },
  "orig_nbformat": 4
 },
 "nbformat": 4,
 "nbformat_minor": 2
}
