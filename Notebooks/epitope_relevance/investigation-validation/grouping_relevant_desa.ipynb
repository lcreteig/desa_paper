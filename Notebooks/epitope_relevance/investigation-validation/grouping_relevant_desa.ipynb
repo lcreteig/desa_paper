{
 "cells": [
  {
   "cell_type": "code",
   "execution_count": 6,
   "metadata": {},
   "outputs": [],
   "source": [
    "from collections import defaultdict\n",
    "from src.constants import Epitope_DB"
   ]
  },
  {
   "cell_type": "code",
   "execution_count": 7,
   "metadata": {},
   "outputs": [],
   "source": [
    "desa_sequence = {\n",
    "    '71TD', '144QL', '70DRA', '80TLR', '76ED', '70DA', '45EV', '67F', '76ET', '163RG', '67VG', \n",
    "    '150AAH', '158T', '62QE', '45GV', '45KE', '71A', '66NH', '80TA', '114R', '44KM'\n",
    "}"
   ]
  },
  {
   "cell_type": "code",
   "execution_count": 8,
   "metadata": {},
   "outputs": [],
   "source": [
    "cls_vs_desa = defaultdict(set)\n",
    "for ep in desa_sequence: \n",
    "    for group, epitopes in Epitope_DB.items():\n",
    "        if ep in epitopes: \n",
    "            cls_vs_desa[group].add(ep)\n"
   ]
  },
  {
   "cell_type": "code",
   "execution_count": 13,
   "metadata": {},
   "outputs": [
    {
     "name": "stdout",
     "output_type": "stream",
     "text": [
      "{'ABC': {'158T', '71TD', '76ET', '80TA', '44KM', '80TLR', '45KE', '62QE', '114R', '66NH', '76ED', '150AAH', '144QL', '163RG'}, 'DR': {'67F', '71A', '70DRA', '70DA'}, 'DQ': {'67VG', '45EV', '45GV'}}\n"
     ]
    }
   ],
   "source": [
    "print(dict(cls_vs_desa))\n"
   ]
  },
  {
   "cell_type": "code",
   "execution_count": null,
   "metadata": {},
   "outputs": [],
   "source": [
    "{\n",
    "    'ABC': {'158T', '71TD', '76ET', '80TA', '44KM', '80TLR', '45KE', '62QE', '114R', '66NH', '76ED', '150AAH', '144QL', '163RG'}, \n",
    "    'DR': {'67F', '71A', '70DRA', '70DA'}, \n",
    "    'DQ': {'67VG', '45EV', '45GV'}\n",
    "}"
   ]
  }
 ],
 "metadata": {
  "kernelspec": {
   "display_name": "desa_paper-IhoHddMh",
   "language": "python",
   "name": "python3"
  },
  "language_info": {
   "codemirror_mode": {
    "name": "ipython",
    "version": 3
   },
   "file_extension": ".py",
   "mimetype": "text/x-python",
   "name": "python",
   "nbconvert_exporter": "python",
   "pygments_lexer": "ipython3",
   "version": "3.8.6"
  },
  "orig_nbformat": 4,
  "vscode": {
   "interpreter": {
    "hash": "708b3676616ca1f6951c8b5aa02ebb124c704b4e02ce2c0aaabd24e4641a0ea4"
   }
  }
 },
 "nbformat": 4,
 "nbformat_minor": 2
}
