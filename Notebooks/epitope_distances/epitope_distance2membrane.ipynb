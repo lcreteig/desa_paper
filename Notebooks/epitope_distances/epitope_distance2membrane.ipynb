{
 "cells": [
  {
   "cell_type": "code",
   "execution_count": 2,
   "metadata": {},
   "outputs": [],
   "source": [
    "import os\n",
    "import pandas as pd\n",
    "import numpy as np\n",
    "import regex as re\n",
    "from collections import defaultdict\n",
    "from typing import Tuple, List, NewType\n",
    "from tqdm.notebook import tqdm_notebook as tqdm\n",
    "\n",
    "import matplotlib.pyplot as plt\n",
    "import seaborn as sns \n",
    "# %config InlineBackend.figure_format = 'retina'\n",
    "\n",
    "import Bio\n",
    "from Bio.PDB import *\n",
    "import warnings\n",
    "warnings.filterwarnings('ignore')\n",
    "\n",
    "\n",
    "import logging\n",
    "\n"
   ]
  },
  {
   "cell_type": "code",
   "execution_count": 3,
   "metadata": {},
   "outputs": [],
   "source": [
    "BioStructure = NewType('BioStructure', Bio.PDB.Structure.Structure)\n",
    "BioVector = NewType('BioVector', Bio.PDB.vectors.Vector)  \n",
    "BioResidue = NewType('BioResidue', Bio.PDB.Residue.Residue)  \n"
   ]
  },
  {
   "cell_type": "code",
   "execution_count": 4,
   "metadata": {},
   "outputs": [],
   "source": [
    "#######################################################\n",
    "# Load EpitopeDB\n",
    "#######################################################\n",
    "def load_epitopedb(path):\n",
    "    \"\"\"This function loads the Epitopes from different tables\n",
    "    \"\"\"\n",
    "    # Load different sheets from excel as df and then concatenate all df's vertically \n",
    "    df_ABC = pd.read_excel(path, sheet_name='ABC')\n",
    "    df_DRB1 = pd.read_excel(path, sheet_name='DRB1')\n",
    "    df_DQB1 = pd.read_excel(path, sheet_name='DQB1')\n",
    "    return  pd.concat([df_ABC, df_DRB1, df_DQB1])\n",
    "\n",
    "#######################################################\n",
    "# clean EpitopeDB\n",
    "#######################################################\n",
    "def clean_eptopedb(EpitopeDB):\n",
    "    \"\"\" Drop some unnecessary columns, split Alleles and parse the polymorphic residues by parse_polymorphicresidues function\n",
    "    \"\"\"\n",
    "    EpitopeDB = EpitopeDB.drop(['Frequency', 'StructEpitope', 'AntibodyReactivity'], axis=1)\n",
    "    EpitopeDB['Luminex Alleles'] = EpitopeDB['Luminex Alleles'].apply(lambda x: set([ _.strip() for _ in sorted(x.split(sep=','))]))\n",
    "    EpitopeDB['All Alleles'] = EpitopeDB['All Alleles'].apply(lambda x: set([ _.strip() for _ in sorted(x.split(sep=','))]))\n",
    "    # Parse the polymorphic residues\n",
    "    EpitopeDB.PolymorphicResidues = EpitopeDB.PolymorphicResidues.apply(lambda x:parse_polymorphicresidues(x))\n",
    "    return EpitopeDB\n",
    "\n",
    "#######################################################\n",
    "# Load PDB file\n",
    "#######################################################\n",
    "def load_hla_structure(HLA_Molecule:str, path):\n",
    "    parser = PDBParser()\n",
    "    return parser.get_structure(HLA_Molecule, path)\n",
    "\n",
    "#######################################################\n",
    "# HLA to file name\n",
    "#######################################################\n",
    "def hla_to_filename(hla:str):\n",
    "    \"\"\" \"\"\"\n",
    "    locus, specificity = hla.split('*')\n",
    "    filename = '_'.join([locus, *specificity.split(':')]) + '_V1.pdb'\n",
    "    return re.split('\\d', locus)[0], filename\n",
    "\n",
    "#######################################################\n",
    "# Find HLA molecule path\n",
    "#######################################################\n",
    "def find_HLAMolecule_path(locus:str, filename:str) -> str:\n",
    "    \"\"\"This function makes use of the locus and filename resulted from 'hla_to_filename' function \"\"\"\n",
    "    \n",
    "    path = os.path.expanduser(f'~/Downloads/HLAMolecule/{locus[0:2]}') # get until the first 2 character of locus if exist\n",
    "    pdb_files = [file for file in os.listdir(path) if filename.split('_V1.pdb')[0] in file ]\n",
    "    if len(pdb_files) != 0:\n",
    "        return  True, os.path.join(path, f'{pdb_files[0]}')\n",
    "    else:\n",
    "        return  False, ''\n",
    "\n",
    "#######################################################\n",
    "# Residue from polymorphic residues\n",
    "#######################################################\n",
    "def parse_polymorphicresidues(string:str)-> Tuple[str,str]:\n",
    "    \"\"\"get string and return the string and num of the input string\"\"\"\n",
    "    r = re.compile(\"([0-9]+)([a-zA-Z]+)\")\n",
    "    return r.findall(string)   # This line is inspired by re.findall(r'([0-9]+)([a-zA-Z]+)', string) \n",
    "\n",
    "\n",
    "\n",
    "#######################################################\n",
    "# Residue in short\n",
    "#######################################################\n",
    "def res_short(residue:BioResidue) -> str:\n",
    "    \"\"\" Gets the a residue object and returns a short residue sequence_number + amino acide name code \"\"\"\n",
    "    \n",
    "    resname = residue.get_resname()  # Residue Name\n",
    "    res_code = Aminoacid_conversion.get(resname)\n",
    "    res_num = residue.get_id()[1]  # Residue Number \n",
    "    return str(res_num) + res_code\n",
    "\n",
    "\n",
    "Aminoacid_conversion = {'CYS': 'C', 'ASP': 'D', 'SER': 'S', 'GLN': 'Q', 'LYS': 'K',\n",
    "                     'ILE': 'I', 'PRO': 'P', 'THR': 'T', 'PHE': 'F', 'ASN': 'N', \n",
    "                     'GLY': 'G', 'HIS': 'H', 'LEU': 'L', 'ARG': 'R', 'TRP': 'W', \n",
    "                     'ALA': 'A', 'VAL':'V', 'GLU': 'E', 'TYR': 'Y', 'MET': 'M'}\n",
    "\n",
    "#######################################################\n",
    "# Find the average location of Residue\n",
    "#######################################################\n",
    "def get_residue_avg_coord(residue:Tuple[int,str], structure:BioStructure, chain:str) -> BioVector:\n",
    "    \"\"\" This function finds the average coordinate of residue by averaging all the atoms coordinates\"\"\"\n",
    "    \n",
    "    BioChain = structure[0][chain]\n",
    "    res_num, res_code = int(residue[0]), residue[1]\n",
    "    _residue = BioChain[res_num]\n",
    "#     print(_residue.get_full_id())\n",
    "    res_pdb = Aminoacid_conversion.get(_residue.get_resname(), 'Corresponding code of the amino-acide could not be found')\n",
    "    try:\n",
    "        assert res_code == res_pdb\n",
    "    except AssertionError as e:\n",
    "         logger.warning(f'Expected residue {res_code}, but got {res_pdb}, sequence number: {res_num}, chain: {chain},  HLA: {structure.get_id()}')\n",
    "    atoms_coord = [atom.get_vector() for atom in _residue.get_atoms()]\n",
    "    return np.array(atoms_coord).sum()/len(atoms_coord)\n",
    "\n",
    "#######################################################\n",
    "# Find the average location of Epitope\n",
    "#######################################################\n",
    "def get_epitope_avg_coord(Epitope:List[Tuple[int,str]], structure:BioStructure, HLA_chain:str) -> BioVector:\n",
    "    \"\"\" This function finds the average coordinate of Epitope by averaging all the residues average coordinates\"\"\"\n",
    "\n",
    "    residues_coord = [get_residue_avg_coord(residue, structure, HLA_chain) for residue in Epitope]\n",
    "    return np.array(residues_coord).sum()/len(residues_coord)\n",
    "\n",
    "#######################################################\n",
    "# Difference of two vectors\n",
    "#######################################################\n",
    "def distance_3d(vector1:BioVector, vector2:BioVector) -> int:\n",
    "    x_diff = vector1[0] - vector2[0]\n",
    "    y_diff = vector1[1] - vector2[1]\n",
    "    z_diff = vector1[2] - vector2[2]\n",
    "    return np.sqrt(x_diff**2 + y_diff**2 + z_diff**2)\n",
    "\n",
    "\n",
    "#######################################################\n",
    "# chain functions for calculating distances\n",
    "#######################################################\n",
    "\n",
    "def pre_selecttion(locus:str) -> Tuple[Tuple[int, str], str, str]:\n",
    "    HLA_tail_residue = {'A': (196, 'D'), 'B': (196, 'D'), 'C': (196, 'D'), 'DRB': (167, 'S'), 'DQA': (167, 'R'), 'DQB': (167, 'R')} \n",
    "    # In HLA DQB1*, either (167, 'R') or (167, 'S') were noticed to be the tails\n",
    "    HLA_tail_residue = HLA_tail_residue.get(locus, 'Locus not in HLA_tail')  # Tails: DR: 167S, 109L, DQ:167R\n",
    "    HLA_tail_chain = {'A': 'A', 'B': 'A', 'C': 'A', 'DRB': 'B', 'DQA': 'B', 'DQB':'B'}\n",
    "    HLA_chain = {'A': 'A', 'B': 'A', 'C': 'A', 'DRB': 'B', 'DQA': 'A', 'DQB':'B'}\n",
    "    return HLA_tail_residue, HLA_tail_chain.get(locus, 'tail_chain not found!'), HLA_chain.get(locus, 'chain not found!')\n",
    "\n",
    "\n",
    "def get_distance(poly_residues:List[str], structure:BioStructure, locus:str, hla:str) -> int:\n",
    "    \"\"\" Locus:['A', 'B', 'C', 'DR', 'DQ'] should be max 2 letters\n",
    "    \"\"\"\n",
    "    \n",
    "    HLA_tail_residue, HLA_tail_chain, HLA_chain = pre_selecttion(locus)\n",
    "    tail_coord = get_residue_avg_coord(HLA_tail_residue, structure, HLA_tail_chain)\n",
    "    epitope_coord = get_epitope_avg_coord(poly_residues, structure, HLA_chain)\n",
    "    return round(distance_3d(epitope_coord, tail_coord), 3)\n",
    "\n",
    "# def get_distance_except(poly_residues:List[str], structure:BioStructure, locus:str, hla:str) -> int:\n",
    "#     \"\"\" Locus:['A', 'B', 'C', 'DR', 'DQ'] should be max 2 letters\n",
    "#     \"\"\"\n",
    "    \n",
    "#     HLA_tail_residue, HLA_tail_chain, HLA_chain = (157,'T'), 'A', \n",
    "#     tail_coord = get_residue_avg_coord(HLA_tail_residue, structure, HLA_tail_chain)\n",
    "#     epitope_coord = get_epitope_avg_coord(poly_residues, structure, HLA_chain)\n",
    "#     return round(distance_3d(epitope_coord, tail_coord), 3)\n",
    "\n",
    "def find_distances(EpitopeDB:pd.DataFrame) -> dict:\n",
    "    \n",
    "    hla_exceptions = ['DRB1*03:03', 'DRB1*09:02', 'A*02:06'] #'DQA1*05:01', 'DQA1*02:01','A*02:06']\n",
    "    Epitope_distance = defaultdict(list)\n",
    "    for i in tqdm(range(0, len(EpitopeDB))): #len(EpitopeDB)\n",
    "        distance_info = defaultdict(int)\n",
    "        Epitope = EpitopeDB.iloc[i].Epitope\n",
    "        for hla in EpitopeDB.iloc[i]['Luminex Alleles']:\n",
    "            if hla in hla_exceptions:\n",
    "                logger.warning(f'Skipped hla: {hla}')\n",
    "                continue\n",
    "            locus, filename = hla_to_filename(hla)\n",
    "            pdb_exist, pdb_path = find_HLAMolecule_path(locus, filename)\n",
    "            if pdb_exist: \n",
    "                structure = load_hla_structure(hla, pdb_path)\n",
    "                poly_residues = EpitopeDB.iloc[i].PolymorphicResidues\n",
    "                try: \n",
    "                    distance_info[hla] =  get_distance(poly_residues, structure, locus, hla)\n",
    "                except KeyError as e:\n",
    "                    logger.error(f'Epitope {poly_residues} HLA {structure.get_id()} \"KeyError\" {e}')\n",
    "        Epitope_distance[Epitope].append(distance_info)\n",
    "    return Epitope_distance\n",
    "\n",
    "\n",
    "def write_dsitance_df(EpitopeDB:pd.DataFrame) -> pd.DataFrame:\n",
    "    Epitope_distance = find_distances(EpitopeDB)\n",
    "    df = pd.DataFrame(Epitope_distance).T\\\n",
    "                                       .reset_index()\\\n",
    "                                       .rename(columns={'index':'Epitope', 0:'distance [A]'})\n",
    "    df['mean_distance [A]'] =  df['distance [A]'].apply(lambda x: np.array([_[1] for _ in x.items()]).mean())\n",
    "    df['std_distance [A]'] =  df['distance [A]'].apply(lambda x: np.array([_[1] for _ in x.items()]).std())\n",
    "    return EpitopeDB.merge(df, on='Epitope')\n"
   ]
  },
  {
   "cell_type": "code",
   "execution_count": 5,
   "metadata": {},
   "outputs": [],
   "source": [
    "# new = '~/UMCUtrecht/ProcessedData/20200504_EpitopevsHLA.xlsx' # Path to the new EpitopeDB scraped in May 2020.\n",
    "new = 'EpitopevsHLA_clean.xlsx'\n",
    "EpitopeDB = load_epitopedb(new)\n",
    "EpitopeDB = clean_eptopedb(EpitopeDB)\n",
    "# EpitopeDB = EpitopeDB.set_index('Epitope')"
   ]
  },
  {
   "cell_type": "markdown",
   "metadata": {},
   "source": [
    "# Run the disance script"
   ]
  },
  {
   "cell_type": "code",
   "execution_count": null,
   "metadata": {},
   "outputs": [],
   "source": [
    "# %%timeit\n",
    "\n",
    "for handler in logging.root.handlers[:]:\n",
    "    logging.root.removeHandler(handler)\n",
    "    \n",
    "logger = logging.getLogger(__name__)\n",
    "logging.basicConfig(filename= 'ep_distance.log',\n",
    "                    filemode = 'w',\n",
    "                    format= '%(name)s - %(levelname)s - %(message)s',\n",
    "                    level=logging.DEBUG,\n",
    "                   )\n",
    "\n",
    "\n",
    "# dictionary = find_distances(EpitopeDB)\n",
    "EpitopeDB_new = write_dsitance_df(EpitopeDB)\n",
    "# EpitopeDB_new.to_pickle('EpitopevsHLA_distance.pickle')\n",
    "# EpitopeDB_new.to_csv('EpitopevsHLA_distance.csv')"
   ]
  },
  {
   "cell_type": "code",
   "execution_count": 85,
   "metadata": {},
   "outputs": [
    {
     "data": {
      "text/plain": [
       "Epitope                                                            275EL\n",
       "ElliPro Score                                                       High\n",
       "PolymorphicResidues                                           [(274, W)]\n",
       "Luminex Alleles        {A*36:01, A*11:02, A*30:01, A*01:01, A*03:01, ...\n",
       "All Alleles            {A*01:23, A*11:03, A*30:23, A*11:26, A*11:19, ...\n",
       "Name: 219, dtype: object"
      ]
     },
     "execution_count": 85,
     "metadata": {},
     "output_type": "execute_result"
    }
   ],
   "source": [
    "EpitopeDB.iloc[221,:].PolymorphicResidues = [(274,'W')]\n",
    "EpitopeDB.iloc[219,:]\n",
    "# EpitopeDB.iloc[219]"
   ]
  },
  {
   "cell_type": "code",
   "execution_count": 114,
   "metadata": {},
   "outputs": [
    {
     "data": {
      "text/plain": [
       "defaultdict(list,\n",
       "            {'275EL': [defaultdict(int,\n",
       "                          {'A*36:01': 15.817,\n",
       "                           'A*11:02': 15.834,\n",
       "                           'A*30:01': 16.115,\n",
       "                           'A*01:01': 15.855,\n",
       "                           'A*03:01': 17.042,\n",
       "                           'A*30:02': 16.611,\n",
       "                           'A*11:01': 16.375})],\n",
       "             '275G': [defaultdict(int,\n",
       "                          {'C*08:02': 16.661,\n",
       "                           'C*05:01': 16.733,\n",
       "                           'C*08:01': 16.151})],\n",
       "             '275K': [defaultdict(int,\n",
       "                          {'C*04:03': 16.97,\n",
       "                           'C*18:02': 16.274,\n",
       "                           'C*04:01': 16.817,\n",
       "                           'B*73:01': 16.117,\n",
       "                           'C*17:01': 17.003})]})"
      ]
     },
     "execution_count": 114,
     "metadata": {},
     "output_type": "execute_result"
    }
   ],
   "source": [
    "Epitope_distance = defaultdict(list)\n",
    "for i in [219, 220, 221]:\n",
    "    distance_info = defaultdict(int)\n",
    "    Epitope = EpitopeDB.iloc[i].Epitope\n",
    "    for hla in EpitopeDB.iloc[i]['Luminex Alleles']:\n",
    "        locus, filename = hla_to_filename(hla)\n",
    "        pdb_exist, pdb_path = find_HLAMolecule_path(locus, filename)\n",
    "        if pdb_exist: \n",
    "            structure = load_hla_structure(hla, pdb_path)\n",
    "            poly_residues = EpitopeDB.iloc[i].PolymorphicResidues\n",
    "            try: \n",
    "                distance_info[hla] =  get_distance(poly_residues, structure, locus, hla)\n",
    "            except KeyError as e:\n",
    "                logger.error(f'Epitope {poly_residues} HLA {structure.get_id()} \"KeyError\" {e}')\n",
    "    Epitope_distance[Epitope].append(distance_info)\n",
    "Epitope_distance"
   ]
  },
  {
   "cell_type": "code",
   "execution_count": 116,
   "metadata": {},
   "outputs": [
    {
     "data": {
      "text/plain": [
       "16.6362"
      ]
     },
     "execution_count": 116,
     "metadata": {},
     "output_type": "execute_result"
    }
   ],
   "source": [
    "np.array(list(Epitope_distance['275K'][0].values())).mean()"
   ]
  },
  {
   "cell_type": "code",
   "execution_count": 6,
   "metadata": {},
   "outputs": [],
   "source": [
    "EpitopeDB_new.to_pickle('./Database Versions/20200804_EpitopevsHLA_distance.pickle')\n",
    "EpitopeDB_new.to_csv('./Database Versions/20200804_EpitopevsHLA_distance.csv')"
   ]
  },
  {
   "cell_type": "markdown",
   "metadata": {},
   "source": [
    "# Epitope Distance Analysis"
   ]
  },
  {
   "cell_type": "code",
   "execution_count": 51,
   "metadata": {},
   "outputs": [
    {
     "data": {
      "text/plain": [
       "Epitope                                                               6C\n",
       "ElliPro Score                                                       High\n",
       "PolymorphicResidues                                             [(6, C)]\n",
       "Luminex Alleles                                             {DRB5*02:02}\n",
       "All Alleles            {DRB5*02:03, DRB5*02:04, DRB1*13:112, DRB5*02:...\n",
       "distance [A]                                      {'DRB5*02:02': 61.832}\n",
       "mean_distance [A]                                                 61.832\n",
       "std_distance [A]                                                       0\n",
       "Name: 224, dtype: object"
      ]
     },
     "execution_count": 51,
     "metadata": {},
     "output_type": "execute_result"
    }
   ],
   "source": [
    "Ep_dist_df = pd.read_pickle('./Database Versions/20200804_EpitopevsHLA_distance.pickle')\n",
    "Ep_dist_df.head(5)\n",
    "Ep_dist_df.iloc[221]"
   ]
  },
  {
   "cell_type": "markdown",
   "metadata": {},
   "source": [
    "# Manual Distance Assignment\n",
    "\n",
    "'3p': 62A\n",
    "\n",
    "'275EL' ['274W']: 16.23\n",
    "\n",
    "'275G' ['274W']: 16.51 while found to be 19\n",
    "\n",
    "'95F' is discarded due to the absence of HLA C*07:04 molecule to locate the epitope on it!"
   ]
  },
  {
   "cell_type": "code",
   "execution_count": 45,
   "metadata": {},
   "outputs": [],
   "source": [
    "Ep_dist_df.at[Ep_dist_df.Epitope=='3P', 'mean_distance [A]'] = 62\n",
    "Ep_dist_df.at[Ep_dist_df.Epitope=='275EL', 'mean_distance [A]'] = 16.23\n",
    "Ep_dist_df.at[Ep_dist_df.Epitope=='275G', 'mean_distance [A]'] = 16.51"
   ]
  },
  {
   "cell_type": "code",
   "execution_count": 52,
   "metadata": {},
   "outputs": [
    {
     "data": {
      "text/html": [
       "<div>\n",
       "<style scoped>\n",
       "    .dataframe tbody tr th:only-of-type {\n",
       "        vertical-align: middle;\n",
       "    }\n",
       "\n",
       "    .dataframe tbody tr th {\n",
       "        vertical-align: top;\n",
       "    }\n",
       "\n",
       "    .dataframe thead th {\n",
       "        text-align: right;\n",
       "    }\n",
       "</style>\n",
       "<table border=\"1\" class=\"dataframe\">\n",
       "  <thead>\n",
       "    <tr style=\"text-align: right;\">\n",
       "      <th></th>\n",
       "      <th>Epitope</th>\n",
       "      <th>ElliPro Score</th>\n",
       "      <th>PolymorphicResidues</th>\n",
       "      <th>Luminex Alleles</th>\n",
       "      <th>All Alleles</th>\n",
       "      <th>distance [A]</th>\n",
       "      <th>mean_distance [A]</th>\n",
       "      <th>std_distance [A]</th>\n",
       "    </tr>\n",
       "  </thead>\n",
       "  <tbody>\n",
       "  </tbody>\n",
       "</table>\n",
       "</div>"
      ],
      "text/plain": [
       "Empty DataFrame\n",
       "Columns: [Epitope, ElliPro Score, PolymorphicResidues, Luminex Alleles, All Alleles, distance [A], mean_distance [A], std_distance [A]]\n",
       "Index: []"
      ]
     },
     "execution_count": 52,
     "metadata": {},
     "output_type": "execute_result"
    }
   ],
   "source": [
    "Ep_dist_df[Ep_dist_df['mean_distance [A]'].isna()]"
   ]
  },
  {
   "cell_type": "code",
   "execution_count": 48,
   "metadata": {},
   "outputs": [],
   "source": [
    "Ep_dist_df.dropna(inplace=True)"
   ]
  },
  {
   "cell_type": "code",
   "execution_count": 49,
   "metadata": {},
   "outputs": [],
   "source": [
    "assert Ep_dist_df[Ep_dist_df['mean_distance [A]'].isna()].shape[0] == 0"
   ]
  },
  {
   "cell_type": "code",
   "execution_count": 50,
   "metadata": {},
   "outputs": [],
   "source": [
    "Ep_dist_df.to_pickle('./Database Versions/20200804_EpitopevsHLA_distance.pickle')"
   ]
  },
  {
   "cell_type": "code",
   "execution_count": null,
   "metadata": {},
   "outputs": [],
   "source": []
  }
 ],
 "metadata": {
  "kernelspec": {
   "display_name": "Python 3",
   "language": "python",
   "name": "python3"
  },
  "language_info": {
   "codemirror_mode": {
    "name": "ipython",
    "version": 3
   },
   "file_extension": ".py",
   "mimetype": "text/x-python",
   "name": "python",
   "nbconvert_exporter": "python",
   "pygments_lexer": "ipython3",
   "version": "3.7.6"
  }
 },
 "nbformat": 4,
 "nbformat_minor": 4
}
