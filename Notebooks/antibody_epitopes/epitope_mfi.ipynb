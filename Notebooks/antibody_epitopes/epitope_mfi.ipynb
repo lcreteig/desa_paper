{
 "cells": [
  {
   "cell_type": "code",
   "execution_count": 1,
   "metadata": {},
   "outputs": [],
   "source": [
    "from collections import defaultdict\n",
    "from typing import  List, Literal\n",
    "import pandas as pd\n",
    "from src.pipe_store import *\n",
    "import matplotlib.pyplot as plt\n",
    "\n",
    "%matplotlib inline \n",
    "%config InlineBackend.figure_format = 'retina'\n",
    "%load_ext autoreload\n",
    "%autoreload 2"
   ]
  },
  {
   "cell_type": "code",
   "execution_count": 2,
   "metadata": {},
   "outputs": [
    {
     "data": {
      "text/html": [
       "<div>\n",
       "<style scoped>\n",
       "    .dataframe tbody tr th:only-of-type {\n",
       "        vertical-align: middle;\n",
       "    }\n",
       "\n",
       "    .dataframe tbody tr th {\n",
       "        vertical-align: top;\n",
       "    }\n",
       "\n",
       "    .dataframe thead th {\n",
       "        text-align: right;\n",
       "    }\n",
       "</style>\n",
       "<table border=\"1\" class=\"dataframe\">\n",
       "  <thead>\n",
       "    <tr style=\"text-align: right;\">\n",
       "      <th></th>\n",
       "      <th>TransplantID</th>\n",
       "      <th>LocusLong</th>\n",
       "      <th>Locus</th>\n",
       "      <th>Specificity</th>\n",
       "      <th>SerologicalEquivalent</th>\n",
       "      <th>MedianFI</th>\n",
       "      <th>TMeanFI</th>\n",
       "      <th>ManConcl_Immucor</th>\n",
       "    </tr>\n",
       "  </thead>\n",
       "  <tbody>\n",
       "    <tr>\n",
       "      <th>55670</th>\n",
       "      <td>2308</td>\n",
       "      <td>B</td>\n",
       "      <td>B</td>\n",
       "      <td>{B*14:01}</td>\n",
       "      <td>B64</td>\n",
       "      <td>244</td>\n",
       "      <td>261</td>\n",
       "      <td>Negative</td>\n",
       "    </tr>\n",
       "    <tr>\n",
       "      <th>36995</th>\n",
       "      <td>1861</td>\n",
       "      <td>DQB1</td>\n",
       "      <td>DQ</td>\n",
       "      <td>{DQA1*01:04, DQB1*06:01}</td>\n",
       "      <td>DQ6</td>\n",
       "      <td>15254</td>\n",
       "      <td>15433</td>\n",
       "      <td>Positive</td>\n",
       "    </tr>\n",
       "  </tbody>\n",
       "</table>\n",
       "</div>"
      ],
      "text/plain": [
       "       TransplantID LocusLong Locus               Specificity  \\\n",
       "55670          2308         B     B                 {B*14:01}   \n",
       "36995          1861      DQB1    DQ  {DQA1*01:04, DQB1*06:01}   \n",
       "\n",
       "      SerologicalEquivalent  MedianFI  TMeanFI ManConcl_Immucor  \n",
       "55670                   B64       244      261         Negative  \n",
       "36995                   DQ6     15254    15433         Positive  "
      ]
     },
     "execution_count": 2,
     "metadata": {},
     "output_type": "execute_result"
    }
   ],
   "source": [
    "def LoadMFI(path):\n",
    "    dtype = {\n",
    "        'TransplantID': 'int32',\n",
    "        'LocusLong': 'category',\n",
    "        'Locus': 'category',\n",
    "        'SerologicalEquivalent': 'category',\n",
    "        'ManConcl_Immucor': 'category',\n",
    "    }\n",
    "    usecols = [\n",
    "        'TransplantID', 'LocusLong', 'Locus', 'Specificity', \n",
    "        'SerologicalEquivalent', 'MedianFI', 'TMeanFI',\t'ManConcl_Immucor']\n",
    "    df = pd.read_csv(path, sep=';', dtype=dtype, usecols=usecols)\n",
    "    df['Specificity'] = df['Specificity'].apply(lambda x: set(x.split(',')))\n",
    "    for col in ['MedianFI', 'TMeanFI']:          \n",
    "        df[col] = (df[col]\n",
    "                    .apply(lambda x: x.replace(',', '.'))\n",
    "                    .astype('float32')\n",
    "                    .astype('int')\n",
    "        )\n",
    "    # Finally drop the HLA's belonging to DP group \n",
    "    return df[df['Locus'] != 'DP']\n",
    "\n",
    "def get_mfi_per_hla(df_mfi, tx_id:int, hla:str, cut_off:int) -> dict:\n",
    "    _dict = dict()\n",
    "    for _, item in df_mfi[df_mfi['TransplantID'] == tx_id].iterrows():\n",
    "            if hla in item['Specificity'] and item['ManConcl_Immucor'] == 'Positive':\n",
    "                if item['TMeanFI'] >= cut_off:\n",
    "                    _dict[hla]= {'MedianFI': item['MedianFI'], 'TMeanFI': item['TMeanFI']}\n",
    "    return _dict\n",
    "\n",
    "df_mfi = LoadMFI('~/UMCUtrecht/RawData/MFI.csv')\n",
    "df_mfi.sample(2)"
   ]
  },
  {
   "cell_type": "code",
   "execution_count": 3,
   "metadata": {},
   "outputs": [
    {
     "data": {
      "text/html": [
       "<div>\n",
       "<style scoped>\n",
       "    .dataframe tbody tr th:only-of-type {\n",
       "        vertical-align: middle;\n",
       "    }\n",
       "\n",
       "    .dataframe tbody tr th {\n",
       "        vertical-align: top;\n",
       "    }\n",
       "\n",
       "    .dataframe thead th {\n",
       "        text-align: right;\n",
       "    }\n",
       "</style>\n",
       "<table border=\"1\" class=\"dataframe\">\n",
       "  <thead>\n",
       "    <tr style=\"text-align: right;\">\n",
       "      <th></th>\n",
       "      <th>TransplantID</th>\n",
       "      <th>MedianFI</th>\n",
       "      <th>TMeanFI</th>\n",
       "    </tr>\n",
       "  </thead>\n",
       "  <tbody>\n",
       "    <tr>\n",
       "      <th>count</th>\n",
       "      <td>189470.000000</td>\n",
       "      <td>189470.000000</td>\n",
       "      <td>189470.000000</td>\n",
       "    </tr>\n",
       "    <tr>\n",
       "      <th>mean</th>\n",
       "      <td>2426.733646</td>\n",
       "      <td>1303.444308</td>\n",
       "      <td>1344.340592</td>\n",
       "    </tr>\n",
       "    <tr>\n",
       "      <th>std</th>\n",
       "      <td>1825.334839</td>\n",
       "      <td>3255.081630</td>\n",
       "      <td>3285.041872</td>\n",
       "    </tr>\n",
       "    <tr>\n",
       "      <th>min</th>\n",
       "      <td>1.000000</td>\n",
       "      <td>0.000000</td>\n",
       "      <td>23.000000</td>\n",
       "    </tr>\n",
       "    <tr>\n",
       "      <th>25%</th>\n",
       "      <td>672.000000</td>\n",
       "      <td>128.000000</td>\n",
       "      <td>135.000000</td>\n",
       "    </tr>\n",
       "    <tr>\n",
       "      <th>50%</th>\n",
       "      <td>2185.000000</td>\n",
       "      <td>199.000000</td>\n",
       "      <td>213.000000</td>\n",
       "    </tr>\n",
       "    <tr>\n",
       "      <th>75%</th>\n",
       "      <td>3967.000000</td>\n",
       "      <td>503.000000</td>\n",
       "      <td>548.000000</td>\n",
       "    </tr>\n",
       "    <tr>\n",
       "      <th>max</th>\n",
       "      <td>6102.000000</td>\n",
       "      <td>22213.000000</td>\n",
       "      <td>21780.000000</td>\n",
       "    </tr>\n",
       "  </tbody>\n",
       "</table>\n",
       "</div>"
      ],
      "text/plain": [
       "        TransplantID       MedianFI        TMeanFI\n",
       "count  189470.000000  189470.000000  189470.000000\n",
       "mean     2426.733646    1303.444308    1344.340592\n",
       "std      1825.334839    3255.081630    3285.041872\n",
       "min         1.000000       0.000000      23.000000\n",
       "25%       672.000000     128.000000     135.000000\n",
       "50%      2185.000000     199.000000     213.000000\n",
       "75%      3967.000000     503.000000     548.000000\n",
       "max      6102.000000   22213.000000   21780.000000"
      ]
     },
     "execution_count": 3,
     "metadata": {},
     "output_type": "execute_result"
    }
   ],
   "source": [
    "df_mfi.describe()"
   ]
  },
  {
   "cell_type": "code",
   "execution_count": 4,
   "metadata": {},
   "outputs": [
    {
     "name": "stderr",
     "output_type": "stream",
     "text": [
      "Step: data_loading | Shape: (4690, 24) | Computation Time: 0.02003s\n",
      "- selceted cohort --> Donor Type: Deceased, Epitope Antibody Presence: All\n",
      "Step: start_pipeline | Shape: (3235, 23) | Computation Time: 0.007663s\n",
      "Step: set_time_event_label | Shape: (3235, 6) | Computation Time: 0.002047s\n",
      "Step: setting_prediction_horizon | Shape: (3235, 6) | Computation Time: 0.003696s\n"
     ]
    }
   ],
   "source": [
    "path = '~/Repos/STRIDE/STRIDE-Analytics/data/20210614-mismatch_ep_db-extended.pickle'\n",
    "donor_type ='Deceased'\n",
    "status = 'All'\n",
    "\n",
    "df = (\n",
    "    data_loading(path)\n",
    "    .pipe(start_pipeline, status, donor_type)\n",
    "    .pipe(keeping_features,\n",
    "        'Failure',\n",
    "        'Survival[Y]',\n",
    "        'TransplantID',\n",
    "        'EpvsHLA_Donor',\n",
    "        '#DESA',\n",
    "        'DESA', \n",
    "    )\n",
    "    .pipe(set_time_event_label, E='Failure', T='Survival[Y]')\n",
    "    .pipe(setting_prediction_horizon, 15)\n",
    ")\n",
    "epitope_path = '~/UMCUtrecht/EpitopevsHLA.pickle'\n",
    "epitope_db = pd.read_pickle(epitope_path)"
   ]
  },
  {
   "cell_type": "code",
   "execution_count": 5,
   "metadata": {},
   "outputs": [],
   "source": [
    "def assign_mfi(inputs, cut_off:int) -> dict:\n",
    "    # print(inputs)\n",
    "    tx_id = inputs['TransplantID']\n",
    "    epvshla = inputs['EpvsHLA_Donor']\n",
    "    return [get_mfi_per_hla(df_mfi, tx_id, hla, cut_off) for hla in epvshla.values()]\n",
    "\n",
    "cut_off = 0\n",
    "df['MFI'] = df[df['#DESA'] > 0][['TransplantID', 'EpvsHLA_Donor']].apply(assign_mfi, args=(cut_off,), axis=1)"
   ]
  },
  {
   "cell_type": "code",
   "execution_count": 6,
   "metadata": {},
   "outputs": [
    {
     "data": {
      "text/plain": [
       "array([{'13SE': 'DRB3*03:01', '181T': 'DRB3*03:01', '37N': 'DRB1*13:02', '31FH': 'DRB3*03:01', '71E': 'DRB1*13:02', '180VTP': 'DRB3*03:01', '32H': 'DRB3*03:01', '140TV': 'DRB3*03:01', '96HK': 'DRB1*13:02', '25R': 'DRB3*03:01', '74A': 'DRB1*13:02', '47F': 'DRB1*13:02', '4R': 'DRB3*03:01', '98KS': 'DRB1*13:02', '149H': 'DRB3*03:01', '11STS': 'DRB1*13:02', '70DA': 'DRB1*13:02', '28D': 'DRB1*13:02', '98Q': 'DRB3*03:01', '70Q': 'DRB3*03:01', '70QK': 'DRB3*03:01', '70QQ': 'DRB3*03:01', '77N[DR]': 'DRB3*03:01', '67LQ': 'DRB3*03:01', '71K': 'DRB3*03:01'},\n",
       "       list([{'DRB3*03:01': {'MedianFI': 18337, 'TMeanFI': 18267}}, {'DRB3*03:01': {'MedianFI': 18337, 'TMeanFI': 18267}}, {}, {'DRB3*03:01': {'MedianFI': 18337, 'TMeanFI': 18267}}, {}, {'DRB3*03:01': {'MedianFI': 18337, 'TMeanFI': 18267}}, {'DRB3*03:01': {'MedianFI': 18337, 'TMeanFI': 18267}}, {'DRB3*03:01': {'MedianFI': 18337, 'TMeanFI': 18267}}, {}, {'DRB3*03:01': {'MedianFI': 18337, 'TMeanFI': 18267}}, {}, {}, {'DRB3*03:01': {'MedianFI': 18337, 'TMeanFI': 18267}}, {}, {'DRB3*03:01': {'MedianFI': 18337, 'TMeanFI': 18267}}, {}, {}, {}, {'DRB3*03:01': {'MedianFI': 18337, 'TMeanFI': 18267}}, {'DRB3*03:01': {'MedianFI': 18337, 'TMeanFI': 18267}}, {'DRB3*03:01': {'MedianFI': 18337, 'TMeanFI': 18267}}, {'DRB3*03:01': {'MedianFI': 18337, 'TMeanFI': 18267}}, {'DRB3*03:01': {'MedianFI': 18337, 'TMeanFI': 18267}}, {'DRB3*03:01': {'MedianFI': 18337, 'TMeanFI': 18267}}, {'DRB3*03:01': {'MedianFI': 18337, 'TMeanFI': 18267}}])],\n",
       "      dtype=object)"
      ]
     },
     "execution_count": 6,
     "metadata": {},
     "output_type": "execute_result"
    }
   ],
   "source": [
    "df[df['#DESA'] > 0][['EpvsHLA_Donor', 'MFI']].iloc[2].values"
   ]
  },
  {
   "cell_type": "code",
   "execution_count": 7,
   "metadata": {},
   "outputs": [],
   "source": [
    "def get_weighted_mfi(mfis:List[dict], on:Literal['TMeanFI', 'MedianFI']) -> int:\n",
    "    hold = []\n",
    "    for mfi in mfis:\n",
    "        if mfi:\n",
    "            for _, value in mfi.items():\n",
    "                hold.append(value[on])\n",
    "    if len(hold):\n",
    "        return int(sum(hold)/len(hold))\n",
    "    return 0\n",
    "    # return sum([value['TMeanFI'] for mfi in mfis if mfi for _, value in _dict.items()])\n",
    "\n",
    "df['WeightedMFI'] = df[df['#DESA'] > 0]['MFI'].apply(lambda x: get_weighted_mfi(x, on='TMeanFI'))"
   ]
  },
  {
   "cell_type": "code",
   "execution_count": 8,
   "metadata": {},
   "outputs": [],
   "source": [
    "# get_mfi_per_hla(df_mfi, 710, 0)\n",
    "# df_mfi[(df_mfi.TransplantID == 710) & (df_mfi.ManConcl_Immucor == 'Positive')]"
   ]
  },
  {
   "cell_type": "code",
   "execution_count": 9,
   "metadata": {},
   "outputs": [],
   "source": [
    "# epitope_db[epitope_db.Epitope == '156QA']['Luminex Alleles']"
   ]
  },
  {
   "cell_type": "markdown",
   "metadata": {},
   "source": [
    "# Plot Heatmap"
   ]
  },
  {
   "cell_type": "code",
   "execution_count": 11,
   "metadata": {},
   "outputs": [
    {
     "data": {
      "image/png": "[encoded data removed]",
      "text/plain": [
       "<Figure size 144x720 with 2 Axes>"
      ]
     },
     "metadata": {
      "image/png": {
       "height": 574,
       "width": 181
      },
      "needs_background": "light"
     },
     "output_type": "display_data"
    }
   ],
   "source": [
    "import seaborn as sns\n",
    "plt.figure(figsize=(2, 10))\n",
    "df_final = df[(df['#DESA'] > 0) & (df['WeightedMFI'] != 0)]\n",
    "df_final = df_final.sort_values(by='T')\n",
    "# df_final['WeightedMFI'] = (df_final['WeightedMFI'] - df_final['WeightedMFI'].mean()) / df_final['WeightedMFI'].std()\n",
    "# df_final['WeightedMFI_Scaled'] = (df_final['WeightedMFI'] - df_final['WeightedMFI'].min()) / (df_final['WeightedMFI'].max() - df_final['WeightedMFI'].min())\n",
    "plot_values = df_final[(df_final['E'] == 1) & (df_final['T'] < 1)]['WeightedMFI'].values.reshape(-1,1)\n",
    "\n",
    "ax = sns.heatmap(plot_values, linewidth=0.5, cmap='Blues')\n",
    "plt.show()"
   ]
  },
  {
   "cell_type": "code",
   "execution_count": 15,
   "metadata": {},
   "outputs": [
    {
     "data": {
      "text/plain": [
       "(60, 8)"
      ]
     },
     "execution_count": 15,
     "metadata": {},
     "output_type": "execute_result"
    }
   ],
   "source": [
    "df_final[(df_final['E'] == 1) & (df_final['T'] < 1)].shape"
   ]
  },
  {
   "cell_type": "code",
   "execution_count": 12,
   "metadata": {},
   "outputs": [
    {
     "data": {
      "image/png": "[encoded data removed]",
      "text/plain": [
       "<Figure size 144x720 with 2 Axes>"
      ]
     },
     "metadata": {
      "image/png": {
       "height": 574,
       "width": 181
      },
      "needs_background": "light"
     },
     "output_type": "display_data"
    }
   ],
   "source": [
    "import seaborn as sns\n",
    "plt.figure(figsize=(2, 10))\n",
    "df_final = df[(df['#DESA'] > 0) & (df['WeightedMFI'] != 0)]\n",
    "df_final = df_final.sort_values(by='T')\n",
    "# df_final['WeightedMFI'] = (df_final['WeightedMFI'] - df_final['WeightedMFI'].mean()) / df_final['WeightedMFI'].std()\n",
    "# df_final['WeightedMFI_Scaled'] = (df_final['WeightedMFI'] - df_final['WeightedMFI'].min()) / (df_final['WeightedMFI'].max() - df_final['WeightedMFI'].min())\n",
    "plot_values = df_final[(df_final['E'] != 1) & (df_final['T'] > 12)]['WeightedMFI'].values.reshape(-1,1)\n",
    "ax = sns.heatmap(plot_values, linewidth=0.5, cmap='Blues')\n",
    "plt.show()"
   ]
  },
  {
   "cell_type": "markdown",
   "metadata": {},
   "source": [
    "# Plot Kaplan-Meier Curves"
   ]
  },
  {
   "cell_type": "code",
   "execution_count": 62,
   "metadata": {},
   "outputs": [
    {
     "data": {
      "text/plain": [
       "315"
      ]
     },
     "execution_count": 62,
     "metadata": {},
     "output_type": "execute_result"
    }
   ],
   "source": [
    "df_new['#DESA'].apply(lambda x: 1 if x else 0).sum()"
   ]
  },
  {
   "cell_type": "code",
   "execution_count": null,
   "metadata": {},
   "outputs": [],
   "source": []
  }
 ],
 "metadata": {
  "interpreter": {
   "hash": "708b3676616ca1f6951c8b5aa02ebb124c704b4e02ce2c0aaabd24e4641a0ea4"
  },
  "kernelspec": {
   "display_name": "Python 3.8.6 ('desa_paper-IhoHddMh')",
   "language": "python",
   "name": "python3"
  },
  "language_info": {
   "codemirror_mode": {
    "name": "ipython",
    "version": 3
   },
   "file_extension": ".py",
   "mimetype": "text/x-python",
   "name": "python",
   "nbconvert_exporter": "python",
   "pygments_lexer": "ipython3",
   "version": "3.8.6"
  },
  "orig_nbformat": 4
 },
 "nbformat": 4,
 "nbformat_minor": 2
}
