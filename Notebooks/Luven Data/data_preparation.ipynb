{
 "cells": [
  {
   "cell_type": "code",
   "execution_count": 1,
   "metadata": {},
   "outputs": [],
   "source": [
    "import pandas as pd"
   ]
  },
  {
   "cell_type": "markdown",
   "metadata": {},
   "source": [
    "### Information on Leuven Data\n",
    "You should discard the SAB data for 2790 as this patient is from the remaining cohort with missing complete HR HLA data, which was excluded from our JASN paper.\n",
    "\n",
    "We also do not have the files for #Tx 3529 and 3546."
   ]
  },
  {
   "cell_type": "code",
   "execution_count": 2,
   "metadata": {},
   "outputs": [],
   "source": [
    "path = '/Users/Danial/UMCUtrecht/Leuven/LEUVEN cohort_AS.xlsx'\n",
    "df = pd.read_excel(path)\n",
    "# df.columns"
   ]
  },
  {
   "cell_type": "code",
   "execution_count": 3,
   "metadata": {},
   "outputs": [
    {
     "data": {
      "text/plain": [
       "(95, 44)"
      ]
     },
     "execution_count": 3,
     "metadata": {},
     "output_type": "execute_result"
    }
   ],
   "source": [
    "df[df['Overall_preTX_DSA'] == 1].shape"
   ]
  },
  {
   "cell_type": "code",
   "execution_count": 50,
   "metadata": {},
   "outputs": [],
   "source": [
    "import os\n",
    "from collections import  Counter\n",
    "files = os.listdir('/Users/Danial/UMCUtrecht/Leuven/lsa_per_tx')\n",
    "csv_ids = []\n",
    "for file in files:\n",
    "    id = file.split('.')[0].split(' ')[0]\n",
    "    if id.isdigit():\n",
    "        csv_ids.append(int(id))"
   ]
  },
  {
   "cell_type": "code",
   "execution_count": 53,
   "metadata": {},
   "outputs": [
    {
     "data": {
      "text/plain": [
       "{3466: 1,\n",
       " 3695: 2,\n",
       " 3798: 1,\n",
       " 3824: 1,\n",
       " 3463: 2,\n",
       " 3211: 2,\n",
       " 3560: 1,\n",
       " 3428: 1,\n",
       " 2797: 1,\n",
       " 3456: 2,\n",
       " 3288: 1,\n",
       " 2790: 2,\n",
       " 3229: 2,\n",
       " 3665: 1,\n",
       " 3705: 1,\n",
       " 3700: 1,\n",
       " 3265: 1,\n",
       " 3850: 1,\n",
       " 3272: 1,\n",
       " 3312: 1,\n",
       " 3845: 1,\n",
       " 3607: 2,\n",
       " 3451: 1,\n",
       " 3520: 2,\n",
       " 3730: 2,\n",
       " 3295: 1,\n",
       " 3861: 1,\n",
       " 3452: 1,\n",
       " 3731: 1,\n",
       " 3296: 1,\n",
       " 3490: 1,\n",
       " 3481: 1,\n",
       " 3765: 2,\n",
       " 2992: 1,\n",
       " 3535: 1,\n",
       " 3591: 1,\n",
       " 3793: 1,\n",
       " 3406: 2,\n",
       " 3622: 2,\n",
       " 3802: 1,\n",
       " 3784: 1,\n",
       " 3478: 1,\n",
       " 3626: 1,\n",
       " 3811: 1,\n",
       " 3420: 1,\n",
       " 3742: 1,\n",
       " 3775: 2,\n",
       " 3421: 1,\n",
       " 3353: 1,\n",
       " 3179: 1,\n",
       " 3423: 1,\n",
       " 3594: 1,\n",
       " 3797: 1,\n",
       " 3218: 1,\n",
       " 3453: 1}"
      ]
     },
     "execution_count": 53,
     "metadata": {},
     "output_type": "execute_result"
    }
   ],
   "source": [
    "dict(Counter(csv_ids))"
   ]
  },
  {
   "cell_type": "markdown",
   "metadata": {},
   "source": [
    "## Join All files with multiple Transplants"
   ]
  },
  {
   "cell_type": "code",
   "execution_count": 134,
   "metadata": {},
   "outputs": [
    {
     "data": {
      "text/html": [
       "<div>\n",
       "<style scoped>\n",
       "    .dataframe tbody tr th:only-of-type {\n",
       "        vertical-align: middle;\n",
       "    }\n",
       "\n",
       "    .dataframe tbody tr th {\n",
       "        vertical-align: top;\n",
       "    }\n",
       "\n",
       "    .dataframe thead th {\n",
       "        text-align: right;\n",
       "    }\n",
       "</style>\n",
       "<table border=\"1\" class=\"dataframe\">\n",
       "  <thead>\n",
       "    <tr style=\"text-align: right;\">\n",
       "      <th></th>\n",
       "      <th>sample ID</th>\n",
       "      <th>patient Name</th>\n",
       "      <th>patient DOB</th>\n",
       "      <th>hla Type</th>\n",
       "      <th>draw Dt</th>\n",
       "      <th>donor Number</th>\n",
       "      <th>donor Center Number</th>\n",
       "      <th>bead</th>\n",
       "      <th>allele</th>\n",
       "      <th>raw Value</th>\n",
       "      <th>BCM</th>\n",
       "      <th>BCR</th>\n",
       "      <th>AD-BCR</th>\n",
       "      <th>assignment</th>\n",
       "      <th>Probe 77</th>\n",
       "      <th>CON1</th>\n",
       "      <th>CON2</th>\n",
       "      <th>CON3</th>\n",
       "    </tr>\n",
       "  </thead>\n",
       "  <tbody>\n",
       "    <tr>\n",
       "      <th>0</th>\n",
       "      <td>2767</td>\n",
       "      <td>NaN</td>\n",
       "      <td></td>\n",
       "      <td>C2</td>\n",
       "      <td></td>\n",
       "      <td></td>\n",
       "      <td></td>\n",
       "      <td>228</td>\n",
       "      <td>A*43:01</td>\n",
       "      <td>175.0</td>\n",
       "      <td>-48.0</td>\n",
       "      <td>-0.53</td>\n",
       "      <td>-0.60</td>\n",
       "      <td>Negative</td>\n",
       "      <td>16328</td>\n",
       "      <td>208</td>\n",
       "      <td></td>\n",
       "      <td></td>\n",
       "    </tr>\n",
       "    <tr>\n",
       "      <th>1</th>\n",
       "      <td>2767</td>\n",
       "      <td>NaN</td>\n",
       "      <td></td>\n",
       "      <td>C2</td>\n",
       "      <td></td>\n",
       "      <td></td>\n",
       "      <td></td>\n",
       "      <td>274</td>\n",
       "      <td>B*55:01</td>\n",
       "      <td>159.0</td>\n",
       "      <td>-101.0</td>\n",
       "      <td>-1.05</td>\n",
       "      <td>-1.18</td>\n",
       "      <td>Negative</td>\n",
       "      <td>16328</td>\n",
       "      <td>208</td>\n",
       "      <td></td>\n",
       "      <td></td>\n",
       "    </tr>\n",
       "    <tr>\n",
       "      <th>2</th>\n",
       "      <td>2767</td>\n",
       "      <td>NaN</td>\n",
       "      <td></td>\n",
       "      <td>C2</td>\n",
       "      <td></td>\n",
       "      <td></td>\n",
       "      <td></td>\n",
       "      <td>273</td>\n",
       "      <td>B*54:01</td>\n",
       "      <td>160.0</td>\n",
       "      <td>-67.0</td>\n",
       "      <td>-0.70</td>\n",
       "      <td>-0.77</td>\n",
       "      <td>Negative</td>\n",
       "      <td>16328</td>\n",
       "      <td>208</td>\n",
       "      <td></td>\n",
       "      <td></td>\n",
       "    </tr>\n",
       "    <tr>\n",
       "      <th>3</th>\n",
       "      <td>2767</td>\n",
       "      <td>NaN</td>\n",
       "      <td></td>\n",
       "      <td>C2</td>\n",
       "      <td></td>\n",
       "      <td></td>\n",
       "      <td></td>\n",
       "      <td>272</td>\n",
       "      <td>B*53:01</td>\n",
       "      <td>145.0</td>\n",
       "      <td>-64.0</td>\n",
       "      <td>-0.67</td>\n",
       "      <td>-0.72</td>\n",
       "      <td>Negative</td>\n",
       "      <td>16328</td>\n",
       "      <td>208</td>\n",
       "      <td></td>\n",
       "      <td></td>\n",
       "    </tr>\n",
       "    <tr>\n",
       "      <th>4</th>\n",
       "      <td>2767</td>\n",
       "      <td>NaN</td>\n",
       "      <td></td>\n",
       "      <td>C2</td>\n",
       "      <td></td>\n",
       "      <td></td>\n",
       "      <td></td>\n",
       "      <td>271</td>\n",
       "      <td>B*52:01</td>\n",
       "      <td>166.0</td>\n",
       "      <td>-71.0</td>\n",
       "      <td>-0.74</td>\n",
       "      <td>-0.84</td>\n",
       "      <td>Negative</td>\n",
       "      <td>16328</td>\n",
       "      <td>208</td>\n",
       "      <td></td>\n",
       "      <td></td>\n",
       "    </tr>\n",
       "    <tr>\n",
       "      <th>...</th>\n",
       "      <td>...</td>\n",
       "      <td>...</td>\n",
       "      <td>...</td>\n",
       "      <td>...</td>\n",
       "      <td>...</td>\n",
       "      <td>...</td>\n",
       "      <td>...</td>\n",
       "      <td>...</td>\n",
       "      <td>...</td>\n",
       "      <td>...</td>\n",
       "      <td>...</td>\n",
       "      <td>...</td>\n",
       "      <td>...</td>\n",
       "      <td>...</td>\n",
       "      <td>...</td>\n",
       "      <td>...</td>\n",
       "      <td>...</td>\n",
       "      <td>...</td>\n",
       "    </tr>\n",
       "    <tr>\n",
       "      <th>6379</th>\n",
       "      <td>3622</td>\n",
       "      <td>NaN</td>\n",
       "      <td></td>\n",
       "      <td></td>\n",
       "      <td></td>\n",
       "      <td>NaN</td>\n",
       "      <td></td>\n",
       "      <td>231</td>\n",
       "      <td>A*68:01</td>\n",
       "      <td>11005.5</td>\n",
       "      <td>10818.5</td>\n",
       "      <td>99.71</td>\n",
       "      <td>101.64</td>\n",
       "      <td>Positive</td>\n",
       "      <td>20291</td>\n",
       "      <td>248</td>\n",
       "      <td></td>\n",
       "      <td></td>\n",
       "    </tr>\n",
       "    <tr>\n",
       "      <th>6380</th>\n",
       "      <td>3622</td>\n",
       "      <td>NaN</td>\n",
       "      <td></td>\n",
       "      <td></td>\n",
       "      <td></td>\n",
       "      <td>NaN</td>\n",
       "      <td></td>\n",
       "      <td>230</td>\n",
       "      <td>A*66:02</td>\n",
       "      <td>9966.0</td>\n",
       "      <td>9755.0</td>\n",
       "      <td>89.91</td>\n",
       "      <td>90.27</td>\n",
       "      <td>Positive</td>\n",
       "      <td>20291</td>\n",
       "      <td>248</td>\n",
       "      <td></td>\n",
       "      <td></td>\n",
       "    </tr>\n",
       "    <tr>\n",
       "      <th>6381</th>\n",
       "      <td>3622</td>\n",
       "      <td>NaN</td>\n",
       "      <td></td>\n",
       "      <td></td>\n",
       "      <td></td>\n",
       "      <td>NaN</td>\n",
       "      <td></td>\n",
       "      <td>229</td>\n",
       "      <td>A*66:01</td>\n",
       "      <td>4128.0</td>\n",
       "      <td>3948.0</td>\n",
       "      <td>36.39</td>\n",
       "      <td>37.40</td>\n",
       "      <td>Positive</td>\n",
       "      <td>20291</td>\n",
       "      <td>248</td>\n",
       "      <td></td>\n",
       "      <td></td>\n",
       "    </tr>\n",
       "    <tr>\n",
       "      <th>6382</th>\n",
       "      <td>3622</td>\n",
       "      <td>NaN</td>\n",
       "      <td></td>\n",
       "      <td></td>\n",
       "      <td></td>\n",
       "      <td>NaN</td>\n",
       "      <td></td>\n",
       "      <td>251</td>\n",
       "      <td>B*27:05</td>\n",
       "      <td>327.0</td>\n",
       "      <td>144.0</td>\n",
       "      <td>0.96</td>\n",
       "      <td>0.99</td>\n",
       "      <td>Negative</td>\n",
       "      <td>20291</td>\n",
       "      <td>248</td>\n",
       "      <td></td>\n",
       "      <td></td>\n",
       "    </tr>\n",
       "    <tr>\n",
       "      <th>6383</th>\n",
       "      <td>3622</td>\n",
       "      <td>NaN</td>\n",
       "      <td></td>\n",
       "      <td></td>\n",
       "      <td></td>\n",
       "      <td>NaN</td>\n",
       "      <td></td>\n",
       "      <td>299</td>\n",
       "      <td>C*18:01</td>\n",
       "      <td>342.0</td>\n",
       "      <td>-8.0</td>\n",
       "      <td>-0.03</td>\n",
       "      <td>-0.05</td>\n",
       "      <td>Negative</td>\n",
       "      <td>20291</td>\n",
       "      <td>248</td>\n",
       "      <td></td>\n",
       "      <td></td>\n",
       "    </tr>\n",
       "  </tbody>\n",
       "</table>\n",
       "<p>4484 rows × 18 columns</p>\n",
       "</div>"
      ],
      "text/plain": [
       "      sample ID  patient Name  patient DOB  hla Type  draw Dt  donor Number  \\\n",
       "0          2767           NaN               C2                                \n",
       "1          2767           NaN               C2                                \n",
       "2          2767           NaN               C2                                \n",
       "3          2767           NaN               C2                                \n",
       "4          2767           NaN               C2                                \n",
       "...         ...           ...          ...       ...      ...           ...   \n",
       "6379       3622           NaN                                           NaN   \n",
       "6380       3622           NaN                                           NaN   \n",
       "6381       3622           NaN                                           NaN   \n",
       "6382       3622           NaN                                           NaN   \n",
       "6383       3622           NaN                                           NaN   \n",
       "\n",
       "      donor Center Number  bead   allele  raw Value      BCM    BCR  AD-BCR  \\\n",
       "0                           228  A*43:01      175.0    -48.0  -0.53   -0.60   \n",
       "1                           274  B*55:01      159.0   -101.0  -1.05   -1.18   \n",
       "2                           273  B*54:01      160.0    -67.0  -0.70   -0.77   \n",
       "3                           272  B*53:01      145.0    -64.0  -0.67   -0.72   \n",
       "4                           271  B*52:01      166.0    -71.0  -0.74   -0.84   \n",
       "...                   ...   ...      ...        ...      ...    ...     ...   \n",
       "6379                        231  A*68:01    11005.5  10818.5  99.71  101.64   \n",
       "6380                        230  A*66:02     9966.0   9755.0  89.91   90.27   \n",
       "6381                        229  A*66:01     4128.0   3948.0  36.39   37.40   \n",
       "6382                        251  B*27:05      327.0    144.0   0.96    0.99   \n",
       "6383                        299  C*18:01      342.0     -8.0  -0.03   -0.05   \n",
       "\n",
       "        assignment  Probe 77  CON1  CON2  CON3  \n",
       "0     Negative         16328   208              \n",
       "1     Negative         16328   208              \n",
       "2     Negative         16328   208              \n",
       "3     Negative         16328   208              \n",
       "4     Negative         16328   208              \n",
       "...            ...       ...   ...   ...   ...  \n",
       "6379    Positive       20291   248              \n",
       "6380    Positive       20291   248              \n",
       "6381    Positive       20291   248              \n",
       "6382    Negative       20291   248              \n",
       "6383    Negative       20291   248              \n",
       "\n",
       "[4484 rows x 18 columns]"
      ]
     },
     "execution_count": 134,
     "metadata": {},
     "output_type": "execute_result"
    }
   ],
   "source": [
    "path_I = '/Users/Danial/UMCUtrecht/Leuven/lsa_per_multi_tx/LSA1 2801-3188.csv'\n",
    "path_II = '/Users/Danial/UMCUtrecht/Leuven/lsa_per_multi_tx/LSA2 2974-3188.csv'\n",
    "path_III = '/Users/Danial/UMCUtrecht/Leuven/lsa_per_multi_tx/LSA1-2860,72 2963 3003,06,75 3104.csv'\n",
    "path_IV = '/Users/Danial/UMCUtrecht/Leuven/lsa_per_multi_tx/LSA1-170131-IWT1.csv'\n",
    "path_V = '/Users/Danial/UMCUtrecht/Leuven/lsa_per_multi_tx/LSA1-170214-IWT2.csv'\n",
    "path_VI = '/Users/Danial/UMCUtrecht/Leuven/lsa_per_multi_tx/LSA1-170221-IWT.csv'\n",
    "path_VII = '/Users/Danial/UMCUtrecht/Leuven/lsa_per_multi_tx/LSA1-170509-IWT6.csv'\n",
    "\n",
    "cols = [\n",
    "    'sample ID', 'patient Name', 'patient DOB', 'hla Type', 'draw Dt', 'donor Number', \n",
    "    'donor Center Number', 'bead', 'allele', 'raw Value', 'BCM', 'BCR', 'AD-BCR', \n",
    "    'assignment', 'Probe 77', 'CON1', 'CON2', 'CON3'\n",
    "]\n",
    "\n",
    "dfs = [\n",
    "    pd.read_csv(path, names=cols, header=0).set_index('sample ID') \n",
    "                for path in [path_I, path_II, path_III, path_IV, path_V, path_VI, path_VII]\n",
    "]\n",
    "df = pd.concat(dfs).sort_index().reset_index().drop_duplicates()\n",
    "df.to_csv('/Users/Danial/UMCUtrecht/Leuven/lsa_per_multi_tx/joined.csv')\n",
    "df\n"
   ]
  },
  {
   "cell_type": "code",
   "execution_count": 86,
   "metadata": {},
   "outputs": [
    {
     "name": "stdout",
     "output_type": "stream",
     "text": [
      "13\n",
      "8\n",
      "7\n",
      "14\n",
      "15\n",
      "2\n",
      "5\n"
     ]
    }
   ],
   "source": [
    "tx_ids = set() \n",
    "tx_df_vs_ids = {}\n",
    "shapes = []\n",
    "for i in range(7):\n",
    "    tx_ids.update(dfs[i].index.unique())\n",
    "    tx_df_vs_ids[i] = set(dfs[i].index.unique())\n",
    "    shapes.append(dfs[i].shape[0])\n",
    "    print(len((dfs[i].index.unique())))"
   ]
  },
  {
   "cell_type": "code",
   "execution_count": 125,
   "metadata": {},
   "outputs": [
    {
     "name": "stdout",
     "output_type": "stream",
     "text": [
      "i:0 and j:1 {3042, 3140, 3118, 2990, 3026, 3188, 2974, 3135}\n",
      "i:0 and j:2 set()\n",
      "i:0 and j:3 {3105, 3042, 3140, 2885, 2990, 3118, 3152, 3026, 2867, 3188, 3002, 2974, 3135}\n",
      "i:0 and j:4 set()\n",
      "i:0 and j:5 set()\n",
      "i:1 and j:2 set()\n",
      "i:1 and j:3 {3042, 3140, 3118, 2990, 3026, 3188, 2974, 3135}\n",
      "i:1 and j:4 set()\n",
      "i:1 and j:5 set()\n",
      "i:2 and j:3 set()\n",
      "i:2 and j:4 {3104, 3075, 2860, 2963, 2872, 3003, 3006}\n",
      "i:2 and j:5 set()\n",
      "i:3 and j:4 set()\n",
      "i:3 and j:5 set()\n",
      "i:4 and j:5 set()\n"
     ]
    }
   ],
   "source": [
    "# Check which files have sample overlap\n",
    "for i in range(6):\n",
    "    for j in range(i + 1, 6):\n",
    "        print(f'i:{i} and j:{j}', tx_df_vs_ids[i] & tx_df_vs_ids[j])"
   ]
  },
  {
   "cell_type": "markdown",
   "metadata": {},
   "source": [
    "# Single Files"
   ]
  },
  {
   "cell_type": "code",
   "execution_count": 34,
   "metadata": {},
   "outputs": [],
   "source": [
    "class_I = {2867, 2885, 2974, 2990, 3002, 3026, 3042, 3105, 3118, 3135, 3140, 3152, 3188}\n",
    "class_II = {2974, 2990, 3026, 3042, 3118, 3135, 3140, 3188}\n",
    "all_new = class_I.union(class_II).union({2767, 2838, 2801, 2835, 2896, 2907, 3703})"
   ]
  },
  {
   "cell_type": "code",
   "execution_count": 35,
   "metadata": {},
   "outputs": [
    {
     "data": {
      "text/plain": [
       "20"
      ]
     },
     "execution_count": 35,
     "metadata": {},
     "output_type": "execute_result"
    }
   ],
   "source": [
    "len(all_new)"
   ]
  },
  {
   "cell_type": "code",
   "execution_count": 38,
   "metadata": {},
   "outputs": [
    {
     "data": {
      "text/plain": [
       "20"
      ]
     },
     "execution_count": 38,
     "metadata": {},
     "output_type": "execute_result"
    }
   ],
   "source": [
    "len(tx_ids_no_lsa & all_new)"
   ]
  },
  {
   "cell_type": "code",
   "execution_count": 39,
   "metadata": {},
   "outputs": [
    {
     "data": {
      "text/plain": [
       "{2817, 2860, 2872, 2963, 2982, 3003, 3006, 3075, 3104, 3529, 3546}"
      ]
     },
     "execution_count": 39,
     "metadata": {},
     "output_type": "execute_result"
    }
   ],
   "source": [
    "tx_ids_no_lsa - all_new"
   ]
  },
  {
   "cell_type": "code",
   "execution_count": null,
   "metadata": {},
   "outputs": [],
   "source": []
  }
 ],
 "metadata": {
  "kernelspec": {
   "display_name": "Python 3.8.6 ('desa_paper-IhoHddMh')",
   "language": "python",
   "name": "python3"
  },
  "language_info": {
   "codemirror_mode": {
    "name": "ipython",
    "version": 3
   },
   "file_extension": ".py",
   "mimetype": "text/x-python",
   "name": "python",
   "nbconvert_exporter": "python",
   "pygments_lexer": "ipython3",
   "version": "3.8.6"
  },
  "orig_nbformat": 4,
  "vscode": {
   "interpreter": {
    "hash": "708b3676616ca1f6951c8b5aa02ebb124c704b4e02ce2c0aaabd24e4641a0ea4"
   }
  }
 },
 "nbformat": 4,
 "nbformat_minor": 2
}
