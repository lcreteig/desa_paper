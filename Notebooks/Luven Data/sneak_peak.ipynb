{
 "cells": [
  {
   "cell_type": "code",
   "execution_count": 1,
   "metadata": {},
   "outputs": [],
   "source": [
    "import pandas as pd"
   ]
  },
  {
   "cell_type": "markdown",
   "metadata": {},
   "source": [
    "### Information on Leuven Data\n",
    "You should discard the SAB data for 2790 as this patient is from the remaining cohort with missing complete HR HLA data, which was excluded from our JASN paper."
   ]
  },
  {
   "cell_type": "code",
   "execution_count": 2,
   "metadata": {},
   "outputs": [],
   "source": [
    "path = '/Users/Danial/UMCUtrecht/Leuven/LEUVEN cohort_AS.xlsx'\n",
    "df = pd.read_excel(path)\n",
    "# df.columns"
   ]
  },
  {
   "cell_type": "code",
   "execution_count": 2,
   "metadata": {},
   "outputs": [
    {
     "data": {
      "text/plain": [
       "55"
      ]
     },
     "execution_count": 2,
     "metadata": {},
     "output_type": "execute_result"
    }
   ],
   "source": [
    "import os\n",
    "files = os.listdir('/Users/Danial/UMCUtrecht/Leuven/csv files preDSA IWT cohort/')\n",
    "csv_ids_we_have = set()\n",
    "for file in files:\n",
    "    id = file.split('.')[0].split(' ')[0]\n",
    "    if id.isdigit():\n",
    "        csv_ids_we_have.add(int(id))"
   ]
  },
  {
   "cell_type": "code",
   "execution_count": 4,
   "metadata": {},
   "outputs": [],
   "source": [
    "tx_id_with_dsa = set(df[df['Overall_preTX_DSA'] == 1]['TX ID number'].values)"
   ]
  },
  {
   "cell_type": "code",
   "execution_count": 5,
   "metadata": {},
   "outputs": [],
   "source": [
    "pdf_lsa = {3279, 3371, 3453, 3466, 3502, 3608, 3524, 3565, 3478, 3656}\n",
    "assert len(pdf_lsa & tx_id_with_dsa) == len(pdf_lsa)"
   ]
  },
  {
   "cell_type": "code",
   "execution_count": 6,
   "metadata": {},
   "outputs": [
    {
     "data": {
      "text/plain": [
       "4"
      ]
     },
     "execution_count": 6,
     "metadata": {},
     "output_type": "execute_result"
    }
   ],
   "source": [
    "other_csv_ids = {2841, 3111, 2876, 3406} \n",
    "assert len(other_csv_ids & tx_id_with_dsa) == len(other_csv_ids)\n",
    "len(other_csv_ids)"
   ]
  },
  {
   "cell_type": "code",
   "execution_count": 7,
   "metadata": {},
   "outputs": [
    {
     "data": {
      "text/plain": [
       "{2790}"
      ]
     },
     "execution_count": 7,
     "metadata": {},
     "output_type": "execute_result"
    }
   ],
   "source": [
    "assert len((csv_ids_we_have - {2790}) & tx_id_with_dsa) == len(csv_ids_we_have - {2790})\n",
    "\n",
    "len(csv_ids_we_have & tx_id_with_dsa)\n",
    "csv_ids_we_have - tx_id_with_dsa"
   ]
  },
  {
   "cell_type": "code",
   "execution_count": 36,
   "metadata": {},
   "outputs": [
    {
     "data": {
      "text/plain": [
       "{2767,\n",
       " 2801,\n",
       " 2817,\n",
       " 2835,\n",
       " 2838,\n",
       " 2860,\n",
       " 2867,\n",
       " 2872,\n",
       " 2885,\n",
       " 2896,\n",
       " 2907,\n",
       " 2963,\n",
       " 2974,\n",
       " 2982,\n",
       " 2990,\n",
       " 3002,\n",
       " 3003,\n",
       " 3006,\n",
       " 3026,\n",
       " 3042,\n",
       " 3075,\n",
       " 3104,\n",
       " 3105,\n",
       " 3118,\n",
       " 3135,\n",
       " 3140,\n",
       " 3152,\n",
       " 3188,\n",
       " 3529,\n",
       " 3546,\n",
       " 3703}"
      ]
     },
     "execution_count": 36,
     "metadata": {},
     "output_type": "execute_result"
    }
   ],
   "source": [
    "tx_ids_no_lsa = tx_id_with_dsa - csv_ids_we_have.union(pdf_lsa).union(other_csv_ids)\n",
    "len(tx_ids_no_lsa)"
   ]
  },
  {
   "cell_type": "code",
   "execution_count": 9,
   "metadata": {},
   "outputs": [
    {
     "name": "stdout",
     "output_type": "stream",
     "text": [
      "95\n",
      "55\n",
      "10\n",
      "4\n"
     ]
    },
    {
     "data": {
      "text/plain": [
       "65"
      ]
     },
     "execution_count": 9,
     "metadata": {},
     "output_type": "execute_result"
    }
   ],
   "source": [
    "print(len(tx_id_with_dsa))\n",
    "print(len(csv_ids_we_have))\n",
    "print(len(pdf_lsa))\n",
    "print(len(other_csv_ids))\n",
    "len(csv_ids_we_have.union(pdf_lsa).union(other_csv_ids))"
   ]
  },
  {
   "cell_type": "code",
   "execution_count": 31,
   "metadata": {},
   "outputs": [],
   "source": []
  },
  {
   "cell_type": "markdown",
   "metadata": {},
   "source": [
    "## New Data September 2022"
   ]
  },
  {
   "cell_type": "code",
   "execution_count": 22,
   "metadata": {},
   "outputs": [],
   "source": [
    "path_I = '/Users/Danial/UMCUtrecht/Leuven/LSA HO study/LSA1 2801-3188.csv'\n",
    "path_II = '/Users/Danial/UMCUtrecht/Leuven/LSA HO study/LSA2 2974-3188.csv'\n",
    "df = pd.read_csv(path_II)"
   ]
  },
  {
   "cell_type": "code",
   "execution_count": 23,
   "metadata": {},
   "outputs": [
    {
     "data": {
      "text/plain": [
       "{2974, 2990, 3026, 3042, 3118, 3135, 3140, 3188}"
      ]
     },
     "execution_count": 23,
     "metadata": {},
     "output_type": "execute_result"
    }
   ],
   "source": [
    "set(df['sample ID   '].unique())"
   ]
  },
  {
   "cell_type": "code",
   "execution_count": 34,
   "metadata": {},
   "outputs": [],
   "source": [
    "class_I = {2867, 2885, 2974, 2990, 3002, 3026, 3042, 3105, 3118, 3135, 3140, 3152, 3188}\n",
    "class_II = {2974, 2990, 3026, 3042, 3118, 3135, 3140, 3188}\n",
    "all_new = class_I.union(class_II).union({2767, 2838, 2801, 2835, 2896, 2907, 3703})"
   ]
  },
  {
   "cell_type": "code",
   "execution_count": 35,
   "metadata": {},
   "outputs": [
    {
     "data": {
      "text/plain": [
       "20"
      ]
     },
     "execution_count": 35,
     "metadata": {},
     "output_type": "execute_result"
    }
   ],
   "source": [
    "len(all_new)"
   ]
  },
  {
   "cell_type": "code",
   "execution_count": 38,
   "metadata": {},
   "outputs": [
    {
     "data": {
      "text/plain": [
       "20"
      ]
     },
     "execution_count": 38,
     "metadata": {},
     "output_type": "execute_result"
    }
   ],
   "source": [
    "len(tx_ids_no_lsa & all_new)"
   ]
  },
  {
   "cell_type": "code",
   "execution_count": 39,
   "metadata": {},
   "outputs": [
    {
     "data": {
      "text/plain": [
       "{2817, 2860, 2872, 2963, 2982, 3003, 3006, 3075, 3104, 3529, 3546}"
      ]
     },
     "execution_count": 39,
     "metadata": {},
     "output_type": "execute_result"
    }
   ],
   "source": [
    "tx_ids_no_lsa - all_new"
   ]
  },
  {
   "cell_type": "code",
   "execution_count": 42,
   "metadata": {},
   "outputs": [
    {
     "name": "stdout",
     "output_type": "stream",
     "text": [
      "True\n",
      "True\n",
      "True\n",
      "True\n",
      "True\n",
      "True\n",
      "True\n",
      "True\n",
      "True\n",
      "True\n",
      "True\n",
      "True\n",
      "True\n",
      "True\n",
      "True\n",
      "True\n",
      "True\n",
      "True\n",
      "True\n",
      "True\n"
     ]
    }
   ],
   "source": [
    "for tx in all_new:\n",
    "    assert tx in tx_id_with_dsa\n",
    "    assert tx in tx_ids_no_lsa \n",
    "    assert tx not in "
   ]
  },
  {
   "cell_type": "code",
   "execution_count": null,
   "metadata": {},
   "outputs": [],
   "source": []
  }
 ],
 "metadata": {
  "kernelspec": {
   "display_name": "Python 3.8.6 ('desa_paper-IhoHddMh')",
   "language": "python",
   "name": "python3"
  },
  "language_info": {
   "codemirror_mode": {
    "name": "ipython",
    "version": 3
   },
   "file_extension": ".py",
   "mimetype": "text/x-python",
   "name": "python",
   "nbconvert_exporter": "python",
   "pygments_lexer": "ipython3",
   "version": "3.8.6"
  },
  "orig_nbformat": 4,
  "vscode": {
   "interpreter": {
    "hash": "708b3676616ca1f6951c8b5aa02ebb124c704b4e02ce2c0aaabd24e4641a0ea4"
   }
  }
 },
 "nbformat": 4,
 "nbformat_minor": 2
}
