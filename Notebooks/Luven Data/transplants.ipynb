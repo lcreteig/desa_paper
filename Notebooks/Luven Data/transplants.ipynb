{
 "cells": [
  {
   "cell_type": "code",
   "execution_count": 23,
   "metadata": {},
   "outputs": [],
   "source": [
    "import pandas as pd"
   ]
  },
  {
   "cell_type": "code",
   "execution_count": 24,
   "metadata": {},
   "outputs": [],
   "source": [
    "path = '/Users/Danial/UMCUtrecht/Leuven/original/LEUVEN cohort_AS.xlsx'\n",
    "tx = pd.read_excel(path)"
   ]
  },
  {
   "cell_type": "code",
   "execution_count": 30,
   "metadata": {},
   "outputs": [],
   "source": [
    "df_tx = tx[['TX ID number',  'days_on_dialyse', 'txdate', 'death_censor', 'surv_time_days', 'surv_time_yr', 'repeat_tx',\n",
    "       'donor_age', 'donor_sex_M1', 'donor_type', 'donor_LD', 'donor_DCD', 'donor_DBD', 'rec_age', 'rec_sex_M1', \n",
    "       'CIT', 'induction', 'preTX_HLA_Abs', 'Overall_preTX_DSA', 'preTX_class_I_DSA', 'preTX_class_II_DSA',]]"
   ]
  },
  {
   "cell_type": "code",
   "execution_count": 31,
   "metadata": {},
   "outputs": [
    {
     "data": {
      "text/plain": [
       "death_censor  preTX_HLA_Abs\n",
       "0             0                582\n",
       "              1                182\n",
       "1             0                104\n",
       "              1                 58\n",
       "dtype: int64"
      ]
     },
     "execution_count": 31,
     "metadata": {},
     "output_type": "execute_result"
    }
   ],
   "source": [
    "# df_tx.death_censor.value_counts()\n",
    "df_tx[['death_censor', 'preTX_HLA_Abs']].value_counts()"
   ]
  },
  {
   "cell_type": "code",
   "execution_count": 42,
   "metadata": {},
   "outputs": [
    {
     "data": {
      "text/plain": [
       "preTX_HLA_Abs  Overall_preTX_DSA\n",
       "0              0                    686\n",
       "1              0                    145\n",
       "               1                     95\n",
       "dtype: int64"
      ]
     },
     "execution_count": 42,
     "metadata": {},
     "output_type": "execute_result"
    }
   ],
   "source": [
    "# tx[['TX ID number',  'days_on_dialyse', 'txdate', 'death_censor', 'surv_time_days', 'surv_time_yr', 'repeat_tx',\n",
    "#        'donor_age', 'donor_sex_M1', 'donor_LD', 'donor_DCD', 'donor_DBD', 'rec_age', 'rec_sex_M1', \n",
    "#        'CIT', 'induction', 'preTX_HLA_Abs', 'Overall_preTX_DSA', 'preTX_class_I_DSA', 'preTX_class_II_DSA',]]\n",
    "df_tx[['preTX_HLA_Abs', 'Overall_preTX_DSA']].value_counts()"
   ]
  },
  {
   "cell_type": "code",
   "execution_count": 40,
   "metadata": {},
   "outputs": [
    {
     "data": {
      "text/plain": [
       "donor_type  donor_LD  donor_DCD  donor_DBD\n",
       "1           0         0          1            732\n",
       "2           0         1          0            152\n",
       "0           1         0          0             42\n",
       "dtype: int64"
      ]
     },
     "execution_count": 40,
     "metadata": {},
     "output_type": "execute_result"
    }
   ],
   "source": [
    "df_tx[['donor_type', 'donor_LD', 'donor_DCD', 'donor_DBD']].value_counts()"
   ]
  },
  {
   "cell_type": "code",
   "execution_count": null,
   "metadata": {},
   "outputs": [],
   "source": []
  }
 ],
 "metadata": {
  "kernelspec": {
   "display_name": "Python 3.8.6 ('desa_paper-IhoHddMh')",
   "language": "python",
   "name": "python3"
  },
  "language_info": {
   "codemirror_mode": {
    "name": "ipython",
    "version": 3
   },
   "file_extension": ".py",
   "mimetype": "text/x-python",
   "name": "python",
   "nbconvert_exporter": "python",
   "pygments_lexer": "ipython3",
   "version": "3.8.6"
  },
  "orig_nbformat": 4,
  "vscode": {
   "interpreter": {
    "hash": "708b3676616ca1f6951c8b5aa02ebb124c704b4e02ce2c0aaabd24e4641a0ea4"
   }
  }
 },
 "nbformat": 4,
 "nbformat_minor": 2
}
