{
 "cells": [
  {
   "cell_type": "code",
   "execution_count": 29,
   "metadata": {},
   "outputs": [],
   "source": [
    "import pandas as pd"
   ]
  },
  {
   "cell_type": "code",
   "execution_count": 30,
   "metadata": {},
   "outputs": [],
   "source": [
    "path = '/Users/Danial/UMCUtrecht/Leuven/original/LEUVEN cohort_AS.xlsx'\n",
    "tx = pd.read_excel(path)"
   ]
  },
  {
   "cell_type": "code",
   "execution_count": 31,
   "metadata": {},
   "outputs": [],
   "source": [
    "df_tx = tx[['TX ID number',  'days_on_dialyse', 'txdate', 'death_censor', 'surv_time_days', 'surv_time_yr', 'repeat_tx',\n",
    "       'donor_age', 'donor_sex_M1', 'donor_type', 'donor_LD', 'donor_DCD', 'donor_DBD', 'rec_age', 'rec_sex_M1', \n",
    "       'CIT', 'induction', 'preTX_HLA_Abs', 'Overall_preTX_DSA', 'preTX_class_I_DSA', 'preTX_DSA_A', 'preTX_DSA_B', \n",
    "       'preTX_DSA_C', 'preTX_class_II_DSA', 'preTX_DSA_DR', 'preTX_DSA_DQ', 'preTX_DSA_DP',]]"
   ]
  },
  {
   "cell_type": "code",
   "execution_count": 32,
   "metadata": {},
   "outputs": [
    {
     "data": {
      "text/plain": [
       "{2801, 2835, 2838, 2896, 2907}"
      ]
     },
     "execution_count": 32,
     "metadata": {},
     "output_type": "execute_result"
    }
   ],
   "source": [
    "# df_tx.death_censor.value_counts()\n",
    "# df_tx[['death_censor', 'preTX_HLA_Abs']].value_counts()\n",
    "tx_ids_ds = set(df_tx[df_tx['Overall_preTX_DSA'] == 1]['TX ID number'].unique())\n",
    "excel_ids = {2801, 2835, 2838, 2896, 2907}\n",
    "csv_ids = {\n",
    "    3075, 3591, 3594, 3607, 3104, 3105, 3622, 3111, 3626, 3118, 3135, 3140, 3152, 3665, 3179, 3700, 3188,\n",
    "    3703, 3705, 3211, 3218, 3730, 3731, 3229, 3742, 3765, 3775, 3265, 3272, 3784, 2767, 3793, 3797, 3798, \n",
    "    3288, 3802, 3295, 3296, 3811, 2790, 2797, 3312, 3824, 2801, 2817, 3845, 3850, 2835, 3861, 2838, 3353, \n",
    "    2841, 2860, 2867, 2872, 2876, 2885, 3406, 2896, 2907, 3420, 3421, 3423, 3428, 3451, 3452, 3453, 3456,\n",
    "    3463, 3466, 2963, 3478, 3481, 2974, 3490, 2990, 2992, 3002, 3003, 3006, 3520, 3535, 3026, 3042, 3560}\n",
    "pdf_ids = {3279, 3371, 3453, 3466, 3478, 3502, 3608, 3524, 3565, 3656}\n",
    "tx_ids_ds - csv_ids - excel_ids - pdf_ids\n",
    "# csv_ids  & excel_ids\n",
    "# {3279, 3371, 3453, 3466, 3478, 3502, 3608, 3524, 3565, 3656}\n",
    "tx_ids_ds - csv_ids \n",
    "# len(pdf_ids & tx_ids_ds )\n",
    "csv_ids & pdf_ids \n",
    "# excel_ids & csv_ids \n",
    "excel_ids & csv_ids  "
   ]
  },
  {
   "cell_type": "code",
   "execution_count": 33,
   "metadata": {},
   "outputs": [
    {
     "data": {
      "text/plain": [
       "preTX_HLA_Abs  Overall_preTX_DSA\n",
       "0              0                    686\n",
       "1              0                    145\n",
       "               1                     95\n",
       "dtype: int64"
      ]
     },
     "execution_count": 33,
     "metadata": {},
     "output_type": "execute_result"
    }
   ],
   "source": [
    "# tx[['TX ID number',  'days_on_dialyse', 'txdate', 'death_censor', 'surv_time_days', 'surv_time_yr', 'repeat_tx',\n",
    "#        'donor_age', 'donor_sex_M1', 'donor_LD', 'donor_DCD', 'donor_DBD', 'rec_age', 'rec_sex_M1', \n",
    "#        'CIT', 'induction', 'preTX_HLA_Abs', 'Overall_preTX_DSA', 'preTX_class_I_DSA', 'preTX_class_II_DSA',]]\n",
    "df_tx[['preTX_HLA_Abs', 'Overall_preTX_DSA']].value_counts()"
   ]
  },
  {
   "cell_type": "code",
   "execution_count": 6,
   "metadata": {},
   "outputs": [
    {
     "data": {
      "text/plain": [
       "donor_type  donor_LD  donor_DCD  donor_DBD\n",
       "1           0         0          1            732\n",
       "2           0         1          0            152\n",
       "0           1         0          0             42\n",
       "dtype: int64"
      ]
     },
     "execution_count": 6,
     "metadata": {},
     "output_type": "execute_result"
    }
   ],
   "source": [
    "df_tx[['donor_type', 'donor_LD', 'donor_DCD', 'donor_DBD']].value_counts()"
   ]
  },
  {
   "cell_type": "code",
   "execution_count": 7,
   "metadata": {},
   "outputs": [
    {
     "data": {
      "text/html": [
       "<div>\n",
       "<style scoped>\n",
       "    .dataframe tbody tr th:only-of-type {\n",
       "        vertical-align: middle;\n",
       "    }\n",
       "\n",
       "    .dataframe tbody tr th {\n",
       "        vertical-align: top;\n",
       "    }\n",
       "\n",
       "    .dataframe thead th {\n",
       "        text-align: right;\n",
       "    }\n",
       "</style>\n",
       "<table border=\"1\" class=\"dataframe\">\n",
       "  <thead>\n",
       "    <tr style=\"text-align: right;\">\n",
       "      <th></th>\n",
       "      <th>TX ID number</th>\n",
       "      <th>preTX_HLA_Abs</th>\n",
       "      <th>Overall_preTX_DSA</th>\n",
       "      <th>preTX_class_I_DSA</th>\n",
       "      <th>preTX_class_II_DSA</th>\n",
       "    </tr>\n",
       "  </thead>\n",
       "  <tbody>\n",
       "    <tr>\n",
       "      <th>53</th>\n",
       "      <td>2801</td>\n",
       "      <td>1</td>\n",
       "      <td>1</td>\n",
       "      <td>2</td>\n",
       "      <td>1</td>\n",
       "    </tr>\n",
       "  </tbody>\n",
       "</table>\n",
       "</div>"
      ],
      "text/plain": [
       "    TX ID number  preTX_HLA_Abs  Overall_preTX_DSA preTX_class_I_DSA  \\\n",
       "53          2801              1                  1                 2   \n",
       "\n",
       "    preTX_class_II_DSA  \n",
       "53                   1  "
      ]
     },
     "execution_count": 7,
     "metadata": {},
     "output_type": "execute_result"
    }
   ],
   "source": [
    "df_tx[df_tx['TX ID number'].eq(2801)][['TX ID number', 'preTX_HLA_Abs', 'Overall_preTX_DSA', 'preTX_class_I_DSA', 'preTX_class_II_DSA']]"
   ]
  },
  {
   "cell_type": "code",
   "execution_count": 8,
   "metadata": {},
   "outputs": [
    {
     "data": {
      "text/plain": [
       "0      831\n",
       "2       40\n",
       "1       34\n",
       "1 2     21\n",
       "Name: preTX_class_I_DSA, dtype: int64"
      ]
     },
     "execution_count": 8,
     "metadata": {},
     "output_type": "execute_result"
    }
   ],
   "source": [
    "df_tx.preTX_class_I_DSA.value_counts()"
   ]
  },
  {
   "cell_type": "code",
   "execution_count": 9,
   "metadata": {},
   "outputs": [
    {
     "data": {
      "text/html": [
       "<div>\n",
       "<style scoped>\n",
       "    .dataframe tbody tr th:only-of-type {\n",
       "        vertical-align: middle;\n",
       "    }\n",
       "\n",
       "    .dataframe tbody tr th {\n",
       "        vertical-align: top;\n",
       "    }\n",
       "\n",
       "    .dataframe thead th {\n",
       "        text-align: right;\n",
       "    }\n",
       "</style>\n",
       "<table border=\"1\" class=\"dataframe\">\n",
       "  <thead>\n",
       "    <tr style=\"text-align: right;\">\n",
       "      <th></th>\n",
       "      <th>Overall_preTX_DSA</th>\n",
       "      <th>preTX_class_I_DSA</th>\n",
       "      <th>preTX_DSA_A</th>\n",
       "      <th>preTX_DSA_B</th>\n",
       "      <th>preTX_DSA_C</th>\n",
       "      <th>preTX_class_II_DSA</th>\n",
       "      <th>preTX_DSA_DR</th>\n",
       "      <th>preTX_DSA_DQ</th>\n",
       "      <th>preTX_DSA_DP</th>\n",
       "    </tr>\n",
       "  </thead>\n",
       "  <tbody>\n",
       "    <tr>\n",
       "      <th>224</th>\n",
       "      <td>1</td>\n",
       "      <td>1 2</td>\n",
       "      <td>1</td>\n",
       "      <td>0</td>\n",
       "      <td>0</td>\n",
       "      <td>1</td>\n",
       "      <td>1</td>\n",
       "      <td>1</td>\n",
       "      <td>0</td>\n",
       "    </tr>\n",
       "  </tbody>\n",
       "</table>\n",
       "</div>"
      ],
      "text/plain": [
       "     Overall_preTX_DSA preTX_class_I_DSA  preTX_DSA_A  preTX_DSA_B  \\\n",
       "224                  1               1 2            1            0   \n",
       "\n",
       "     preTX_DSA_C  preTX_class_II_DSA  preTX_DSA_DR  preTX_DSA_DQ  preTX_DSA_DP  \n",
       "224            0                   1             1             1             0  "
      ]
     },
     "execution_count": 9,
     "metadata": {},
     "output_type": "execute_result"
    }
   ],
   "source": [
    "df_tx[df_tx['TX ID number'].eq(3026)][['Overall_preTX_DSA', 'preTX_class_I_DSA', 'preTX_DSA_A', 'preTX_DSA_B', 'preTX_DSA_C', 'preTX_class_II_DSA',\n",
    "       'preTX_DSA_DR', 'preTX_DSA_DQ', 'preTX_DSA_DP',]]"
   ]
  },
  {
   "cell_type": "code",
   "execution_count": 10,
   "metadata": {},
   "outputs": [
    {
     "data": {
      "text/plain": [
       "Index(['TX ID number', 'days_on_dialyse', 'txdate', 'death_censor',\n",
       "       'surv_time_days', 'surv_time_yr', 'repeat_tx', 'donor_age',\n",
       "       'donor_sex_M1', 'donor_type', 'donor_LD', 'donor_DCD', 'donor_DBD',\n",
       "       'rec_age', 'rec_sex_M1', 'CIT', 'induction', 'preTX_HLA_Abs',\n",
       "       'Overall_preTX_DSA', 'preTX_class_I_DSA', 'preTX_DSA_A', 'preTX_DSA_B',\n",
       "       'preTX_DSA_C', 'preTX_class_II_DSA', 'preTX_DSA_DR', 'preTX_DSA_DQ',\n",
       "       'preTX_DSA_DP'],\n",
       "      dtype='object')"
      ]
     },
     "execution_count": 10,
     "metadata": {},
     "output_type": "execute_result"
    }
   ],
   "source": [
    "df_tx.columns"
   ]
  },
  {
   "cell_type": "code",
   "execution_count": 11,
   "metadata": {},
   "outputs": [
    {
     "data": {
      "text/plain": [
       "donor_LD  donor_DCD  donor_DBD\n",
       "0         0          1            732\n",
       "          1          0            152\n",
       "1         0          0             42\n",
       "dtype: int64"
      ]
     },
     "execution_count": 11,
     "metadata": {},
     "output_type": "execute_result"
    }
   ],
   "source": [
    "tx[['donor_LD', 'donor_DCD', 'donor_DBD']].value_counts()"
   ]
  },
  {
   "cell_type": "code",
   "execution_count": 12,
   "metadata": {},
   "outputs": [
    {
     "data": {
      "text/plain": [
       "<AxesSubplot:>"
      ]
     },
     "execution_count": 12,
     "metadata": {},
     "output_type": "execute_result"
    },
    {
     "data": {
      "image/png": "[encoded data removed]",
      "text/plain": [
       "<Figure size 432x288 with 1 Axes>"
      ]
     },
     "metadata": {
      "needs_background": "light"
     },
     "output_type": "display_data"
    }
   ],
   "source": [
    "(tx[tx.donor_LD == 0].death_censor.value_counts(normalize=True) *100 ).plot.bar()"
   ]
  },
  {
   "cell_type": "code",
   "execution_count": 27,
   "metadata": {},
   "outputs": [
    {
     "data": {
      "text/plain": [
       "Index(['TX ID number', 'hemodialyse1_peritoneaal2', 'days_on_dialyse',\n",
       "       'txdate', 'death_censor', 'surv_time_days', 'surv_time_yr', 'repeat_tx',\n",
       "       'donor_age', 'donor_sex_M1', 'donor_type', 'donor_LD', 'donor_DCD',\n",
       "       'donor_DBD', 'rec_age', 'rec_sex_M1', 'Rec_race', 'rec_bmi_d0', 'CIT',\n",
       "       'dgf', 'WIT_minutes', 'induction', 'Immunosuppressief_protocol',\n",
       "       'TAC-MMF-CS', 'ABDR_antigen_mismatches', 'ABDRDQ_antigen_mismatches',\n",
       "       'preTX_HLA_Abs', 'Overall_preTX_DSA', 'preTX_class_I_DSA',\n",
       "       'preTX_DSA_A', 'preTX_DSA_B', 'preTX_DSA_C', 'preTX_class_II_DSA',\n",
       "       'preTX_DSA_DR', 'preTX_DSA_DQ', 'preTX_DSA_DP', 'ABMRh',\n",
       "       'lastBx_or_ABMRh_yr', 'ABMR_2019', 'lastBx_or_ABMR19', 'TCMR',\n",
       "       'lastBx_or_TCMR_yr', 'TCMR_B', 'lastBx_or_TCMR_B_yr', 'E', 'T'],\n",
       "      dtype='object')"
      ]
     },
     "execution_count": 27,
     "metadata": {},
     "output_type": "execute_result"
    }
   ],
   "source": [
    "tx.columns"
   ]
  },
  {
   "cell_type": "code",
   "execution_count": 28,
   "metadata": {},
   "outputs": [
    {
     "data": {
      "text/plain": [
       "0    764\n",
       "1    162\n",
       "Name: death_censor, dtype: int64"
      ]
     },
     "execution_count": 28,
     "metadata": {},
     "output_type": "execute_result"
    }
   ],
   "source": [
    "tx.death_censor.value_counts()"
   ]
  },
  {
   "cell_type": "code",
   "execution_count": 14,
   "metadata": {},
   "outputs": [
    {
     "data": {
      "text/plain": [
       "0    82.5054\n",
       "1    17.4946\n",
       "Name: death_censor, dtype: float64"
      ]
     },
     "execution_count": 14,
     "metadata": {},
     "output_type": "execute_result"
    }
   ],
   "source": [
    "tx.death_censor.value_counts(normalize=True) * 100"
   ]
  },
  {
   "cell_type": "code",
   "execution_count": 34,
   "metadata": {},
   "outputs": [],
   "source": [
    "time = 6.0\n",
    "def event_policy(df):\n",
    "    if df['surv_time_yr'] > time :\n",
    "        return 0\n",
    "    elif (df['surv_time_yr'] <= time) and (df['death_censor'] == 0):\n",
    "        return 1\n",
    "    elif (df['surv_time_yr'] <= time) and (df['death_censor'] == 1):\n",
    "        return 0  \n",
    "        \n",
    "tx = tx.assign(\n",
    "    # E = tx[['surv_time_yr', 'death_censor']].apply(event_policy, axis=1),\n",
    "    T = tx['surv_time_yr'].apply(lambda x: x if x <= time else time + .000001)\n",
    ")"
   ]
  },
  {
   "cell_type": "code",
   "execution_count": 35,
   "metadata": {},
   "outputs": [
    {
     "data": {
      "text/plain": [
       "(40.0, 105.0)"
      ]
     },
     "execution_count": 35,
     "metadata": {},
     "output_type": "execute_result"
    },
    {
     "data": {
      "image/png": "[encoded data removed]",
      "text/plain": [
       "<Figure size 576x360 with 2 Axes>"
      ]
     },
     "metadata": {
      "needs_background": "light"
     },
     "output_type": "display_data"
    }
   ],
   "source": [
    "from lifelines import  KaplanMeierFitter\n",
    "from lifelines.plotting import add_at_risk_counts\n",
    "import matplotlib.pyplot as plt\n",
    "import numpy as np\n",
    "\n",
    "tx = tx.rename(columns={'death_censor': 'E'})\n",
    "\n",
    "# ind_deceased = tx.donor_LD == 0\n",
    "# ind_dsa = tx['Overall_preTX_DSA'] == 1\n",
    "data_dsa = tx[tx['Overall_preTX_DSA'] == 1]\n",
    "data_no_dsa = tx[tx['Overall_preTX_DSA'] == 0]\n",
    "\n",
    "timeline = np.linspace(0,6, 1000)\n",
    "kmf1 = KaplanMeierFitter(label='DSA')\n",
    "kmf1.fit(data_dsa['T'], event_observed=data_dsa['E'], timeline=timeline) \n",
    "kmf2 = KaplanMeierFitter(label='No DSA')\n",
    "kmf2.fit(data_no_dsa['T'], event_observed=data_no_dsa['E'], timeline=timeline) \n",
    "\n",
    "fig, ax = plt.subplots(figsize=(8, 5))\n",
    "kmf1.survival_function_ = kmf1.survival_function_ * 100 \n",
    "kmf2.survival_function_ = kmf2.survival_function_ * 100 \n",
    "\n",
    "kmf1.plot(ci_show=False, ax=ax) \n",
    "kmf2.plot(ci_show=False, ax=ax) \n",
    "add_at_risk_counts(*[kmf1, kmf2], ax=ax, fontsize=15);\n",
    "\n",
    "ax.set_ylim([40, 105])"
   ]
  },
  {
   "cell_type": "code",
   "execution_count": 36,
   "metadata": {},
   "outputs": [
    {
     "data": {
      "text/html": [
       "<div>\n",
       "<style scoped>\n",
       "    .dataframe tbody tr th:only-of-type {\n",
       "        vertical-align: middle;\n",
       "    }\n",
       "\n",
       "    .dataframe tbody tr th {\n",
       "        vertical-align: top;\n",
       "    }\n",
       "\n",
       "    .dataframe thead th {\n",
       "        text-align: right;\n",
       "    }\n",
       "</style>\n",
       "<table border=\"1\" class=\"dataframe\">\n",
       "  <thead>\n",
       "    <tr style=\"text-align: right;\">\n",
       "      <th></th>\n",
       "      <th>TX ID number</th>\n",
       "      <th>hemodialyse1_peritoneaal2</th>\n",
       "      <th>days_on_dialyse</th>\n",
       "      <th>txdate</th>\n",
       "      <th>death_censor</th>\n",
       "      <th>surv_time_days</th>\n",
       "      <th>E</th>\n",
       "      <th>repeat_tx</th>\n",
       "      <th>donor_age</th>\n",
       "      <th>donor_sex_M1</th>\n",
       "      <th>...</th>\n",
       "      <th>preTX_DSA_DP</th>\n",
       "      <th>ABMRh</th>\n",
       "      <th>lastBx_or_ABMRh_yr</th>\n",
       "      <th>ABMR_2019</th>\n",
       "      <th>lastBx_or_ABMR19</th>\n",
       "      <th>TCMR</th>\n",
       "      <th>lastBx_or_TCMR_yr</th>\n",
       "      <th>TCMR_B</th>\n",
       "      <th>lastBx_or_TCMR_B_yr</th>\n",
       "      <th>T</th>\n",
       "    </tr>\n",
       "  </thead>\n",
       "  <tbody>\n",
       "    <tr>\n",
       "      <th>0</th>\n",
       "      <td>2725</td>\n",
       "      <td>1</td>\n",
       "      <td>445</td>\n",
       "      <td>2004-03-01</td>\n",
       "      <td>0</td>\n",
       "      <td>2808</td>\n",
       "      <td>7.693151</td>\n",
       "      <td>0</td>\n",
       "      <td>25.9</td>\n",
       "      <td>1</td>\n",
       "      <td>...</td>\n",
       "      <td>0</td>\n",
       "      <td>0</td>\n",
       "      <td>3.016438</td>\n",
       "      <td>0</td>\n",
       "      <td>3.016438</td>\n",
       "      <td>1</td>\n",
       "      <td>0.046575</td>\n",
       "      <td>1</td>\n",
       "      <td>0.046575</td>\n",
       "      <td>6.000001</td>\n",
       "    </tr>\n",
       "    <tr>\n",
       "      <th>1</th>\n",
       "      <td>2726</td>\n",
       "      <td>1</td>\n",
       "      <td>250</td>\n",
       "      <td>2004-03-02</td>\n",
       "      <td>0</td>\n",
       "      <td>461</td>\n",
       "      <td>1.263014</td>\n",
       "      <td>0</td>\n",
       "      <td>40.0</td>\n",
       "      <td>0</td>\n",
       "      <td>...</td>\n",
       "      <td>0</td>\n",
       "      <td>0</td>\n",
       "      <td>0.134247</td>\n",
       "      <td>0</td>\n",
       "      <td>0.134247</td>\n",
       "      <td>0</td>\n",
       "      <td>0.134247</td>\n",
       "      <td>0</td>\n",
       "      <td>0.134247</td>\n",
       "      <td>1.263014</td>\n",
       "    </tr>\n",
       "    <tr>\n",
       "      <th>2</th>\n",
       "      <td>2727</td>\n",
       "      <td>2</td>\n",
       "      <td>606</td>\n",
       "      <td>2004-03-05</td>\n",
       "      <td>0</td>\n",
       "      <td>5178</td>\n",
       "      <td>14.186301</td>\n",
       "      <td>0</td>\n",
       "      <td>33.4</td>\n",
       "      <td>1</td>\n",
       "      <td>...</td>\n",
       "      <td>0</td>\n",
       "      <td>0</td>\n",
       "      <td>4.284932</td>\n",
       "      <td>0</td>\n",
       "      <td>4.284932</td>\n",
       "      <td>0</td>\n",
       "      <td>4.284932</td>\n",
       "      <td>0</td>\n",
       "      <td>4.284932</td>\n",
       "      <td>6.000001</td>\n",
       "    </tr>\n",
       "    <tr>\n",
       "      <th>3</th>\n",
       "      <td>2728</td>\n",
       "      <td>1</td>\n",
       "      <td>1318</td>\n",
       "      <td>2004-03-06</td>\n",
       "      <td>1</td>\n",
       "      <td>3567</td>\n",
       "      <td>9.772603</td>\n",
       "      <td>0</td>\n",
       "      <td>33.4</td>\n",
       "      <td>1</td>\n",
       "      <td>...</td>\n",
       "      <td>0</td>\n",
       "      <td>1</td>\n",
       "      <td>0.241096</td>\n",
       "      <td>0</td>\n",
       "      <td>5.019178</td>\n",
       "      <td>0</td>\n",
       "      <td>5.019178</td>\n",
       "      <td>0</td>\n",
       "      <td>5.019178</td>\n",
       "      <td>6.000001</td>\n",
       "    </tr>\n",
       "    <tr>\n",
       "      <th>4</th>\n",
       "      <td>2729</td>\n",
       "      <td>1</td>\n",
       "      <td>857</td>\n",
       "      <td>2004-03-15</td>\n",
       "      <td>0</td>\n",
       "      <td>2997</td>\n",
       "      <td>8.210959</td>\n",
       "      <td>0</td>\n",
       "      <td>44.3</td>\n",
       "      <td>1</td>\n",
       "      <td>...</td>\n",
       "      <td>0</td>\n",
       "      <td>0</td>\n",
       "      <td>1.038356</td>\n",
       "      <td>0</td>\n",
       "      <td>1.038356</td>\n",
       "      <td>0</td>\n",
       "      <td>1.038356</td>\n",
       "      <td>1</td>\n",
       "      <td>0.268493</td>\n",
       "      <td>6.000001</td>\n",
       "    </tr>\n",
       "    <tr>\n",
       "      <th>...</th>\n",
       "      <td>...</td>\n",
       "      <td>...</td>\n",
       "      <td>...</td>\n",
       "      <td>...</td>\n",
       "      <td>...</td>\n",
       "      <td>...</td>\n",
       "      <td>...</td>\n",
       "      <td>...</td>\n",
       "      <td>...</td>\n",
       "      <td>...</td>\n",
       "      <td>...</td>\n",
       "      <td>...</td>\n",
       "      <td>...</td>\n",
       "      <td>...</td>\n",
       "      <td>...</td>\n",
       "      <td>...</td>\n",
       "      <td>...</td>\n",
       "      <td>...</td>\n",
       "      <td>...</td>\n",
       "      <td>...</td>\n",
       "      <td>...</td>\n",
       "    </tr>\n",
       "    <tr>\n",
       "      <th>921</th>\n",
       "      <td>3857</td>\n",
       "      <td>2</td>\n",
       "      <td>826</td>\n",
       "      <td>2013-02-04</td>\n",
       "      <td>0</td>\n",
       "      <td>2079</td>\n",
       "      <td>5.695890</td>\n",
       "      <td>0</td>\n",
       "      <td>55.8</td>\n",
       "      <td>0</td>\n",
       "      <td>...</td>\n",
       "      <td>0</td>\n",
       "      <td>0</td>\n",
       "      <td>2.175342</td>\n",
       "      <td>0</td>\n",
       "      <td>2.175342</td>\n",
       "      <td>0</td>\n",
       "      <td>2.175342</td>\n",
       "      <td>0</td>\n",
       "      <td>2.175342</td>\n",
       "      <td>5.695890</td>\n",
       "    </tr>\n",
       "    <tr>\n",
       "      <th>922</th>\n",
       "      <td>3858</td>\n",
       "      <td>1</td>\n",
       "      <td>765</td>\n",
       "      <td>2013-02-04</td>\n",
       "      <td>0</td>\n",
       "      <td>2341</td>\n",
       "      <td>6.413699</td>\n",
       "      <td>0</td>\n",
       "      <td>55.8</td>\n",
       "      <td>0</td>\n",
       "      <td>...</td>\n",
       "      <td>0</td>\n",
       "      <td>1</td>\n",
       "      <td>0.010959</td>\n",
       "      <td>0</td>\n",
       "      <td>2.032877</td>\n",
       "      <td>1</td>\n",
       "      <td>0.010959</td>\n",
       "      <td>1</td>\n",
       "      <td>0.010959</td>\n",
       "      <td>6.000001</td>\n",
       "    </tr>\n",
       "    <tr>\n",
       "      <th>923</th>\n",
       "      <td>3859</td>\n",
       "      <td>1</td>\n",
       "      <td>350</td>\n",
       "      <td>2013-02-04</td>\n",
       "      <td>0</td>\n",
       "      <td>2373</td>\n",
       "      <td>6.501370</td>\n",
       "      <td>0</td>\n",
       "      <td>51.7</td>\n",
       "      <td>1</td>\n",
       "      <td>...</td>\n",
       "      <td>0</td>\n",
       "      <td>.</td>\n",
       "      <td>.</td>\n",
       "      <td>.</td>\n",
       "      <td>.</td>\n",
       "      <td>.</td>\n",
       "      <td>.</td>\n",
       "      <td>.</td>\n",
       "      <td>.</td>\n",
       "      <td>6.000001</td>\n",
       "    </tr>\n",
       "    <tr>\n",
       "      <th>924</th>\n",
       "      <td>3860</td>\n",
       "      <td>1</td>\n",
       "      <td>772</td>\n",
       "      <td>2013-02-06</td>\n",
       "      <td>0</td>\n",
       "      <td>2294</td>\n",
       "      <td>6.284932</td>\n",
       "      <td>0</td>\n",
       "      <td>54.0</td>\n",
       "      <td>0</td>\n",
       "      <td>...</td>\n",
       "      <td>0</td>\n",
       "      <td>0</td>\n",
       "      <td>0.978082</td>\n",
       "      <td>0</td>\n",
       "      <td>0.978082</td>\n",
       "      <td>0</td>\n",
       "      <td>0.978082</td>\n",
       "      <td>0</td>\n",
       "      <td>0.978082</td>\n",
       "      <td>6.000001</td>\n",
       "    </tr>\n",
       "    <tr>\n",
       "      <th>925</th>\n",
       "      <td>3861</td>\n",
       "      <td>1</td>\n",
       "      <td>607</td>\n",
       "      <td>2013-02-06</td>\n",
       "      <td>0</td>\n",
       "      <td>2372</td>\n",
       "      <td>6.498630</td>\n",
       "      <td>1</td>\n",
       "      <td>54.0</td>\n",
       "      <td>0</td>\n",
       "      <td>...</td>\n",
       "      <td>1</td>\n",
       "      <td>0</td>\n",
       "      <td>2.030137</td>\n",
       "      <td>0</td>\n",
       "      <td>2.030137</td>\n",
       "      <td>0</td>\n",
       "      <td>2.030137</td>\n",
       "      <td>1</td>\n",
       "      <td>0.972603</td>\n",
       "      <td>6.000001</td>\n",
       "    </tr>\n",
       "  </tbody>\n",
       "</table>\n",
       "<p>926 rows × 45 columns</p>\n",
       "</div>"
      ],
      "text/plain": [
       "     TX ID number  hemodialyse1_peritoneaal2  days_on_dialyse     txdate  \\\n",
       "0            2725                          1              445 2004-03-01   \n",
       "1            2726                          1              250 2004-03-02   \n",
       "2            2727                          2              606 2004-03-05   \n",
       "3            2728                          1             1318 2004-03-06   \n",
       "4            2729                          1              857 2004-03-15   \n",
       "..            ...                        ...              ...        ...   \n",
       "921          3857                          2              826 2013-02-04   \n",
       "922          3858                          1              765 2013-02-04   \n",
       "923          3859                          1              350 2013-02-04   \n",
       "924          3860                          1              772 2013-02-06   \n",
       "925          3861                          1              607 2013-02-06   \n",
       "\n",
       "     death_censor  surv_time_days          E  repeat_tx  donor_age  \\\n",
       "0               0            2808   7.693151          0       25.9   \n",
       "1               0             461   1.263014          0       40.0   \n",
       "2               0            5178  14.186301          0       33.4   \n",
       "3               1            3567   9.772603          0       33.4   \n",
       "4               0            2997   8.210959          0       44.3   \n",
       "..            ...             ...        ...        ...        ...   \n",
       "921             0            2079   5.695890          0       55.8   \n",
       "922             0            2341   6.413699          0       55.8   \n",
       "923             0            2373   6.501370          0       51.7   \n",
       "924             0            2294   6.284932          0       54.0   \n",
       "925             0            2372   6.498630          1       54.0   \n",
       "\n",
       "     donor_sex_M1  ...  preTX_DSA_DP  ABMRh  lastBx_or_ABMRh_yr  ABMR_2019  \\\n",
       "0               1  ...             0      0            3.016438          0   \n",
       "1               0  ...             0      0            0.134247          0   \n",
       "2               1  ...             0      0            4.284932          0   \n",
       "3               1  ...             0      1            0.241096          0   \n",
       "4               1  ...             0      0            1.038356          0   \n",
       "..            ...  ...           ...    ...                 ...        ...   \n",
       "921             0  ...             0      0            2.175342          0   \n",
       "922             0  ...             0      1            0.010959          0   \n",
       "923             1  ...             0      .                   .          .   \n",
       "924             0  ...             0      0            0.978082          0   \n",
       "925             0  ...             1      0            2.030137          0   \n",
       "\n",
       "     lastBx_or_ABMR19  TCMR lastBx_or_TCMR_yr  TCMR_B  lastBx_or_TCMR_B_yr  \\\n",
       "0            3.016438     1          0.046575       1             0.046575   \n",
       "1            0.134247     0          0.134247       0             0.134247   \n",
       "2            4.284932     0          4.284932       0             4.284932   \n",
       "3            5.019178     0          5.019178       0             5.019178   \n",
       "4            1.038356     0          1.038356       1             0.268493   \n",
       "..                ...   ...               ...     ...                  ...   \n",
       "921          2.175342     0          2.175342       0             2.175342   \n",
       "922          2.032877     1          0.010959       1             0.010959   \n",
       "923                 .     .                 .       .                    .   \n",
       "924          0.978082     0          0.978082       0             0.978082   \n",
       "925          2.030137     0          2.030137       1             0.972603   \n",
       "\n",
       "            T  \n",
       "0    6.000001  \n",
       "1    1.263014  \n",
       "2    6.000001  \n",
       "3    6.000001  \n",
       "4    6.000001  \n",
       "..        ...  \n",
       "921  5.695890  \n",
       "922  6.000001  \n",
       "923  6.000001  \n",
       "924  6.000001  \n",
       "925  6.000001  \n",
       "\n",
       "[926 rows x 45 columns]"
      ]
     },
     "execution_count": 36,
     "metadata": {},
     "output_type": "execute_result"
    }
   ],
   "source": [
    "tx"
   ]
  },
  {
   "cell_type": "code",
   "execution_count": null,
   "metadata": {},
   "outputs": [],
   "source": []
  },
  {
   "cell_type": "code",
   "execution_count": 17,
   "metadata": {},
   "outputs": [
    {
     "data": {
      "text/plain": [
       "<AxesSubplot:ylabel='Frequency'>"
      ]
     },
     "execution_count": 17,
     "metadata": {},
     "output_type": "execute_result"
    },
    {
     "data": {
      "image/png": "[encoded data removed]",
      "text/plain": [
       "<Figure size 432x288 with 1 Axes>"
      ]
     },
     "metadata": {
      "needs_background": "light"
     },
     "output_type": "display_data"
    }
   ],
   "source": [
    "tx[(tx.Overall_preTX_DSA == 1) & (tx.death_censor == 0)]['surv_time_yr'].plot.hist()"
   ]
  },
  {
   "cell_type": "code",
   "execution_count": 18,
   "metadata": {},
   "outputs": [
    {
     "data": {
      "text/plain": [
       "<AxesSubplot:ylabel='Frequency'>"
      ]
     },
     "execution_count": 18,
     "metadata": {},
     "output_type": "execute_result"
    },
    {
     "data": {
      "image/png": "[encoded data removed]",
      "text/plain": [
       "<Figure size 432x288 with 1 Axes>"
      ]
     },
     "metadata": {
      "needs_background": "light"
     },
     "output_type": "display_data"
    }
   ],
   "source": [
    "tx[tx.Overall_preTX_DSA == 0]['surv_time_yr'].plot.hist()"
   ]
  },
  {
   "cell_type": "code",
   "execution_count": 19,
   "metadata": {},
   "outputs": [
    {
     "data": {
      "text/plain": [
       "(7, 46)"
      ]
     },
     "execution_count": 19,
     "metadata": {},
     "output_type": "execute_result"
    }
   ],
   "source": [
    "tx[(tx['surv_time_days'] < 90) & (tx.death_censor == 0)].shape"
   ]
  },
  {
   "cell_type": "code",
   "execution_count": 20,
   "metadata": {},
   "outputs": [
    {
     "data": {
      "text/plain": [
       "(926, 46)"
      ]
     },
     "execution_count": 20,
     "metadata": {},
     "output_type": "execute_result"
    }
   ],
   "source": [
    "tx.columns\n",
    "# tx[['death_censor', 'surv_time_yr']]\n",
    "tx.shape"
   ]
  },
  {
   "cell_type": "code",
   "execution_count": 21,
   "metadata": {},
   "outputs": [
    {
     "data": {
      "text/plain": [
       "<AxesSubplot:ylabel='Frequency'>"
      ]
     },
     "execution_count": 21,
     "metadata": {},
     "output_type": "execute_result"
    },
    {
     "data": {
      "image/png": "[encoded data removed]",
      "text/plain": [
       "<Figure size 432x288 with 1 Axes>"
      ]
     },
     "metadata": {
      "needs_background": "light"
     },
     "output_type": "display_data"
    }
   ],
   "source": [
    "tx[tx.death_censor == 0]['surv_time_yr'].plot.hist()"
   ]
  },
  {
   "cell_type": "code",
   "execution_count": 22,
   "metadata": {},
   "outputs": [
    {
     "data": {
      "text/plain": [
       "Index(['TX ID number', 'hemodialyse1_peritoneaal2', 'days_on_dialyse',\n",
       "       'txdate', 'death_censor', 'surv_time_days', 'surv_time_yr', 'repeat_tx',\n",
       "       'donor_age', 'donor_sex_M1', 'donor_type', 'donor_LD', 'donor_DCD',\n",
       "       'donor_DBD', 'rec_age', 'rec_sex_M1', 'Rec_race', 'rec_bmi_d0', 'CIT',\n",
       "       'dgf', 'WIT_minutes', 'induction', 'Immunosuppressief_protocol',\n",
       "       'TAC-MMF-CS', 'ABDR_antigen_mismatches', 'ABDRDQ_antigen_mismatches',\n",
       "       'preTX_HLA_Abs', 'Overall_preTX_DSA', 'preTX_class_I_DSA',\n",
       "       'preTX_DSA_A', 'preTX_DSA_B', 'preTX_DSA_C', 'preTX_class_II_DSA',\n",
       "       'preTX_DSA_DR', 'preTX_DSA_DQ', 'preTX_DSA_DP', 'ABMRh',\n",
       "       'lastBx_or_ABMRh_yr', 'ABMR_2019', 'lastBx_or_ABMR19', 'TCMR',\n",
       "       'lastBx_or_TCMR_yr', 'TCMR_B', 'lastBx_or_TCMR_B_yr', 'E', 'T'],\n",
       "      dtype='object')"
      ]
     },
     "execution_count": 22,
     "metadata": {},
     "output_type": "execute_result"
    }
   ],
   "source": [
    "tx.columns"
   ]
  },
  {
   "cell_type": "code",
   "execution_count": 23,
   "metadata": {},
   "outputs": [
    {
     "data": {
      "text/plain": [
       "0    543\n",
       "1    383\n",
       "Name: induction, dtype: int64"
      ]
     },
     "execution_count": 23,
     "metadata": {},
     "output_type": "execute_result"
    }
   ],
   "source": [
    "tx.induction.value_counts()"
   ]
  },
  {
   "cell_type": "code",
   "execution_count": 24,
   "metadata": {},
   "outputs": [
    {
     "data": {
      "text/plain": [
       "0       7.693151\n",
       "1       1.263014\n",
       "2      14.186301\n",
       "3       9.772603\n",
       "4       8.210959\n",
       "         ...    \n",
       "921     5.695890\n",
       "922     6.413699\n",
       "923     6.501370\n",
       "924     6.284932\n",
       "925     6.498630\n",
       "Name: surv_time_days, Length: 926, dtype: float64"
      ]
     },
     "execution_count": 24,
     "metadata": {},
     "output_type": "execute_result"
    }
   ],
   "source": [
    "tx.surv_time_days /365"
   ]
  },
  {
   "cell_type": "code",
   "execution_count": 25,
   "metadata": {},
   "outputs": [
    {
     "data": {
      "text/plain": [
       "<AxesSubplot:ylabel='Frequency'>"
      ]
     },
     "execution_count": 25,
     "metadata": {},
     "output_type": "execute_result"
    },
    {
     "data": {
      "image/png": "[encoded data removed]",
      "text/plain": [
       "<Figure size 432x288 with 1 Axes>"
      ]
     },
     "metadata": {
      "needs_background": "light"
     },
     "output_type": "display_data"
    }
   ],
   "source": [
    "tx[(tx.death_censor == 1)]['surv_time_yr'].plot.hist()"
   ]
  },
  {
   "cell_type": "code",
   "execution_count": 26,
   "metadata": {},
   "outputs": [
    {
     "data": {
      "text/plain": [
       "(32, 46)"
      ]
     },
     "execution_count": 26,
     "metadata": {},
     "output_type": "execute_result"
    }
   ],
   "source": [
    "tx[(tx.death_censor == 1) & (tx.Overall_preTX_DSA ==1)].shape"
   ]
  },
  {
   "cell_type": "code",
   "execution_count": null,
   "metadata": {},
   "outputs": [],
   "source": []
  }
 ],
 "metadata": {
  "kernelspec": {
   "display_name": "Python 3.8.6 ('desa_paper-IhoHddMh')",
   "language": "python",
   "name": "python3"
  },
  "language_info": {
   "codemirror_mode": {
    "name": "ipython",
    "version": 3
   },
   "file_extension": ".py",
   "mimetype": "text/x-python",
   "name": "python",
   "nbconvert_exporter": "python",
   "pygments_lexer": "ipython3",
   "version": "3.8.6"
  },
  "orig_nbformat": 4,
  "vscode": {
   "interpreter": {
    "hash": "708b3676616ca1f6951c8b5aa02ebb124c704b4e02ce2c0aaabd24e4641a0ea4"
   }
  }
 },
 "nbformat": 4,
 "nbformat_minor": 2
}
